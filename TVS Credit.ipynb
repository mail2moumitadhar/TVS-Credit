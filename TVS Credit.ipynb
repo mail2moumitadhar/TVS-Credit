{
  "cells": [
    {
      "cell_type": "code",
      "execution_count": 309,
      "metadata": {
        "id": "1081ca03"
      },
      "outputs": [],
      "source": [
        "import numpy as np\n",
        "import pandas as pd\n",
        "import matplotlib.pyplot as plt\n",
        "#matplotlib inline\n",
        "import seaborn as sns\n",
        "from sklearn.model_selection import train_test_split\n",
        "from imblearn.over_sampling import SMOTE\n",
        "from sklearn.metrics import precision_score,accuracy_score,recall_score,mean_squared_error,confusion_matrix,classification_report,roc_auc_score,f1_score\n",
        "import xgboost as xgb\n",
        "from sklearn.preprocessing import MinMaxScaler\n",
        "from sklearn import model_selection\n",
        "import pickle\n",
        "from sklearn.ensemble import RandomForestClassifier\n",
        "from sklearn.neighbors import KNeighborsClassifier\n",
        "from sklearn.linear_model import LogisticRegression\n",
        "from sklearn.tree import DecisionTreeClassifier\n",
        "from sklearn.svm import SVC\n",
        "from sklearn.naive_bayes import GaussianNB\n",
        "from sklearn.ensemble import BaggingClassifier\n",
        "from sklearn.ensemble import AdaBoostClassifier\n",
        "from sklearn.ensemble import GradientBoostingClassifier\n",
        "import lightgbm as lgb\n",
        "import logging\n",
        "import warnings\n",
        "from scipy import stats\n",
        "from scipy.stats import randint\n",
        "from sklearn.model_selection import RandomizedSearchCV,GridSearchCV\n",
        "from sklearn.model_selection import KFold\n",
        "from scipy.stats import randint as sp_randint\n",
        "from google.colab import drive\n",
        "from sklearn.decomposition import PCA\n",
        "\n",
        "import pandas as pd\n",
        "import numpy as np\n",
        "from sklearn.model_selection import train_test_split\n",
        "from sklearn import preprocessing\n",
        "\n"
      ],
      "id": "1081ca03"
    },
    {
      "cell_type": "code",
      "source": [
        "!pip install category_encoders\n"
      ],
      "metadata": {
        "colab": {
          "base_uri": "https://localhost:8080/"
        },
        "id": "oVxMp9sc8cbI",
        "outputId": "4116b362-5c2b-4d10-f493-abf0c4c1e73c"
      },
      "id": "oVxMp9sc8cbI",
      "execution_count": 310,
      "outputs": [
        {
          "output_type": "stream",
          "name": "stdout",
          "text": [
            "Looking in indexes: https://pypi.org/simple, https://us-python.pkg.dev/colab-wheels/public/simple/\n",
            "Requirement already satisfied: category_encoders in /usr/local/lib/python3.7/dist-packages (2.5.0)\n",
            "Requirement already satisfied: statsmodels>=0.9.0 in /usr/local/lib/python3.7/dist-packages (from category_encoders) (0.10.2)\n",
            "Requirement already satisfied: scipy>=1.0.0 in /usr/local/lib/python3.7/dist-packages (from category_encoders) (1.7.3)\n",
            "Requirement already satisfied: pandas>=1.0.5 in /usr/local/lib/python3.7/dist-packages (from category_encoders) (1.3.5)\n",
            "Requirement already satisfied: numpy>=1.14.0 in /usr/local/lib/python3.7/dist-packages (from category_encoders) (1.21.6)\n",
            "Requirement already satisfied: patsy>=0.5.1 in /usr/local/lib/python3.7/dist-packages (from category_encoders) (0.5.2)\n",
            "Requirement already satisfied: scikit-learn>=0.20.0 in /usr/local/lib/python3.7/dist-packages (from category_encoders) (1.0.2)\n",
            "Requirement already satisfied: pytz>=2017.3 in /usr/local/lib/python3.7/dist-packages (from pandas>=1.0.5->category_encoders) (2022.1)\n",
            "Requirement already satisfied: python-dateutil>=2.7.3 in /usr/local/lib/python3.7/dist-packages (from pandas>=1.0.5->category_encoders) (2.8.2)\n",
            "Requirement already satisfied: six in /usr/local/lib/python3.7/dist-packages (from patsy>=0.5.1->category_encoders) (1.15.0)\n",
            "Requirement already satisfied: threadpoolctl>=2.0.0 in /usr/local/lib/python3.7/dist-packages (from scikit-learn>=0.20.0->category_encoders) (3.1.0)\n",
            "Requirement already satisfied: joblib>=0.11 in /usr/local/lib/python3.7/dist-packages (from scikit-learn>=0.20.0->category_encoders) (1.1.0)\n"
          ]
        }
      ]
    },
    {
      "cell_type": "code",
      "source": [
        "import category_encoders"
      ],
      "metadata": {
        "id": "qrmb0z2N8sFR"
      },
      "id": "qrmb0z2N8sFR",
      "execution_count": 311,
      "outputs": []
    },
    {
      "cell_type": "code",
      "source": [
        "pd.set_option(\"display.max_columns\", 100)\n",
        "\n"
      ],
      "metadata": {
        "id": "EOeHz-96csJh"
      },
      "id": "EOeHz-96csJh",
      "execution_count": null,
      "outputs": []
    },
    {
      "cell_type": "code",
      "execution_count": 312,
      "metadata": {
        "colab": {
          "base_uri": "https://localhost:8080/"
        },
        "id": "K5ubapGjSep-",
        "outputId": "534ab61d-4e08-48e8-8d59-c10a1d38274e"
      },
      "outputs": [
        {
          "output_type": "stream",
          "name": "stdout",
          "text": [
            "Drive already mounted at /content/drive/; to attempt to forcibly remount, call drive.mount(\"/content/drive/\", force_remount=True).\n"
          ]
        }
      ],
      "source": [
        "drive.mount('/content/drive/')"
      ],
      "id": "K5ubapGjSep-"
    },
    {
      "cell_type": "code",
      "execution_count": 313,
      "metadata": {
        "id": "d5713873"
      },
      "outputs": [],
      "source": [
        "df=pd.read_csv('/content/drive/MyDrive/AI/Train_Set_TVS.csv')\n",
        "dftest=pd.read_csv('/content/drive/MyDrive/AI/Test_Set_TVS.csv')\n",
        "\n"
      ],
      "id": "d5713873"
    },
    {
      "cell_type": "code",
      "execution_count": 314,
      "metadata": {
        "colab": {
          "base_uri": "https://localhost:8080/"
        },
        "id": "2d89dd4a",
        "outputId": "c1850e00-cd60-4467-db81-3ee8b576b16d"
      },
      "outputs": [
        {
          "output_type": "stream",
          "name": "stdout",
          "text": [
            "(132440, 33)\n",
            "(56760, 32)\n"
          ]
        }
      ],
      "source": [
        "print(df.shape)\n",
        "print(dftest.shape)"
      ],
      "id": "2d89dd4a"
    },
    {
      "cell_type": "code",
      "execution_count": 315,
      "metadata": {
        "colab": {
          "base_uri": "https://localhost:8080/",
          "height": 270
        },
        "id": "ed09a3f0",
        "outputId": "9bf9dfe7-e3d9-4bf9-837c-ed42dd63bc4d"
      },
      "outputs": [
        {
          "output_type": "execute_result",
          "data": {
            "text/plain": [
              "       ID  Compensation Vehicle_Status  Loan_amt  Annuity_amt  density_Ind  \\\n",
              "0  540071      801850.0              Y  658040.0     13816.52       0.0304   \n",
              "1  511643      884222.0              N  198075.0     11173.06       0.0194   \n",
              "2  506688      284120.0              N  101056.0      8390.40       0.0118   \n",
              "3  499360      341874.0              N  179008.0      7184.13       0.0373   \n",
              "4  438350     1259895.0              Y  573715.0     13212.77       0.0138   \n",
              "\n",
              "  Job_Type Default_hist     Prop_List  Home_Appliances Region_Type Credit_Inq  \\\n",
              "0       IT          ndf  Morethan_One              NaN       Metro          1   \n",
              "1       IT          ndf  Morethan_One              1.0       Metro          2   \n",
              "2    Govt.          ndf           One              4.0       Metro          3   \n",
              "3   Non-IT           df          None              2.0       Metro          1   \n",
              "4   Non-IT          ndf  Morethan_One              1.0       Rural          2   \n",
              "\n",
              "  Education_det Marital_Stat Gen Credit_Lnks  Experience     Income_Alt  \\\n",
              "0          Grad      Married   F      1_to_3         0.9  Not_Specified   \n",
              "1          Grad      Married   M      1_to_3         3.0  Not_Specified   \n",
              "2         Other      Married   M      1_to_3         NaN  Not_Specified   \n",
              "3          Grad      Married   M      1_to_3         4.7  Not_Specified   \n",
              "4          Grad      Married   F      4_to_6         6.9              Y   \n",
              "\n",
              "  Day_Process Ph.No Type_Loan  Dependents  Company_Rating Region   Age  \\\n",
              "0         SAT   Yes     CLoan         3.0             2.0   East  46.0   \n",
              "1         wed   Yes     CLoan         3.0             1.0  North  46.0   \n",
              "2         mon   Yes     CLoan         2.0             3.0  North  57.0   \n",
              "3         wed   Yes     RLoan         4.0             2.0  South  39.0   \n",
              "4         Sun   Yes     CLoan         3.0             1.0  North  32.0   \n",
              "\n",
              "   hour_Process Addr_permanent Permanent_Addr_tag  c1_rated  c2_rated  \\\n",
              "0          10.0            Yes                 No     0.077     0.077   \n",
              "1          12.0            Yes                Yes     0.184     0.184   \n",
              "2           5.0            Yes                Yes     0.538     0.538   \n",
              "3          12.0            Yes                Yes       NaN     0.561   \n",
              "4          16.0            Yes                Yes       NaN     0.200   \n",
              "\n",
              "   Contact_age  Product_bought  Default  \n",
              "0         18.0             2.0      1.0  \n",
              "1        306.0             4.0      0.0  \n",
              "2        281.0             4.0      0.0  \n",
              "3         20.0             4.0      0.0  \n",
              "4       2339.0             6.0      0.0  "
            ],
            "text/html": [
              "\n",
              "  <div id=\"df-fba62eb7-848d-4e78-9151-3144330c6047\">\n",
              "    <div class=\"colab-df-container\">\n",
              "      <div>\n",
              "<style scoped>\n",
              "    .dataframe tbody tr th:only-of-type {\n",
              "        vertical-align: middle;\n",
              "    }\n",
              "\n",
              "    .dataframe tbody tr th {\n",
              "        vertical-align: top;\n",
              "    }\n",
              "\n",
              "    .dataframe thead th {\n",
              "        text-align: right;\n",
              "    }\n",
              "</style>\n",
              "<table border=\"1\" class=\"dataframe\">\n",
              "  <thead>\n",
              "    <tr style=\"text-align: right;\">\n",
              "      <th></th>\n",
              "      <th>ID</th>\n",
              "      <th>Compensation</th>\n",
              "      <th>Vehicle_Status</th>\n",
              "      <th>Loan_amt</th>\n",
              "      <th>Annuity_amt</th>\n",
              "      <th>density_Ind</th>\n",
              "      <th>Job_Type</th>\n",
              "      <th>Default_hist</th>\n",
              "      <th>Prop_List</th>\n",
              "      <th>Home_Appliances</th>\n",
              "      <th>Region_Type</th>\n",
              "      <th>Credit_Inq</th>\n",
              "      <th>Education_det</th>\n",
              "      <th>Marital_Stat</th>\n",
              "      <th>Gen</th>\n",
              "      <th>Credit_Lnks</th>\n",
              "      <th>Experience</th>\n",
              "      <th>Income_Alt</th>\n",
              "      <th>Day_Process</th>\n",
              "      <th>Ph.No</th>\n",
              "      <th>Type_Loan</th>\n",
              "      <th>Dependents</th>\n",
              "      <th>Company_Rating</th>\n",
              "      <th>Region</th>\n",
              "      <th>Age</th>\n",
              "      <th>hour_Process</th>\n",
              "      <th>Addr_permanent</th>\n",
              "      <th>Permanent_Addr_tag</th>\n",
              "      <th>c1_rated</th>\n",
              "      <th>c2_rated</th>\n",
              "      <th>Contact_age</th>\n",
              "      <th>Product_bought</th>\n",
              "      <th>Default</th>\n",
              "    </tr>\n",
              "  </thead>\n",
              "  <tbody>\n",
              "    <tr>\n",
              "      <th>0</th>\n",
              "      <td>540071</td>\n",
              "      <td>801850.0</td>\n",
              "      <td>Y</td>\n",
              "      <td>658040.0</td>\n",
              "      <td>13816.52</td>\n",
              "      <td>0.0304</td>\n",
              "      <td>IT</td>\n",
              "      <td>ndf</td>\n",
              "      <td>Morethan_One</td>\n",
              "      <td>NaN</td>\n",
              "      <td>Metro</td>\n",
              "      <td>1</td>\n",
              "      <td>Grad</td>\n",
              "      <td>Married</td>\n",
              "      <td>F</td>\n",
              "      <td>1_to_3</td>\n",
              "      <td>0.9</td>\n",
              "      <td>Not_Specified</td>\n",
              "      <td>SAT</td>\n",
              "      <td>Yes</td>\n",
              "      <td>CLoan</td>\n",
              "      <td>3.0</td>\n",
              "      <td>2.0</td>\n",
              "      <td>East</td>\n",
              "      <td>46.0</td>\n",
              "      <td>10.0</td>\n",
              "      <td>Yes</td>\n",
              "      <td>No</td>\n",
              "      <td>0.077</td>\n",
              "      <td>0.077</td>\n",
              "      <td>18.0</td>\n",
              "      <td>2.0</td>\n",
              "      <td>1.0</td>\n",
              "    </tr>\n",
              "    <tr>\n",
              "      <th>1</th>\n",
              "      <td>511643</td>\n",
              "      <td>884222.0</td>\n",
              "      <td>N</td>\n",
              "      <td>198075.0</td>\n",
              "      <td>11173.06</td>\n",
              "      <td>0.0194</td>\n",
              "      <td>IT</td>\n",
              "      <td>ndf</td>\n",
              "      <td>Morethan_One</td>\n",
              "      <td>1.0</td>\n",
              "      <td>Metro</td>\n",
              "      <td>2</td>\n",
              "      <td>Grad</td>\n",
              "      <td>Married</td>\n",
              "      <td>M</td>\n",
              "      <td>1_to_3</td>\n",
              "      <td>3.0</td>\n",
              "      <td>Not_Specified</td>\n",
              "      <td>wed</td>\n",
              "      <td>Yes</td>\n",
              "      <td>CLoan</td>\n",
              "      <td>3.0</td>\n",
              "      <td>1.0</td>\n",
              "      <td>North</td>\n",
              "      <td>46.0</td>\n",
              "      <td>12.0</td>\n",
              "      <td>Yes</td>\n",
              "      <td>Yes</td>\n",
              "      <td>0.184</td>\n",
              "      <td>0.184</td>\n",
              "      <td>306.0</td>\n",
              "      <td>4.0</td>\n",
              "      <td>0.0</td>\n",
              "    </tr>\n",
              "    <tr>\n",
              "      <th>2</th>\n",
              "      <td>506688</td>\n",
              "      <td>284120.0</td>\n",
              "      <td>N</td>\n",
              "      <td>101056.0</td>\n",
              "      <td>8390.40</td>\n",
              "      <td>0.0118</td>\n",
              "      <td>Govt.</td>\n",
              "      <td>ndf</td>\n",
              "      <td>One</td>\n",
              "      <td>4.0</td>\n",
              "      <td>Metro</td>\n",
              "      <td>3</td>\n",
              "      <td>Other</td>\n",
              "      <td>Married</td>\n",
              "      <td>M</td>\n",
              "      <td>1_to_3</td>\n",
              "      <td>NaN</td>\n",
              "      <td>Not_Specified</td>\n",
              "      <td>mon</td>\n",
              "      <td>Yes</td>\n",
              "      <td>CLoan</td>\n",
              "      <td>2.0</td>\n",
              "      <td>3.0</td>\n",
              "      <td>North</td>\n",
              "      <td>57.0</td>\n",
              "      <td>5.0</td>\n",
              "      <td>Yes</td>\n",
              "      <td>Yes</td>\n",
              "      <td>0.538</td>\n",
              "      <td>0.538</td>\n",
              "      <td>281.0</td>\n",
              "      <td>4.0</td>\n",
              "      <td>0.0</td>\n",
              "    </tr>\n",
              "    <tr>\n",
              "      <th>3</th>\n",
              "      <td>499360</td>\n",
              "      <td>341874.0</td>\n",
              "      <td>N</td>\n",
              "      <td>179008.0</td>\n",
              "      <td>7184.13</td>\n",
              "      <td>0.0373</td>\n",
              "      <td>Non-IT</td>\n",
              "      <td>df</td>\n",
              "      <td>None</td>\n",
              "      <td>2.0</td>\n",
              "      <td>Metro</td>\n",
              "      <td>1</td>\n",
              "      <td>Grad</td>\n",
              "      <td>Married</td>\n",
              "      <td>M</td>\n",
              "      <td>1_to_3</td>\n",
              "      <td>4.7</td>\n",
              "      <td>Not_Specified</td>\n",
              "      <td>wed</td>\n",
              "      <td>Yes</td>\n",
              "      <td>RLoan</td>\n",
              "      <td>4.0</td>\n",
              "      <td>2.0</td>\n",
              "      <td>South</td>\n",
              "      <td>39.0</td>\n",
              "      <td>12.0</td>\n",
              "      <td>Yes</td>\n",
              "      <td>Yes</td>\n",
              "      <td>NaN</td>\n",
              "      <td>0.561</td>\n",
              "      <td>20.0</td>\n",
              "      <td>4.0</td>\n",
              "      <td>0.0</td>\n",
              "    </tr>\n",
              "    <tr>\n",
              "      <th>4</th>\n",
              "      <td>438350</td>\n",
              "      <td>1259895.0</td>\n",
              "      <td>Y</td>\n",
              "      <td>573715.0</td>\n",
              "      <td>13212.77</td>\n",
              "      <td>0.0138</td>\n",
              "      <td>Non-IT</td>\n",
              "      <td>ndf</td>\n",
              "      <td>Morethan_One</td>\n",
              "      <td>1.0</td>\n",
              "      <td>Rural</td>\n",
              "      <td>2</td>\n",
              "      <td>Grad</td>\n",
              "      <td>Married</td>\n",
              "      <td>F</td>\n",
              "      <td>4_to_6</td>\n",
              "      <td>6.9</td>\n",
              "      <td>Y</td>\n",
              "      <td>Sun</td>\n",
              "      <td>Yes</td>\n",
              "      <td>CLoan</td>\n",
              "      <td>3.0</td>\n",
              "      <td>1.0</td>\n",
              "      <td>North</td>\n",
              "      <td>32.0</td>\n",
              "      <td>16.0</td>\n",
              "      <td>Yes</td>\n",
              "      <td>Yes</td>\n",
              "      <td>NaN</td>\n",
              "      <td>0.200</td>\n",
              "      <td>2339.0</td>\n",
              "      <td>6.0</td>\n",
              "      <td>0.0</td>\n",
              "    </tr>\n",
              "  </tbody>\n",
              "</table>\n",
              "</div>\n",
              "      <button class=\"colab-df-convert\" onclick=\"convertToInteractive('df-fba62eb7-848d-4e78-9151-3144330c6047')\"\n",
              "              title=\"Convert this dataframe to an interactive table.\"\n",
              "              style=\"display:none;\">\n",
              "        \n",
              "  <svg xmlns=\"http://www.w3.org/2000/svg\" height=\"24px\"viewBox=\"0 0 24 24\"\n",
              "       width=\"24px\">\n",
              "    <path d=\"M0 0h24v24H0V0z\" fill=\"none\"/>\n",
              "    <path d=\"M18.56 5.44l.94 2.06.94-2.06 2.06-.94-2.06-.94-.94-2.06-.94 2.06-2.06.94zm-11 1L8.5 8.5l.94-2.06 2.06-.94-2.06-.94L8.5 2.5l-.94 2.06-2.06.94zm10 10l.94 2.06.94-2.06 2.06-.94-2.06-.94-.94-2.06-.94 2.06-2.06.94z\"/><path d=\"M17.41 7.96l-1.37-1.37c-.4-.4-.92-.59-1.43-.59-.52 0-1.04.2-1.43.59L10.3 9.45l-7.72 7.72c-.78.78-.78 2.05 0 2.83L4 21.41c.39.39.9.59 1.41.59.51 0 1.02-.2 1.41-.59l7.78-7.78 2.81-2.81c.8-.78.8-2.07 0-2.86zM5.41 20L4 18.59l7.72-7.72 1.47 1.35L5.41 20z\"/>\n",
              "  </svg>\n",
              "      </button>\n",
              "      \n",
              "  <style>\n",
              "    .colab-df-container {\n",
              "      display:flex;\n",
              "      flex-wrap:wrap;\n",
              "      gap: 12px;\n",
              "    }\n",
              "\n",
              "    .colab-df-convert {\n",
              "      background-color: #E8F0FE;\n",
              "      border: none;\n",
              "      border-radius: 50%;\n",
              "      cursor: pointer;\n",
              "      display: none;\n",
              "      fill: #1967D2;\n",
              "      height: 32px;\n",
              "      padding: 0 0 0 0;\n",
              "      width: 32px;\n",
              "    }\n",
              "\n",
              "    .colab-df-convert:hover {\n",
              "      background-color: #E2EBFA;\n",
              "      box-shadow: 0px 1px 2px rgba(60, 64, 67, 0.3), 0px 1px 3px 1px rgba(60, 64, 67, 0.15);\n",
              "      fill: #174EA6;\n",
              "    }\n",
              "\n",
              "    [theme=dark] .colab-df-convert {\n",
              "      background-color: #3B4455;\n",
              "      fill: #D2E3FC;\n",
              "    }\n",
              "\n",
              "    [theme=dark] .colab-df-convert:hover {\n",
              "      background-color: #434B5C;\n",
              "      box-shadow: 0px 1px 3px 1px rgba(0, 0, 0, 0.15);\n",
              "      filter: drop-shadow(0px 1px 2px rgba(0, 0, 0, 0.3));\n",
              "      fill: #FFFFFF;\n",
              "    }\n",
              "  </style>\n",
              "\n",
              "      <script>\n",
              "        const buttonEl =\n",
              "          document.querySelector('#df-fba62eb7-848d-4e78-9151-3144330c6047 button.colab-df-convert');\n",
              "        buttonEl.style.display =\n",
              "          google.colab.kernel.accessAllowed ? 'block' : 'none';\n",
              "\n",
              "        async function convertToInteractive(key) {\n",
              "          const element = document.querySelector('#df-fba62eb7-848d-4e78-9151-3144330c6047');\n",
              "          const dataTable =\n",
              "            await google.colab.kernel.invokeFunction('convertToInteractive',\n",
              "                                                     [key], {});\n",
              "          if (!dataTable) return;\n",
              "\n",
              "          const docLinkHtml = 'Like what you see? Visit the ' +\n",
              "            '<a target=\"_blank\" href=https://colab.research.google.com/notebooks/data_table.ipynb>data table notebook</a>'\n",
              "            + ' to learn more about interactive tables.';\n",
              "          element.innerHTML = '';\n",
              "          dataTable['output_type'] = 'display_data';\n",
              "          await google.colab.output.renderOutput(dataTable, element);\n",
              "          const docLink = document.createElement('div');\n",
              "          docLink.innerHTML = docLinkHtml;\n",
              "          element.appendChild(docLink);\n",
              "        }\n",
              "      </script>\n",
              "    </div>\n",
              "  </div>\n",
              "  "
            ]
          },
          "metadata": {},
          "execution_count": 315
        }
      ],
      "source": [
        "df.head(5)"
      ],
      "id": "ed09a3f0"
    },
    {
      "cell_type": "code",
      "execution_count": null,
      "metadata": {
        "colab": {
          "base_uri": "https://localhost:8080/"
        },
        "id": "3d1bc609",
        "outputId": "5857512c-76a5-417e-dadf-1729542c4d42"
      },
      "outputs": [
        {
          "output_type": "execute_result",
          "data": {
            "text/plain": [
              "0.0    97436\n",
              "1.0    35004\n",
              "Name: Default, dtype: int64"
            ]
          },
          "metadata": {},
          "execution_count": 11
        }
      ],
      "source": [
        "df['Default'].value_counts()"
      ],
      "id": "3d1bc609"
    },
    {
      "cell_type": "code",
      "execution_count": 357,
      "metadata": {
        "colab": {
          "base_uri": "https://localhost:8080/"
        },
        "id": "3a2e9af0",
        "outputId": "f07da952-5373-4894-b0c2-3cb57d5a3251"
      },
      "outputs": [
        {
          "output_type": "execute_result",
          "data": {
            "text/plain": [
              "0"
            ]
          },
          "metadata": {},
          "execution_count": 357
        }
      ],
      "source": [
        "df.isnull().sum().sum()"
      ],
      "id": "3a2e9af0"
    },
    {
      "cell_type": "code",
      "source": [
        "df.info()"
      ],
      "metadata": {
        "colab": {
          "base_uri": "https://localhost:8080/"
        },
        "id": "rKBXCzSZgJji",
        "outputId": "a9176fc5-3bd4-4aa7-d798-98a2f6c9f13d"
      },
      "id": "rKBXCzSZgJji",
      "execution_count": null,
      "outputs": [
        {
          "output_type": "stream",
          "name": "stdout",
          "text": [
            "<class 'pandas.core.frame.DataFrame'>\n",
            "RangeIndex: 132440 entries, 0 to 132439\n",
            "Data columns (total 33 columns):\n",
            " #   Column              Non-Null Count   Dtype  \n",
            "---  ------              --------------   -----  \n",
            " 0   ID                  132440 non-null  int64  \n",
            " 1   Compensation        126198 non-null  float64\n",
            " 2   Vehicle_Status      123336 non-null  object \n",
            " 3   Loan_amt            132440 non-null  float64\n",
            " 4   Annuity_amt         127829 non-null  float64\n",
            " 5   density_Ind         127024 non-null  float64\n",
            " 6   Job_Type            122192 non-null  object \n",
            " 7   Default_hist        132440 non-null  object \n",
            " 8   Prop_List           130475 non-null  object \n",
            " 9   Home_Appliances     121476 non-null  float64\n",
            " 10  Region_Type         132440 non-null  object \n",
            " 11  Credit_Inq          129750 non-null  object \n",
            " 12  Education_det       132440 non-null  object \n",
            " 13  Marital_Stat        132440 non-null  object \n",
            " 14  Gen                 132440 non-null  object \n",
            " 15  Credit_Lnks         132440 non-null  object \n",
            " 16  Experience          110595 non-null  float64\n",
            " 17  Income_Alt          124758 non-null  object \n",
            " 18  Day_Process         132440 non-null  object \n",
            " 19  Ph.No               132440 non-null  object \n",
            " 20  Type_Loan           132440 non-null  object \n",
            " 21  Dependents          132440 non-null  float64\n",
            " 22  Company_Rating      120709 non-null  float64\n",
            " 23  Region              132440 non-null  object \n",
            " 24  Age                 132440 non-null  float64\n",
            " 25  hour_Process        132440 non-null  float64\n",
            " 26  Addr_permanent      132440 non-null  object \n",
            " 27  Permanent_Addr_tag  132440 non-null  object \n",
            " 28  c1_rated            114927 non-null  float64\n",
            " 29  c2_rated            119119 non-null  float64\n",
            " 30  Contact_age         124287 non-null  float64\n",
            " 31  Product_bought      132440 non-null  float64\n",
            " 32  Default             132440 non-null  float64\n",
            "dtypes: float64(15), int64(1), object(17)\n",
            "memory usage: 33.3+ MB\n"
          ]
        }
      ]
    },
    {
      "cell_type": "code",
      "source": [
        ""
      ],
      "metadata": {
        "id": "SX9K3Cex-EoZ"
      },
      "id": "SX9K3Cex-EoZ",
      "execution_count": null,
      "outputs": []
    },
    {
      "cell_type": "markdown",
      "source": [
        "## DataProcessing functions"
      ],
      "metadata": {
        "id": "qo8S-7-1-FKW"
      },
      "id": "qo8S-7-1-FKW"
    },
    {
      "cell_type": "code",
      "execution_count": null,
      "metadata": {
        "id": "e76ed7c5"
      },
      "outputs": [],
      "source": [
        "## method to replace null values\n",
        "def removeNull(data):\n",
        "    #check for empty or null values\n",
        "    for col in data.columns:\n",
        "        data[col]=data[col].replace(r'^\\s*$', np.NaN, regex=True)\n",
        "        if data[col].isnull().sum().sum()>0:\n",
        "           \n",
        "            \n",
        "           # print(data[col].dtype.name)\n",
        "            if (data[col].dtype.name == 'object' or data[col].dtype.name == 'category' ):\n",
        "                    print(\"Replacing the {0} data with  mode (for categorical type values)\".format(col))\n",
        "                    mode_value=data[col].mode().iloc[0]\n",
        "                 \n",
        "                    data[col]= data[col].fillna(mode_value)\n",
        "            else:\n",
        "                    print(\"Replacing the {0} data with mean(for float type) \".format(col))\n",
        "                    median_value=data[col].mean()\n",
        "                    data[col]= data[col].fillna(median_value)\n",
        "    return(data)\n",
        "\n",
        "\n",
        "            "
      ],
      "id": "e76ed7c5"
    },
    {
      "cell_type": "code",
      "execution_count": null,
      "metadata": {
        "id": "217719e9"
      },
      "outputs": [],
      "source": [
        "def convertCategoryfeature(data):\n",
        "    for col in data.columns:\n",
        "        if data[col].dtype.name=='object' :\n",
        "            data[col]=pd.Categorical(data[col])\n",
        "\n",
        "    return data\n"
      ],
      "id": "217719e9"
    },
    {
      "cell_type": "code",
      "execution_count": null,
      "metadata": {
        "id": "3877c89f"
      },
      "outputs": [],
      "source": [
        "def normalizeData(xtraindata,xtestdata):\n",
        "    cols=[]\n",
        "    impcols=xtraindata.columns\n",
        "    \n",
        "    for col in impcols:\n",
        "          if xtraindata[col].dtype.name=='float64':\n",
        "              cols.append(col)\n",
        "    print(cols)\n",
        "    minmax=MinMaxScaler()\n",
        "    x_traindata=pd.DataFrame(minmax.fit_transform(xtraindata))\n",
        "    x_traindata.columns=xtraindata.columns\n",
        "    x_testdata=pd.DataFrame(minmax.fit_transform(xtestdata))\n",
        "    x_testdata.columns=xtestdata.columns\n",
        "    return(x_traindata,x_testdata)\n"
      ],
      "id": "3877c89f"
    },
    {
      "cell_type": "code",
      "source": [
        "df['Company_Rating'].unique()\n",
        "#c=category_encoders.OrdinalEncoder('Prop_List')\n",
        "#d = c.fit_transform(df)"
      ],
      "metadata": {
        "colab": {
          "base_uri": "https://localhost:8080/"
        },
        "id": "c19luK_U2oKi",
        "outputId": "a5b0ad3e-6a8f-4d34-a3bf-fe8a1e7f026f"
      },
      "id": "c19luK_U2oKi",
      "execution_count": null,
      "outputs": [
        {
          "output_type": "execute_result",
          "data": {
            "text/plain": [
              "<IntegerArray>\n",
              "[2, 1, 3]\n",
              "Length: 3, dtype: Int64"
            ]
          },
          "metadata": {},
          "execution_count": 126
        }
      ]
    },
    {
      "cell_type": "code",
      "source": [
        ""
      ],
      "metadata": {
        "id": "Zt1eL6-Kxarh"
      },
      "id": "Zt1eL6-Kxarh",
      "execution_count": null,
      "outputs": []
    },
    {
      "cell_type": "code",
      "execution_count": null,
      "metadata": {
        "id": "17720ecf"
      },
      "outputs": [],
      "source": [
        "def OnehotEncoding(data):\n",
        "    #cols=['Prop_List','Credit_Inq','Credit_Lnks']\n",
        "    data['Prop_List']=data['Prop_List'].replace({'None':0,'One':1,'Morethan_One':2})\n",
        "    data['Prop_List']=data['Prop_List'].astype('int64')\n",
        "\n",
        "    data['Credit_Lnks']=data['Credit_Lnks'].replace({'1_to_3':1,'4_to_6':2, '>6':3})\n",
        "    data['Credit_Lnks']=data['Credit_Lnks'].astype('int64')\n",
        "\n",
        "    data['Credit_Inq']=data['Credit_Inq'].replace({'1':1, '2':2, '3':3, '>4':4})\n",
        "    data['Credit_Inq']=data['Credit_Inq'].astype('int64')\n",
        "\n",
        "    #data['Default']=data['Default'].astype('int64')\n",
        "\n",
        "\n",
        "    cols=['Prop_List','Credit_Inq','Credit_Lnks']\n",
        "   # encoder = category_encoders.OrdinalEncoder(data.columns)\n",
        "    #data = encoder.fit_transform(data)\n",
        "    #data.head(2)\n",
        "    #datatemp=data.drop(['Prop_List','Credit_Inq','Credit_Lnks','Default'],axis=1)\n",
        "\n",
        "    data=pd.get_dummies(data,drop_first=True)\n",
        "    \n",
        "    return data\n"
      ],
      "id": "17720ecf"
    },
    {
      "cell_type": "code",
      "execution_count": null,
      "metadata": {
        "id": "66c4aef6"
      },
      "outputs": [],
      "source": [
        "def balanceData(x,y):\n",
        "    oversample = SMOTE()\n",
        "    print('Smote')\n",
        "    x, y = oversample.fit_resample(x, y)\n",
        "    return (x,y)\n"
      ],
      "id": "66c4aef6"
    },
    {
      "cell_type": "code",
      "execution_count": null,
      "metadata": {
        "id": "82829f80"
      },
      "outputs": [],
      "source": [
        "def preprocessing_data(data):\n",
        "    #Remove null values\n",
        "    print('convert all object features as categorical')\n",
        "\n",
        "    data=convertCategoryfeature(data)\n",
        "    print('Replace Null')\n",
        "    data=removeNull(data)\n",
        "    #data=data.dropna()\n",
        "    #convert all object features as categorical\n",
        "   \n",
        "    #Drop customer ID as it is not required\n",
        "    data=data.drop('ID',axis=1)\n",
        "    #encode categorical features\n",
        "    print('Remove outlier')\n",
        "    data=remove_outliers(data)\n",
        "    print('Onehot Encoding')\n",
        "\n",
        "    data=OnehotEncoding(data)\n",
        "    #data=remove_outliers(data)\n",
        "    return data"
      ],
      "id": "82829f80"
    },
    {
      "cell_type": "code",
      "execution_count": null,
      "metadata": {
        "id": "60f8de0f"
      },
      "outputs": [],
      "source": [
        "def trainModels(xtrn,ytrn,xtest,ytest,model,algorithm):\n",
        "    result=[]\n",
        "    ytrn=ytrn.values.ravel()\n",
        "    model.fit(xtrn, ytrn)\n",
        "    y_pred = model.predict(xtest)\n",
        "   \n",
        "    #Accuracy Score\n",
        "    testacc= accuracy_score(ytest,y_pred)\n",
        "    y_predtrn = model.predict(xtrn)\n",
        "    trainacc=accuracy_score(ytrn,y_predtrn)\n",
        "    #mean_squared_error\n",
        "    mse=mean_squared_error(ytest,y_pred)\n",
        "    #Pecision score\n",
        "    precision = precision_score(ytest, y_pred )\n",
        "    #RecallScore\n",
        "    recall = recall_score(ytest, y_pred )\n",
        "    #f1 Score\n",
        "    f1 = f1_score(ytest, y_pred )\n",
        "    #auc roc score\n",
        "    auc=roc_auc_score(ytest, y_pred)\n",
        "    result = pd.DataFrame({'Method':[algorithm],'Test_accuracy': round(testacc,2),'Train_accuracy':round(trainacc,2),'MSE':round(mse,2),'auc':round(auc,2),'Precision':round(precision,2),'Recall':round(recall,2),'f1':round(f1,2)})\n",
        "   \n",
        "    return(result)"
      ],
      "id": "60f8de0f"
    },
    {
      "cell_type": "code",
      "execution_count": null,
      "metadata": {
        "id": "34d2f11f"
      },
      "outputs": [],
      "source": [
        "def plotChart(data,gType):\n",
        "   \n",
        "    lstCategories=[]\n",
        "    for col in data.columns:\n",
        "        if ((data[col].dtype.name=='category') or (data[col].dtype.name=='object') ) :\n",
        "            lstCategories.append(col)\n",
        "    print(lstCategories)\n",
        "    fig = plt.figure(figsize=(30,40)) \n",
        "    irange=len(lstCategories)\n",
        "    i= 0 \n",
        "    r,c = 0 ,0  \n",
        "    for i in range(irange):\n",
        "        if c < 2:\n",
        "            \n",
        "            ax1 = plt.subplot2grid((12,4), (r, c))\n",
        "            if gType=='pie':\n",
        "                plt.pie(df[lstCategories[i]].value_counts() , labels =df[lstCategories[i]].unique() , autopct='%.0f%%')\n",
        "                plt.title(lstCategories[i])\n",
        "            elif gType=='countplot':\n",
        "                 sns.countplot(  x=df[lstCategories[i]],hue=df['Default'], ax=ax1)\n",
        "            c +=1\n",
        "            i+=1\n",
        "            \n",
        "        else:\n",
        "            c = 0 \n",
        "            r += 1 \n",
        "            ax1 = plt.subplot2grid((12,4), (r, c))\n",
        "            if gType=='pie':\n",
        "                plt.pie(df[lstCategories[i]].value_counts() , labels = df[lstCategories[i]].unique() , autopct='%.0f%%')\n",
        "                plt.title(lstCategories[i])\n",
        "\n",
        "            elif gType=='countplot':\n",
        "                 sns.countplot(  x=df[lstCategories[i]],hue=df['Default'],ax=ax1)\n",
        "            c +=1\n",
        "            i+=1\n",
        "           # r+=1\n",
        "    plt.show()   \n"
      ],
      "id": "34d2f11f"
    },
    {
      "cell_type": "code",
      "execution_count": null,
      "metadata": {
        "id": "3a59c18c"
      },
      "outputs": [],
      "source": [
        "def prepare_data(data):\n",
        "    X=pd.DataFrame(data.drop(targetcolumn,axis=1))\n",
        "    y=pd.DataFrame(data[targetcolumn].astype(np.float64))\n",
        "    print('Balancing data using SMOTE: ')\n",
        "\n",
        "    X,y=balanceData(X,y)\n",
        "    #Feature selection\n",
        "    #Select top 20 features based on importance score\n",
        "    print('Selecting feature based on importance score')\n",
        "    feature_imp=feature_selection(X,y)\n",
        "    feature_imp.reset_index(level=0, inplace=True)\n",
        "    feature_imp=feature_imp.head(30)\n",
        "    col=feature_imp['index']\n",
        "   \n",
        "    feature_cols=[]\n",
        "    for i in col:\n",
        "        feature_cols.append(i)\n",
        "   \n",
        "    X=X[feature_cols]\n",
        "    print('Selected feature columns: ',X.columns)\n",
        "  \n",
        "    #Balance data\n",
        "   # print('Balancing data using SMOTE: ')\n",
        "\n",
        "  #  X,y=balanceData(X,y)\n",
        "    #Split data\n",
        "    print('Spliting data ')\n",
        "\n",
        "    x_train,x_test,y_train,y_test= splitData(X,y) \n",
        "    #Normalize data\n",
        "    print('Normalize data ')\n",
        "    print(x_train.isnull().sum())\n",
        "    x_train,x_test=normalizeData(x_train,x_test)\n",
        "    return  (x_train,x_test,y_train,y_test)\n"
      ],
      "id": "3a59c18c"
    },
    {
      "cell_type": "code",
      "execution_count": null,
      "metadata": {
        "id": "3caf3879"
      },
      "outputs": [],
      "source": [
        "def feature_selection(x,y):\n",
        "    mod=DecisionTreeClassifier()\n",
        "    mod.fit(x,y)\n",
        "    feature_imp=pd.DataFrame(mod.feature_importances_, columns = [\"Imp\"], index = x.columns)\n",
        "    feature_imp=feature_imp.sort_values('Imp',ascending=False)\n",
        "    \n",
        "    return feature_imp"
      ],
      "id": "3caf3879"
    },
    {
      "cell_type": "code",
      "execution_count": null,
      "metadata": {
        "id": "802c0ecf"
      },
      "outputs": [],
      "source": [
        "def splitData(X,y):\n",
        "   # X=pd.DataFrame(data[featureCols])\n",
        "   # y=pd.DataFrame(data[targetCol])\n",
        "    y=y.astype('int')\n",
        "\n",
        "    x_train,x_test,y_train,y_test=train_test_split(X,y,test_size=.20,random_state=1)\n",
        "    return x_train,x_test,y_train,y_test"
      ],
      "id": "802c0ecf"
    },
    {
      "cell_type": "code",
      "execution_count": null,
      "metadata": {
        "id": "03917913"
      },
      "outputs": [],
      "source": [
        "def evaluate_model(models,x_train,y_train,x_test,y_test):\n",
        "    results=pd.DataFrame()\n",
        "    cv_results=pd.DataFrame()\n",
        "    scoring = 'accuracy'\n",
        "    kfold = model_selection.KFold(n_splits=10)\n",
        "    for md in models.keys():\n",
        "        model=models.get(md)\n",
        "\n",
        "        rs=trainModels(x_train,y_train,x_test,y_test,model,md)\n",
        "        results=pd.concat([results, rs])\n",
        "        print(md)\n",
        "        #print(results)\n",
        "    results=results.sort_values(\"f1\",ascending=False)\n",
        "    print(\"--------------------- Model performances -------------------\")\n",
        "    print(results.to_string(index=False)) \n",
        "   \n",
        "    return results.iloc[0]"
      ],
      "id": "03917913"
    },
    {
      "cell_type": "code",
      "execution_count": null,
      "metadata": {
        "id": "3e3b8f6b"
      },
      "outputs": [],
      "source": [
        "def remove_outliers(data):\n",
        "    for col in data.columns :\n",
        "      if (col!='Default'):\n",
        "        if data[col].dtype.name=='float64' :#or data[col].dtype.name=='int64' :\n",
        "            q1=data[col].quantile(0.25)\n",
        "            q3=data[col].quantile(0.75)\n",
        "            iqr=(q3-q1)\n",
        "            low=q1-(1.5 * iqr)\n",
        "            high=q3+(1.5 * iqr)\n",
        "            data.loc[(data[col]>high),col]=high\n",
        "            data.loc[ (data[col]<low),col]=low\n",
        "    return data"
      ],
      "id": "3e3b8f6b"
    },
    {
      "cell_type": "code",
      "execution_count": null,
      "metadata": {
        "colab": {
          "base_uri": "https://localhost:8080/",
          "height": 270
        },
        "id": "b769d055",
        "outputId": "a6911e82-2f21-4aac-d32a-e53ca6b90047"
      },
      "outputs": [
        {
          "output_type": "execute_result",
          "data": {
            "text/plain": [
              "       ID  Compensation Vehicle_Status  Loan_amt  Annuity_amt  density_Ind  \\\n",
              "0  540071      801850.0              Y  658040.0     13816.52       0.0304   \n",
              "1  511643      884222.0              N  198075.0     11173.06       0.0194   \n",
              "2  506688      284120.0              N  101056.0      8390.40       0.0118   \n",
              "3  499360      341874.0              N  179008.0      7184.13       0.0373   \n",
              "4  438350     1259895.0              Y  573715.0     13212.77       0.0138   \n",
              "\n",
              "  Job_Type Default_hist     Prop_List  Home_Appliances Region_Type Credit_Inq  \\\n",
              "0       IT          ndf  Morethan_One              NaN       Metro          1   \n",
              "1       IT          ndf  Morethan_One              1.0       Metro          2   \n",
              "2    Govt.          ndf           One              4.0       Metro          3   \n",
              "3   Non-IT           df          None              2.0       Metro          1   \n",
              "4   Non-IT          ndf  Morethan_One              1.0       Rural          2   \n",
              "\n",
              "  Education_det Marital_Stat Gen Credit_Lnks  Experience     Income_Alt  \\\n",
              "0          Grad      Married   F      1_to_3         0.9  Not_Specified   \n",
              "1          Grad      Married   M      1_to_3         3.0  Not_Specified   \n",
              "2         Other      Married   M      1_to_3         NaN  Not_Specified   \n",
              "3          Grad      Married   M      1_to_3         4.7  Not_Specified   \n",
              "4          Grad      Married   F      4_to_6         6.9              Y   \n",
              "\n",
              "  Day_Process Ph.No Type_Loan  Dependents  Company_Rating Region   Age  \\\n",
              "0         SAT   Yes     CLoan         3.0             2.0   East  46.0   \n",
              "1         wed   Yes     CLoan         3.0             1.0  North  46.0   \n",
              "2         mon   Yes     CLoan         2.0             3.0  North  57.0   \n",
              "3         wed   Yes     RLoan         4.0             2.0  South  39.0   \n",
              "4         Sun   Yes     CLoan         3.0             1.0  North  32.0   \n",
              "\n",
              "   hour_Process Addr_permanent Permanent_Addr_tag  c1_rated  c2_rated  \\\n",
              "0          10.0            Yes                 No     0.077     0.077   \n",
              "1          12.0            Yes                Yes     0.184     0.184   \n",
              "2           5.0            Yes                Yes     0.538     0.538   \n",
              "3          12.0            Yes                Yes       NaN     0.561   \n",
              "4          16.0            Yes                Yes       NaN     0.200   \n",
              "\n",
              "   Contact_age  Product_bought  Default  \n",
              "0         18.0             2.0      1.0  \n",
              "1        306.0             4.0      0.0  \n",
              "2        281.0             4.0      0.0  \n",
              "3         20.0             4.0      0.0  \n",
              "4       2339.0             6.0      0.0  "
            ],
            "text/html": [
              "\n",
              "  <div id=\"df-6a8c0bf8-606f-46a6-8eb2-e991672af9ce\">\n",
              "    <div class=\"colab-df-container\">\n",
              "      <div>\n",
              "<style scoped>\n",
              "    .dataframe tbody tr th:only-of-type {\n",
              "        vertical-align: middle;\n",
              "    }\n",
              "\n",
              "    .dataframe tbody tr th {\n",
              "        vertical-align: top;\n",
              "    }\n",
              "\n",
              "    .dataframe thead th {\n",
              "        text-align: right;\n",
              "    }\n",
              "</style>\n",
              "<table border=\"1\" class=\"dataframe\">\n",
              "  <thead>\n",
              "    <tr style=\"text-align: right;\">\n",
              "      <th></th>\n",
              "      <th>ID</th>\n",
              "      <th>Compensation</th>\n",
              "      <th>Vehicle_Status</th>\n",
              "      <th>Loan_amt</th>\n",
              "      <th>Annuity_amt</th>\n",
              "      <th>density_Ind</th>\n",
              "      <th>Job_Type</th>\n",
              "      <th>Default_hist</th>\n",
              "      <th>Prop_List</th>\n",
              "      <th>Home_Appliances</th>\n",
              "      <th>Region_Type</th>\n",
              "      <th>Credit_Inq</th>\n",
              "      <th>Education_det</th>\n",
              "      <th>Marital_Stat</th>\n",
              "      <th>Gen</th>\n",
              "      <th>Credit_Lnks</th>\n",
              "      <th>Experience</th>\n",
              "      <th>Income_Alt</th>\n",
              "      <th>Day_Process</th>\n",
              "      <th>Ph.No</th>\n",
              "      <th>Type_Loan</th>\n",
              "      <th>Dependents</th>\n",
              "      <th>Company_Rating</th>\n",
              "      <th>Region</th>\n",
              "      <th>Age</th>\n",
              "      <th>hour_Process</th>\n",
              "      <th>Addr_permanent</th>\n",
              "      <th>Permanent_Addr_tag</th>\n",
              "      <th>c1_rated</th>\n",
              "      <th>c2_rated</th>\n",
              "      <th>Contact_age</th>\n",
              "      <th>Product_bought</th>\n",
              "      <th>Default</th>\n",
              "    </tr>\n",
              "  </thead>\n",
              "  <tbody>\n",
              "    <tr>\n",
              "      <th>0</th>\n",
              "      <td>540071</td>\n",
              "      <td>801850.0</td>\n",
              "      <td>Y</td>\n",
              "      <td>658040.0</td>\n",
              "      <td>13816.52</td>\n",
              "      <td>0.0304</td>\n",
              "      <td>IT</td>\n",
              "      <td>ndf</td>\n",
              "      <td>Morethan_One</td>\n",
              "      <td>NaN</td>\n",
              "      <td>Metro</td>\n",
              "      <td>1</td>\n",
              "      <td>Grad</td>\n",
              "      <td>Married</td>\n",
              "      <td>F</td>\n",
              "      <td>1_to_3</td>\n",
              "      <td>0.9</td>\n",
              "      <td>Not_Specified</td>\n",
              "      <td>SAT</td>\n",
              "      <td>Yes</td>\n",
              "      <td>CLoan</td>\n",
              "      <td>3.0</td>\n",
              "      <td>2.0</td>\n",
              "      <td>East</td>\n",
              "      <td>46.0</td>\n",
              "      <td>10.0</td>\n",
              "      <td>Yes</td>\n",
              "      <td>No</td>\n",
              "      <td>0.077</td>\n",
              "      <td>0.077</td>\n",
              "      <td>18.0</td>\n",
              "      <td>2.0</td>\n",
              "      <td>1.0</td>\n",
              "    </tr>\n",
              "    <tr>\n",
              "      <th>1</th>\n",
              "      <td>511643</td>\n",
              "      <td>884222.0</td>\n",
              "      <td>N</td>\n",
              "      <td>198075.0</td>\n",
              "      <td>11173.06</td>\n",
              "      <td>0.0194</td>\n",
              "      <td>IT</td>\n",
              "      <td>ndf</td>\n",
              "      <td>Morethan_One</td>\n",
              "      <td>1.0</td>\n",
              "      <td>Metro</td>\n",
              "      <td>2</td>\n",
              "      <td>Grad</td>\n",
              "      <td>Married</td>\n",
              "      <td>M</td>\n",
              "      <td>1_to_3</td>\n",
              "      <td>3.0</td>\n",
              "      <td>Not_Specified</td>\n",
              "      <td>wed</td>\n",
              "      <td>Yes</td>\n",
              "      <td>CLoan</td>\n",
              "      <td>3.0</td>\n",
              "      <td>1.0</td>\n",
              "      <td>North</td>\n",
              "      <td>46.0</td>\n",
              "      <td>12.0</td>\n",
              "      <td>Yes</td>\n",
              "      <td>Yes</td>\n",
              "      <td>0.184</td>\n",
              "      <td>0.184</td>\n",
              "      <td>306.0</td>\n",
              "      <td>4.0</td>\n",
              "      <td>0.0</td>\n",
              "    </tr>\n",
              "    <tr>\n",
              "      <th>2</th>\n",
              "      <td>506688</td>\n",
              "      <td>284120.0</td>\n",
              "      <td>N</td>\n",
              "      <td>101056.0</td>\n",
              "      <td>8390.40</td>\n",
              "      <td>0.0118</td>\n",
              "      <td>Govt.</td>\n",
              "      <td>ndf</td>\n",
              "      <td>One</td>\n",
              "      <td>4.0</td>\n",
              "      <td>Metro</td>\n",
              "      <td>3</td>\n",
              "      <td>Other</td>\n",
              "      <td>Married</td>\n",
              "      <td>M</td>\n",
              "      <td>1_to_3</td>\n",
              "      <td>NaN</td>\n",
              "      <td>Not_Specified</td>\n",
              "      <td>mon</td>\n",
              "      <td>Yes</td>\n",
              "      <td>CLoan</td>\n",
              "      <td>2.0</td>\n",
              "      <td>3.0</td>\n",
              "      <td>North</td>\n",
              "      <td>57.0</td>\n",
              "      <td>5.0</td>\n",
              "      <td>Yes</td>\n",
              "      <td>Yes</td>\n",
              "      <td>0.538</td>\n",
              "      <td>0.538</td>\n",
              "      <td>281.0</td>\n",
              "      <td>4.0</td>\n",
              "      <td>0.0</td>\n",
              "    </tr>\n",
              "    <tr>\n",
              "      <th>3</th>\n",
              "      <td>499360</td>\n",
              "      <td>341874.0</td>\n",
              "      <td>N</td>\n",
              "      <td>179008.0</td>\n",
              "      <td>7184.13</td>\n",
              "      <td>0.0373</td>\n",
              "      <td>Non-IT</td>\n",
              "      <td>df</td>\n",
              "      <td>None</td>\n",
              "      <td>2.0</td>\n",
              "      <td>Metro</td>\n",
              "      <td>1</td>\n",
              "      <td>Grad</td>\n",
              "      <td>Married</td>\n",
              "      <td>M</td>\n",
              "      <td>1_to_3</td>\n",
              "      <td>4.7</td>\n",
              "      <td>Not_Specified</td>\n",
              "      <td>wed</td>\n",
              "      <td>Yes</td>\n",
              "      <td>RLoan</td>\n",
              "      <td>4.0</td>\n",
              "      <td>2.0</td>\n",
              "      <td>South</td>\n",
              "      <td>39.0</td>\n",
              "      <td>12.0</td>\n",
              "      <td>Yes</td>\n",
              "      <td>Yes</td>\n",
              "      <td>NaN</td>\n",
              "      <td>0.561</td>\n",
              "      <td>20.0</td>\n",
              "      <td>4.0</td>\n",
              "      <td>0.0</td>\n",
              "    </tr>\n",
              "    <tr>\n",
              "      <th>4</th>\n",
              "      <td>438350</td>\n",
              "      <td>1259895.0</td>\n",
              "      <td>Y</td>\n",
              "      <td>573715.0</td>\n",
              "      <td>13212.77</td>\n",
              "      <td>0.0138</td>\n",
              "      <td>Non-IT</td>\n",
              "      <td>ndf</td>\n",
              "      <td>Morethan_One</td>\n",
              "      <td>1.0</td>\n",
              "      <td>Rural</td>\n",
              "      <td>2</td>\n",
              "      <td>Grad</td>\n",
              "      <td>Married</td>\n",
              "      <td>F</td>\n",
              "      <td>4_to_6</td>\n",
              "      <td>6.9</td>\n",
              "      <td>Y</td>\n",
              "      <td>Sun</td>\n",
              "      <td>Yes</td>\n",
              "      <td>CLoan</td>\n",
              "      <td>3.0</td>\n",
              "      <td>1.0</td>\n",
              "      <td>North</td>\n",
              "      <td>32.0</td>\n",
              "      <td>16.0</td>\n",
              "      <td>Yes</td>\n",
              "      <td>Yes</td>\n",
              "      <td>NaN</td>\n",
              "      <td>0.200</td>\n",
              "      <td>2339.0</td>\n",
              "      <td>6.0</td>\n",
              "      <td>0.0</td>\n",
              "    </tr>\n",
              "  </tbody>\n",
              "</table>\n",
              "</div>\n",
              "      <button class=\"colab-df-convert\" onclick=\"convertToInteractive('df-6a8c0bf8-606f-46a6-8eb2-e991672af9ce')\"\n",
              "              title=\"Convert this dataframe to an interactive table.\"\n",
              "              style=\"display:none;\">\n",
              "        \n",
              "  <svg xmlns=\"http://www.w3.org/2000/svg\" height=\"24px\"viewBox=\"0 0 24 24\"\n",
              "       width=\"24px\">\n",
              "    <path d=\"M0 0h24v24H0V0z\" fill=\"none\"/>\n",
              "    <path d=\"M18.56 5.44l.94 2.06.94-2.06 2.06-.94-2.06-.94-.94-2.06-.94 2.06-2.06.94zm-11 1L8.5 8.5l.94-2.06 2.06-.94-2.06-.94L8.5 2.5l-.94 2.06-2.06.94zm10 10l.94 2.06.94-2.06 2.06-.94-2.06-.94-.94-2.06-.94 2.06-2.06.94z\"/><path d=\"M17.41 7.96l-1.37-1.37c-.4-.4-.92-.59-1.43-.59-.52 0-1.04.2-1.43.59L10.3 9.45l-7.72 7.72c-.78.78-.78 2.05 0 2.83L4 21.41c.39.39.9.59 1.41.59.51 0 1.02-.2 1.41-.59l7.78-7.78 2.81-2.81c.8-.78.8-2.07 0-2.86zM5.41 20L4 18.59l7.72-7.72 1.47 1.35L5.41 20z\"/>\n",
              "  </svg>\n",
              "      </button>\n",
              "      \n",
              "  <style>\n",
              "    .colab-df-container {\n",
              "      display:flex;\n",
              "      flex-wrap:wrap;\n",
              "      gap: 12px;\n",
              "    }\n",
              "\n",
              "    .colab-df-convert {\n",
              "      background-color: #E8F0FE;\n",
              "      border: none;\n",
              "      border-radius: 50%;\n",
              "      cursor: pointer;\n",
              "      display: none;\n",
              "      fill: #1967D2;\n",
              "      height: 32px;\n",
              "      padding: 0 0 0 0;\n",
              "      width: 32px;\n",
              "    }\n",
              "\n",
              "    .colab-df-convert:hover {\n",
              "      background-color: #E2EBFA;\n",
              "      box-shadow: 0px 1px 2px rgba(60, 64, 67, 0.3), 0px 1px 3px 1px rgba(60, 64, 67, 0.15);\n",
              "      fill: #174EA6;\n",
              "    }\n",
              "\n",
              "    [theme=dark] .colab-df-convert {\n",
              "      background-color: #3B4455;\n",
              "      fill: #D2E3FC;\n",
              "    }\n",
              "\n",
              "    [theme=dark] .colab-df-convert:hover {\n",
              "      background-color: #434B5C;\n",
              "      box-shadow: 0px 1px 3px 1px rgba(0, 0, 0, 0.15);\n",
              "      filter: drop-shadow(0px 1px 2px rgba(0, 0, 0, 0.3));\n",
              "      fill: #FFFFFF;\n",
              "    }\n",
              "  </style>\n",
              "\n",
              "      <script>\n",
              "        const buttonEl =\n",
              "          document.querySelector('#df-6a8c0bf8-606f-46a6-8eb2-e991672af9ce button.colab-df-convert');\n",
              "        buttonEl.style.display =\n",
              "          google.colab.kernel.accessAllowed ? 'block' : 'none';\n",
              "\n",
              "        async function convertToInteractive(key) {\n",
              "          const element = document.querySelector('#df-6a8c0bf8-606f-46a6-8eb2-e991672af9ce');\n",
              "          const dataTable =\n",
              "            await google.colab.kernel.invokeFunction('convertToInteractive',\n",
              "                                                     [key], {});\n",
              "          if (!dataTable) return;\n",
              "\n",
              "          const docLinkHtml = 'Like what you see? Visit the ' +\n",
              "            '<a target=\"_blank\" href=https://colab.research.google.com/notebooks/data_table.ipynb>data table notebook</a>'\n",
              "            + ' to learn more about interactive tables.';\n",
              "          element.innerHTML = '';\n",
              "          dataTable['output_type'] = 'display_data';\n",
              "          await google.colab.output.renderOutput(dataTable, element);\n",
              "          const docLink = document.createElement('div');\n",
              "          docLink.innerHTML = docLinkHtml;\n",
              "          element.appendChild(docLink);\n",
              "        }\n",
              "      </script>\n",
              "    </div>\n",
              "  </div>\n",
              "  "
            ]
          },
          "metadata": {},
          "execution_count": 102
        }
      ],
      "source": [
        "df.head(5)"
      ],
      "id": "b769d055"
    },
    {
      "cell_type": "code",
      "source": [
        ""
      ],
      "metadata": {
        "id": "N4sWqOa1DgsW"
      },
      "id": "N4sWqOa1DgsW",
      "execution_count": null,
      "outputs": []
    },
    {
      "cell_type": "markdown",
      "source": [
        "## 1 Data Cleaning"
      ],
      "metadata": {
        "id": "Zt9Yi8JrDhTY"
      },
      "id": "Zt9Yi8JrDhTY"
    },
    {
      "cell_type": "code",
      "source": [
        "df['Credit_Inq'].unique()\n"
      ],
      "metadata": {
        "colab": {
          "base_uri": "https://localhost:8080/"
        },
        "id": "THB28Rgaedfu",
        "outputId": "4a605915-09b6-4ba7-8089-d5a73dc242bb"
      },
      "id": "THB28Rgaedfu",
      "execution_count": null,
      "outputs": [
        {
          "output_type": "execute_result",
          "data": {
            "text/plain": [
              "array(['1', '2', '3', '>4', nan], dtype=object)"
            ]
          },
          "metadata": {},
          "execution_count": 30
        }
      ]
    },
    {
      "cell_type": "code",
      "source": [
        "df['Credit_Inq']=df['Credit_Inq'].astype('category')"
      ],
      "metadata": {
        "id": "0rmdWgKqev89"
      },
      "id": "0rmdWgKqev89",
      "execution_count": null,
      "outputs": []
    },
    {
      "cell_type": "code",
      "source": [
        "df['hour_Process'].unique()\n"
      ],
      "metadata": {
        "colab": {
          "base_uri": "https://localhost:8080/"
        },
        "id": "gSnq6BvSJnPv",
        "outputId": "5065c903-fe2f-44d1-b310-175a48d4be14"
      },
      "id": "gSnq6BvSJnPv",
      "execution_count": null,
      "outputs": [
        {
          "output_type": "execute_result",
          "data": {
            "text/plain": [
              "array([10., 12.,  5., 16., 14.,  9.,  8., 11., 13., 15.,  6., 18., 20.,\n",
              "       17.,  7., 19.,  2.,  3.,  1.,  4.,  0., 22., 21., 24., 23., 25.])"
            ]
          },
          "metadata": {},
          "execution_count": 32
        }
      ]
    },
    {
      "cell_type": "code",
      "source": [
        "df = df.drop (df.index[df ['hour_Process'] == 25])\n",
        "df['hour_Process']=df['hour_Process'].replace([24],0) \n",
        "#d#f['hour_Process']=df['hour_Process'].astype('Int64')\n",
        "#df['hour_Process']=df['hour_Process'].astype('category')\n",
        "\n",
        "#df['Company_Rating']=df['Company_Rating'].astype('Int64')\n",
        "#df['Product_bought']=df['Product_bought'].astype('Int64')\n",
        "#df['Contact_age']=df['Contact_age'].astype('Int64')\n",
        "\n",
        "\n",
        "#df['Credit_Inq']=df['Credit_Inq'].astype('category')\n",
        "#df['Age']=df['Age'].astype('Int64')\n",
        "df['Home_Appliances']=df['Home_Appliances'].astype(np.int64)\n",
        "#df['Dependents']=df['Dependents'].astype('Int64')\n",
        "#df['Default']=df['Default'].astype('Int64')\n"
      ],
      "metadata": {
        "id": "aax7Www9LAyW"
      },
      "id": "aax7Www9LAyW",
      "execution_count": null,
      "outputs": []
    },
    {
      "cell_type": "markdown",
      "source": [
        ""
      ],
      "metadata": {
        "id": "C9iV624zuzNh"
      },
      "id": "C9iV624zuzNh"
    },
    {
      "cell_type": "code",
      "source": [
        ""
      ],
      "metadata": {
        "id": "DadrCTbcLutE"
      },
      "id": "DadrCTbcLutE",
      "execution_count": null,
      "outputs": []
    },
    {
      "cell_type": "code",
      "source": [
        "df.info()"
      ],
      "metadata": {
        "colab": {
          "base_uri": "https://localhost:8080/"
        },
        "id": "BR1moEI-LLnx",
        "outputId": "266c0bcd-d76e-4dae-c716-ff47d192597b"
      },
      "id": "BR1moEI-LLnx",
      "execution_count": null,
      "outputs": [
        {
          "output_type": "stream",
          "name": "stdout",
          "text": [
            "<class 'pandas.core.frame.DataFrame'>\n",
            "Int64Index: 132435 entries, 0 to 132439\n",
            "Data columns (total 33 columns):\n",
            " #   Column              Non-Null Count   Dtype  \n",
            "---  ------              --------------   -----  \n",
            " 0   ID                  132435 non-null  int64  \n",
            " 1   Compensation        126193 non-null  float64\n",
            " 2   Vehicle_Status      123332 non-null  object \n",
            " 3   Loan_amt            132435 non-null  float64\n",
            " 4   Annuity_amt         127824 non-null  float64\n",
            " 5   density_Ind         127019 non-null  float64\n",
            " 6   Job_Type            122187 non-null  object \n",
            " 7   Default_hist        132435 non-null  object \n",
            " 8   Prop_List           130470 non-null  object \n",
            " 9   Home_Appliances     121471 non-null  float64\n",
            " 10  Region_Type         132435 non-null  object \n",
            " 11  Credit_Inq          129746 non-null  object \n",
            " 12  Education_det       132435 non-null  object \n",
            " 13  Marital_Stat        132435 non-null  object \n",
            " 14  Gen                 132435 non-null  object \n",
            " 15  Credit_Lnks         132435 non-null  object \n",
            " 16  Experience          110590 non-null  float64\n",
            " 17  Income_Alt          124754 non-null  object \n",
            " 18  Day_Process         132435 non-null  object \n",
            " 19  Ph.No               132435 non-null  object \n",
            " 20  Type_Loan           132435 non-null  object \n",
            " 21  Dependents          132435 non-null  float64\n",
            " 22  Company_Rating      120705 non-null  float64\n",
            " 23  Region              132435 non-null  object \n",
            " 24  Age                 132435 non-null  float64\n",
            " 25  hour_Process        132435 non-null  float64\n",
            " 26  Addr_permanent      132435 non-null  object \n",
            " 27  Permanent_Addr_tag  132435 non-null  object \n",
            " 28  c1_rated            114922 non-null  float64\n",
            " 29  c2_rated            119115 non-null  float64\n",
            " 30  Contact_age         124282 non-null  float64\n",
            " 31  Product_bought      132435 non-null  float64\n",
            " 32  Default             132435 non-null  float64\n",
            "dtypes: float64(15), int64(1), object(17)\n",
            "memory usage: 38.4+ MB\n"
          ]
        }
      ]
    },
    {
      "cell_type": "markdown",
      "source": [
        "###hour_Process is a categorical variable. There is an anomaly 25, we need to  remove the rows "
      ],
      "metadata": {
        "id": "yeJbQ-B5J3q9"
      },
      "id": "yeJbQ-B5J3q9"
    },
    {
      "cell_type": "code",
      "execution_count": null,
      "metadata": {
        "colab": {
          "base_uri": "https://localhost:8080/"
        },
        "id": "e83feeba",
        "outputId": "84886f66-619c-41ca-e2e7-2aef34d909a4"
      },
      "outputs": [
        {
          "output_type": "stream",
          "name": "stdout",
          "text": [
            "convert all object features as categorical\n",
            "Replace Null\n",
            "Remove outlier\n",
            "Onehot Encoding\n"
          ]
        }
      ],
      "source": [
        "converteddata=preprocessing_data(df)"
      ],
      "id": "e83feeba"
    },
    {
      "cell_type": "code",
      "source": [
        "converteddata.isnull().sum().sum()"
      ],
      "metadata": {
        "colab": {
          "base_uri": "https://localhost:8080/"
        },
        "id": "uXJBjhARg-0j",
        "outputId": "55f9c11d-b345-447e-d3c7-8c7e9aa8c714"
      },
      "id": "uXJBjhARg-0j",
      "execution_count": null,
      "outputs": [
        {
          "output_type": "execute_result",
          "data": {
            "text/plain": [
              "0"
            ]
          },
          "metadata": {},
          "execution_count": 240
        }
      ]
    },
    {
      "cell_type": "code",
      "source": [
        "converteddata.info()"
      ],
      "metadata": {
        "colab": {
          "base_uri": "https://localhost:8080/"
        },
        "id": "Pk2fmSR1zfjk",
        "outputId": "90e08b18-9de3-4cc7-b5fd-095ace8d9835"
      },
      "id": "Pk2fmSR1zfjk",
      "execution_count": null,
      "outputs": [
        {
          "output_type": "stream",
          "name": "stdout",
          "text": [
            "<class 'pandas.core.frame.DataFrame'>\n",
            "Int64Index: 132435 entries, 0 to 132439\n",
            "Data columns (total 44 columns):\n",
            " #   Column                  Non-Null Count   Dtype  \n",
            "---  ------                  --------------   -----  \n",
            " 0   Compensation            132435 non-null  float64\n",
            " 1   Loan_amt                132435 non-null  float64\n",
            " 2   Annuity_amt             132435 non-null  float64\n",
            " 3   density_Ind             132435 non-null  float64\n",
            " 4   Prop_List               132435 non-null  int64  \n",
            " 5   Home_Appliances         132435 non-null  int64  \n",
            " 6   Credit_Inq              132435 non-null  int64  \n",
            " 7   Credit_Lnks             132435 non-null  int64  \n",
            " 8   Experience              132435 non-null  float64\n",
            " 9   Dependents              132435 non-null  float64\n",
            " 10  Company_Rating          132435 non-null  float64\n",
            " 11  Age                     132435 non-null  float64\n",
            " 12  hour_Process            132435 non-null  float64\n",
            " 13  c1_rated                132435 non-null  float64\n",
            " 14  c2_rated                132435 non-null  float64\n",
            " 15  Contact_age             132435 non-null  float64\n",
            " 16  Product_bought          132435 non-null  float64\n",
            " 17  Default                 132435 non-null  int64  \n",
            " 18  Vehicle_Status_Y        132435 non-null  uint8  \n",
            " 19  Job_Type_IT             132435 non-null  uint8  \n",
            " 20  Job_Type_Non-IT         132435 non-null  uint8  \n",
            " 21  Default_hist_ndf        132435 non-null  uint8  \n",
            " 22  Region_Type_Rural       132435 non-null  uint8  \n",
            " 23  Region_Type_other       132435 non-null  uint8  \n",
            " 24  Education_det_Other     132435 non-null  uint8  \n",
            " 25  Education_det_P_Grad    132435 non-null  uint8  \n",
            " 26  Marital_Stat_Married    132435 non-null  uint8  \n",
            " 27  Marital_Stat_Single     132435 non-null  uint8  \n",
            " 28  Marital_Stat_Widow      132435 non-null  uint8  \n",
            " 29  Gen_M                   132435 non-null  uint8  \n",
            " 30  Income_Alt_Y            132435 non-null  uint8  \n",
            " 31  Day_Process_SAT         132435 non-null  uint8  \n",
            " 32  Day_Process_Sun         132435 non-null  uint8  \n",
            " 33  Day_Process_Tue         132435 non-null  uint8  \n",
            " 34  Day_Process_mon         132435 non-null  uint8  \n",
            " 35  Day_Process_thur        132435 non-null  uint8  \n",
            " 36  Day_Process_wed         132435 non-null  uint8  \n",
            " 37  Ph.No_Yes               132435 non-null  uint8  \n",
            " 38  Type_Loan_RLoan         132435 non-null  uint8  \n",
            " 39  Region_East             132435 non-null  uint8  \n",
            " 40  Region_North            132435 non-null  uint8  \n",
            " 41  Region_South            132435 non-null  uint8  \n",
            " 42  Addr_permanent_Yes      132435 non-null  uint8  \n",
            " 43  Permanent_Addr_tag_Yes  132435 non-null  uint8  \n",
            "dtypes: float64(13), int64(5), uint8(26)\n",
            "memory usage: 26.5 MB\n"
          ]
        }
      ]
    },
    {
      "cell_type": "code",
      "source": [
        "converteddata.head(5)"
      ],
      "metadata": {
        "colab": {
          "base_uri": "https://localhost:8080/",
          "height": 287
        },
        "id": "2r2yIpBbKvYz",
        "outputId": "f21e701b-4a4a-4edd-c129-1cbfd164035f"
      },
      "id": "2r2yIpBbKvYz",
      "execution_count": null,
      "outputs": [
        {
          "output_type": "execute_result",
          "data": {
            "text/plain": [
              "   Compensation  Loan_amt  Annuity_amt  density_Ind  Prop_List  \\\n",
              "0      801850.0  658040.0     13816.52       0.0304          2   \n",
              "1      884222.0  198075.0     11173.06       0.0194          2   \n",
              "2      284120.0  101056.0      8390.40       0.0118          1   \n",
              "3      341874.0  179008.0      7184.13       0.0373          0   \n",
              "4     1259895.0  573715.0     13212.77       0.0138          2   \n",
              "\n",
              "   Home_Appliances  Credit_Inq  Credit_Lnks  Experience  Dependents  \\\n",
              "0                3           1            1    0.900000         3.0   \n",
              "1                1           2            1    3.000000         3.0   \n",
              "2                4           3            1    6.580481         2.0   \n",
              "3                2           1            1    4.700000         4.0   \n",
              "4                1           2            2    6.900000         3.0   \n",
              "\n",
              "   Company_Rating   Age  hour_Process  c1_rated  c2_rated  Contact_age  \\\n",
              "0             2.0  46.0          10.0  0.077000     0.077         18.0   \n",
              "1             2.0  46.0          12.0  0.184000     0.184        306.0   \n",
              "2             2.0  57.0           5.0  0.538000     0.538        281.0   \n",
              "3             2.0  39.0          12.0  0.505929     0.561         20.0   \n",
              "4             2.0  32.0          16.0  0.505929     0.200       2339.0   \n",
              "\n",
              "   Product_bought  Default  Vehicle_Status_Y  Job_Type_IT  Job_Type_Non-IT  \\\n",
              "0             2.0        1                 1            1                0   \n",
              "1             4.0        0                 0            1                0   \n",
              "2             4.0        0                 0            0                0   \n",
              "3             4.0        0                 0            0                1   \n",
              "4             6.0        0                 1            0                1   \n",
              "\n",
              "   Default_hist_ndf  Region_Type_Rural  Region_Type_other  \\\n",
              "0                 1                  0                  0   \n",
              "1                 1                  0                  0   \n",
              "2                 1                  0                  0   \n",
              "3                 0                  0                  0   \n",
              "4                 1                  1                  0   \n",
              "\n",
              "   Education_det_Other  Education_det_P_Grad  Marital_Stat_Married  \\\n",
              "0                    0                     0                     1   \n",
              "1                    0                     0                     1   \n",
              "2                    1                     0                     1   \n",
              "3                    0                     0                     1   \n",
              "4                    0                     0                     1   \n",
              "\n",
              "   Marital_Stat_Single  Marital_Stat_Widow  Gen_M  Income_Alt_Y  \\\n",
              "0                    0                   0      0             0   \n",
              "1                    0                   0      1             0   \n",
              "2                    0                   0      1             0   \n",
              "3                    0                   0      1             0   \n",
              "4                    0                   0      0             1   \n",
              "\n",
              "   Day_Process_SAT  Day_Process_Sun  Day_Process_Tue  Day_Process_mon  \\\n",
              "0                1                0                0                0   \n",
              "1                0                0                0                0   \n",
              "2                0                0                0                1   \n",
              "3                0                0                0                0   \n",
              "4                0                1                0                0   \n",
              "\n",
              "   Day_Process_thur  Day_Process_wed  Ph.No_Yes  Type_Loan_RLoan  Region_East  \\\n",
              "0                 0                0          1                0            1   \n",
              "1                 0                1          1                0            0   \n",
              "2                 0                0          1                0            0   \n",
              "3                 0                1          1                1            0   \n",
              "4                 0                0          1                0            0   \n",
              "\n",
              "   Region_North  Region_South  Addr_permanent_Yes  Permanent_Addr_tag_Yes  \n",
              "0             0             0                   1                       0  \n",
              "1             1             0                   1                       1  \n",
              "2             1             0                   1                       1  \n",
              "3             0             1                   1                       1  \n",
              "4             1             0                   1                       1  "
            ],
            "text/html": [
              "\n",
              "  <div id=\"df-c41c1d56-932c-4d25-8bd0-51c8922e25bd\">\n",
              "    <div class=\"colab-df-container\">\n",
              "      <div>\n",
              "<style scoped>\n",
              "    .dataframe tbody tr th:only-of-type {\n",
              "        vertical-align: middle;\n",
              "    }\n",
              "\n",
              "    .dataframe tbody tr th {\n",
              "        vertical-align: top;\n",
              "    }\n",
              "\n",
              "    .dataframe thead th {\n",
              "        text-align: right;\n",
              "    }\n",
              "</style>\n",
              "<table border=\"1\" class=\"dataframe\">\n",
              "  <thead>\n",
              "    <tr style=\"text-align: right;\">\n",
              "      <th></th>\n",
              "      <th>Compensation</th>\n",
              "      <th>Loan_amt</th>\n",
              "      <th>Annuity_amt</th>\n",
              "      <th>density_Ind</th>\n",
              "      <th>Prop_List</th>\n",
              "      <th>Home_Appliances</th>\n",
              "      <th>Credit_Inq</th>\n",
              "      <th>Credit_Lnks</th>\n",
              "      <th>Experience</th>\n",
              "      <th>Dependents</th>\n",
              "      <th>Company_Rating</th>\n",
              "      <th>Age</th>\n",
              "      <th>hour_Process</th>\n",
              "      <th>c1_rated</th>\n",
              "      <th>c2_rated</th>\n",
              "      <th>Contact_age</th>\n",
              "      <th>Product_bought</th>\n",
              "      <th>Default</th>\n",
              "      <th>Vehicle_Status_Y</th>\n",
              "      <th>Job_Type_IT</th>\n",
              "      <th>Job_Type_Non-IT</th>\n",
              "      <th>Default_hist_ndf</th>\n",
              "      <th>Region_Type_Rural</th>\n",
              "      <th>Region_Type_other</th>\n",
              "      <th>Education_det_Other</th>\n",
              "      <th>Education_det_P_Grad</th>\n",
              "      <th>Marital_Stat_Married</th>\n",
              "      <th>Marital_Stat_Single</th>\n",
              "      <th>Marital_Stat_Widow</th>\n",
              "      <th>Gen_M</th>\n",
              "      <th>Income_Alt_Y</th>\n",
              "      <th>Day_Process_SAT</th>\n",
              "      <th>Day_Process_Sun</th>\n",
              "      <th>Day_Process_Tue</th>\n",
              "      <th>Day_Process_mon</th>\n",
              "      <th>Day_Process_thur</th>\n",
              "      <th>Day_Process_wed</th>\n",
              "      <th>Ph.No_Yes</th>\n",
              "      <th>Type_Loan_RLoan</th>\n",
              "      <th>Region_East</th>\n",
              "      <th>Region_North</th>\n",
              "      <th>Region_South</th>\n",
              "      <th>Addr_permanent_Yes</th>\n",
              "      <th>Permanent_Addr_tag_Yes</th>\n",
              "    </tr>\n",
              "  </thead>\n",
              "  <tbody>\n",
              "    <tr>\n",
              "      <th>0</th>\n",
              "      <td>801850.0</td>\n",
              "      <td>658040.0</td>\n",
              "      <td>13816.52</td>\n",
              "      <td>0.0304</td>\n",
              "      <td>2</td>\n",
              "      <td>3</td>\n",
              "      <td>1</td>\n",
              "      <td>1</td>\n",
              "      <td>0.900000</td>\n",
              "      <td>3.0</td>\n",
              "      <td>2.0</td>\n",
              "      <td>46.0</td>\n",
              "      <td>10.0</td>\n",
              "      <td>0.077000</td>\n",
              "      <td>0.077</td>\n",
              "      <td>18.0</td>\n",
              "      <td>2.0</td>\n",
              "      <td>1</td>\n",
              "      <td>1</td>\n",
              "      <td>1</td>\n",
              "      <td>0</td>\n",
              "      <td>1</td>\n",
              "      <td>0</td>\n",
              "      <td>0</td>\n",
              "      <td>0</td>\n",
              "      <td>0</td>\n",
              "      <td>1</td>\n",
              "      <td>0</td>\n",
              "      <td>0</td>\n",
              "      <td>0</td>\n",
              "      <td>0</td>\n",
              "      <td>1</td>\n",
              "      <td>0</td>\n",
              "      <td>0</td>\n",
              "      <td>0</td>\n",
              "      <td>0</td>\n",
              "      <td>0</td>\n",
              "      <td>1</td>\n",
              "      <td>0</td>\n",
              "      <td>1</td>\n",
              "      <td>0</td>\n",
              "      <td>0</td>\n",
              "      <td>1</td>\n",
              "      <td>0</td>\n",
              "    </tr>\n",
              "    <tr>\n",
              "      <th>1</th>\n",
              "      <td>884222.0</td>\n",
              "      <td>198075.0</td>\n",
              "      <td>11173.06</td>\n",
              "      <td>0.0194</td>\n",
              "      <td>2</td>\n",
              "      <td>1</td>\n",
              "      <td>2</td>\n",
              "      <td>1</td>\n",
              "      <td>3.000000</td>\n",
              "      <td>3.0</td>\n",
              "      <td>2.0</td>\n",
              "      <td>46.0</td>\n",
              "      <td>12.0</td>\n",
              "      <td>0.184000</td>\n",
              "      <td>0.184</td>\n",
              "      <td>306.0</td>\n",
              "      <td>4.0</td>\n",
              "      <td>0</td>\n",
              "      <td>0</td>\n",
              "      <td>1</td>\n",
              "      <td>0</td>\n",
              "      <td>1</td>\n",
              "      <td>0</td>\n",
              "      <td>0</td>\n",
              "      <td>0</td>\n",
              "      <td>0</td>\n",
              "      <td>1</td>\n",
              "      <td>0</td>\n",
              "      <td>0</td>\n",
              "      <td>1</td>\n",
              "      <td>0</td>\n",
              "      <td>0</td>\n",
              "      <td>0</td>\n",
              "      <td>0</td>\n",
              "      <td>0</td>\n",
              "      <td>0</td>\n",
              "      <td>1</td>\n",
              "      <td>1</td>\n",
              "      <td>0</td>\n",
              "      <td>0</td>\n",
              "      <td>1</td>\n",
              "      <td>0</td>\n",
              "      <td>1</td>\n",
              "      <td>1</td>\n",
              "    </tr>\n",
              "    <tr>\n",
              "      <th>2</th>\n",
              "      <td>284120.0</td>\n",
              "      <td>101056.0</td>\n",
              "      <td>8390.40</td>\n",
              "      <td>0.0118</td>\n",
              "      <td>1</td>\n",
              "      <td>4</td>\n",
              "      <td>3</td>\n",
              "      <td>1</td>\n",
              "      <td>6.580481</td>\n",
              "      <td>2.0</td>\n",
              "      <td>2.0</td>\n",
              "      <td>57.0</td>\n",
              "      <td>5.0</td>\n",
              "      <td>0.538000</td>\n",
              "      <td>0.538</td>\n",
              "      <td>281.0</td>\n",
              "      <td>4.0</td>\n",
              "      <td>0</td>\n",
              "      <td>0</td>\n",
              "      <td>0</td>\n",
              "      <td>0</td>\n",
              "      <td>1</td>\n",
              "      <td>0</td>\n",
              "      <td>0</td>\n",
              "      <td>1</td>\n",
              "      <td>0</td>\n",
              "      <td>1</td>\n",
              "      <td>0</td>\n",
              "      <td>0</td>\n",
              "      <td>1</td>\n",
              "      <td>0</td>\n",
              "      <td>0</td>\n",
              "      <td>0</td>\n",
              "      <td>0</td>\n",
              "      <td>1</td>\n",
              "      <td>0</td>\n",
              "      <td>0</td>\n",
              "      <td>1</td>\n",
              "      <td>0</td>\n",
              "      <td>0</td>\n",
              "      <td>1</td>\n",
              "      <td>0</td>\n",
              "      <td>1</td>\n",
              "      <td>1</td>\n",
              "    </tr>\n",
              "    <tr>\n",
              "      <th>3</th>\n",
              "      <td>341874.0</td>\n",
              "      <td>179008.0</td>\n",
              "      <td>7184.13</td>\n",
              "      <td>0.0373</td>\n",
              "      <td>0</td>\n",
              "      <td>2</td>\n",
              "      <td>1</td>\n",
              "      <td>1</td>\n",
              "      <td>4.700000</td>\n",
              "      <td>4.0</td>\n",
              "      <td>2.0</td>\n",
              "      <td>39.0</td>\n",
              "      <td>12.0</td>\n",
              "      <td>0.505929</td>\n",
              "      <td>0.561</td>\n",
              "      <td>20.0</td>\n",
              "      <td>4.0</td>\n",
              "      <td>0</td>\n",
              "      <td>0</td>\n",
              "      <td>0</td>\n",
              "      <td>1</td>\n",
              "      <td>0</td>\n",
              "      <td>0</td>\n",
              "      <td>0</td>\n",
              "      <td>0</td>\n",
              "      <td>0</td>\n",
              "      <td>1</td>\n",
              "      <td>0</td>\n",
              "      <td>0</td>\n",
              "      <td>1</td>\n",
              "      <td>0</td>\n",
              "      <td>0</td>\n",
              "      <td>0</td>\n",
              "      <td>0</td>\n",
              "      <td>0</td>\n",
              "      <td>0</td>\n",
              "      <td>1</td>\n",
              "      <td>1</td>\n",
              "      <td>1</td>\n",
              "      <td>0</td>\n",
              "      <td>0</td>\n",
              "      <td>1</td>\n",
              "      <td>1</td>\n",
              "      <td>1</td>\n",
              "    </tr>\n",
              "    <tr>\n",
              "      <th>4</th>\n",
              "      <td>1259895.0</td>\n",
              "      <td>573715.0</td>\n",
              "      <td>13212.77</td>\n",
              "      <td>0.0138</td>\n",
              "      <td>2</td>\n",
              "      <td>1</td>\n",
              "      <td>2</td>\n",
              "      <td>2</td>\n",
              "      <td>6.900000</td>\n",
              "      <td>3.0</td>\n",
              "      <td>2.0</td>\n",
              "      <td>32.0</td>\n",
              "      <td>16.0</td>\n",
              "      <td>0.505929</td>\n",
              "      <td>0.200</td>\n",
              "      <td>2339.0</td>\n",
              "      <td>6.0</td>\n",
              "      <td>0</td>\n",
              "      <td>1</td>\n",
              "      <td>0</td>\n",
              "      <td>1</td>\n",
              "      <td>1</td>\n",
              "      <td>1</td>\n",
              "      <td>0</td>\n",
              "      <td>0</td>\n",
              "      <td>0</td>\n",
              "      <td>1</td>\n",
              "      <td>0</td>\n",
              "      <td>0</td>\n",
              "      <td>0</td>\n",
              "      <td>1</td>\n",
              "      <td>0</td>\n",
              "      <td>1</td>\n",
              "      <td>0</td>\n",
              "      <td>0</td>\n",
              "      <td>0</td>\n",
              "      <td>0</td>\n",
              "      <td>1</td>\n",
              "      <td>0</td>\n",
              "      <td>0</td>\n",
              "      <td>1</td>\n",
              "      <td>0</td>\n",
              "      <td>1</td>\n",
              "      <td>1</td>\n",
              "    </tr>\n",
              "  </tbody>\n",
              "</table>\n",
              "</div>\n",
              "      <button class=\"colab-df-convert\" onclick=\"convertToInteractive('df-c41c1d56-932c-4d25-8bd0-51c8922e25bd')\"\n",
              "              title=\"Convert this dataframe to an interactive table.\"\n",
              "              style=\"display:none;\">\n",
              "        \n",
              "  <svg xmlns=\"http://www.w3.org/2000/svg\" height=\"24px\"viewBox=\"0 0 24 24\"\n",
              "       width=\"24px\">\n",
              "    <path d=\"M0 0h24v24H0V0z\" fill=\"none\"/>\n",
              "    <path d=\"M18.56 5.44l.94 2.06.94-2.06 2.06-.94-2.06-.94-.94-2.06-.94 2.06-2.06.94zm-11 1L8.5 8.5l.94-2.06 2.06-.94-2.06-.94L8.5 2.5l-.94 2.06-2.06.94zm10 10l.94 2.06.94-2.06 2.06-.94-2.06-.94-.94-2.06-.94 2.06-2.06.94z\"/><path d=\"M17.41 7.96l-1.37-1.37c-.4-.4-.92-.59-1.43-.59-.52 0-1.04.2-1.43.59L10.3 9.45l-7.72 7.72c-.78.78-.78 2.05 0 2.83L4 21.41c.39.39.9.59 1.41.59.51 0 1.02-.2 1.41-.59l7.78-7.78 2.81-2.81c.8-.78.8-2.07 0-2.86zM5.41 20L4 18.59l7.72-7.72 1.47 1.35L5.41 20z\"/>\n",
              "  </svg>\n",
              "      </button>\n",
              "      \n",
              "  <style>\n",
              "    .colab-df-container {\n",
              "      display:flex;\n",
              "      flex-wrap:wrap;\n",
              "      gap: 12px;\n",
              "    }\n",
              "\n",
              "    .colab-df-convert {\n",
              "      background-color: #E8F0FE;\n",
              "      border: none;\n",
              "      border-radius: 50%;\n",
              "      cursor: pointer;\n",
              "      display: none;\n",
              "      fill: #1967D2;\n",
              "      height: 32px;\n",
              "      padding: 0 0 0 0;\n",
              "      width: 32px;\n",
              "    }\n",
              "\n",
              "    .colab-df-convert:hover {\n",
              "      background-color: #E2EBFA;\n",
              "      box-shadow: 0px 1px 2px rgba(60, 64, 67, 0.3), 0px 1px 3px 1px rgba(60, 64, 67, 0.15);\n",
              "      fill: #174EA6;\n",
              "    }\n",
              "\n",
              "    [theme=dark] .colab-df-convert {\n",
              "      background-color: #3B4455;\n",
              "      fill: #D2E3FC;\n",
              "    }\n",
              "\n",
              "    [theme=dark] .colab-df-convert:hover {\n",
              "      background-color: #434B5C;\n",
              "      box-shadow: 0px 1px 3px 1px rgba(0, 0, 0, 0.15);\n",
              "      filter: drop-shadow(0px 1px 2px rgba(0, 0, 0, 0.3));\n",
              "      fill: #FFFFFF;\n",
              "    }\n",
              "  </style>\n",
              "\n",
              "      <script>\n",
              "        const buttonEl =\n",
              "          document.querySelector('#df-c41c1d56-932c-4d25-8bd0-51c8922e25bd button.colab-df-convert');\n",
              "        buttonEl.style.display =\n",
              "          google.colab.kernel.accessAllowed ? 'block' : 'none';\n",
              "\n",
              "        async function convertToInteractive(key) {\n",
              "          const element = document.querySelector('#df-c41c1d56-932c-4d25-8bd0-51c8922e25bd');\n",
              "          const dataTable =\n",
              "            await google.colab.kernel.invokeFunction('convertToInteractive',\n",
              "                                                     [key], {});\n",
              "          if (!dataTable) return;\n",
              "\n",
              "          const docLinkHtml = 'Like what you see? Visit the ' +\n",
              "            '<a target=\"_blank\" href=https://colab.research.google.com/notebooks/data_table.ipynb>data table notebook</a>'\n",
              "            + ' to learn more about interactive tables.';\n",
              "          element.innerHTML = '';\n",
              "          dataTable['output_type'] = 'display_data';\n",
              "          await google.colab.output.renderOutput(dataTable, element);\n",
              "          const docLink = document.createElement('div');\n",
              "          docLink.innerHTML = docLinkHtml;\n",
              "          element.appendChild(docLink);\n",
              "        }\n",
              "      </script>\n",
              "    </div>\n",
              "  </div>\n",
              "  "
            ]
          },
          "metadata": {},
          "execution_count": 242
        }
      ]
    },
    {
      "cell_type": "markdown",
      "source": [
        "## 2 Exploratory Data Analyis"
      ],
      "metadata": {
        "id": "OEA7U3hODzkq"
      },
      "id": "OEA7U3hODzkq"
    },
    {
      "cell_type": "code",
      "source": [
        "df.describe()"
      ],
      "metadata": {
        "colab": {
          "base_uri": "https://localhost:8080/",
          "height": 364
        },
        "id": "WX2AjLm2qVyc",
        "outputId": "2e939dea-743e-4ed5-ecb7-6cee0de9a5ec"
      },
      "id": "WX2AjLm2qVyc",
      "execution_count": null,
      "outputs": [
        {
          "output_type": "execute_result",
          "data": {
            "text/plain": [
              "                  ID  Compensation      Loan_amt    Annuity_amt  \\\n",
              "count  132435.000000  1.324350e+05  1.324350e+05  132435.000000   \n",
              "mean   488938.364247  7.450480e+05  4.148030e+05   10845.294617   \n",
              "std     58568.991124  4.590629e+05  2.746765e+05    2025.324011   \n",
              "min    387652.000000  1.527280e+05  3.427500e+04    5852.100000   \n",
              "25%    438095.000000  5.251660e+05  2.045340e+05    9405.310000   \n",
              "50%    488952.000000  6.827200e+05  3.495450e+05   10845.294617   \n",
              "75%    539705.500000  8.657610e+05  5.582060e+05   12107.765000   \n",
              "max    590407.000000  7.037702e+07  2.872142e+06   41301.000000   \n",
              "\n",
              "         density_Ind  Home_Appliances     Experience     Dependents  \\\n",
              "count  132435.000000    132435.000000  132435.000000  132435.000000   \n",
              "mean        0.020446         3.220884       6.580481       2.155472   \n",
              "std         0.014765         1.189240       5.808895       0.909055   \n",
              "min         0.000100         1.000000       0.000000       1.000000   \n",
              "25%         0.010800         2.000000       2.500000       2.000000   \n",
              "50%         0.020446         4.000000       6.100000       2.000000   \n",
              "75%         0.030000         4.000000       7.900000       3.000000   \n",
              "max         2.017800        19.000000      48.100000       9.000000   \n",
              "\n",
              "                 Age       c1_rated       c2_rated    Contact_age  \\\n",
              "count  132435.000000  132435.000000  132435.000000  132435.000000   \n",
              "mean       43.933288       0.505929       0.506180     979.417164   \n",
              "std        11.962775       0.250271       0.254844     803.667422   \n",
              "min        21.000000       0.000000       0.000000      10.000000   \n",
              "25%        34.000000       0.289000       0.283000     318.000000   \n",
              "50%        43.000000       0.505929       0.506180     855.000000   \n",
              "75%        54.000000       0.747000       0.754000    1546.000000   \n",
              "max        69.000000       0.947000       0.947000    4309.000000   \n",
              "\n",
              "       Product_bought        Default  \n",
              "count   132435.000000  132435.000000  \n",
              "mean         3.387752       0.264303  \n",
              "std          2.173261       0.440963  \n",
              "min          0.000000       0.000000  \n",
              "25%          2.000000       0.000000  \n",
              "50%          3.000000       0.000000  \n",
              "75%          5.000000       1.000000  \n",
              "max         25.000000       1.000000  "
            ],
            "text/html": [
              "\n",
              "  <div id=\"df-c0940672-184f-42f4-bece-ae33af74580b\">\n",
              "    <div class=\"colab-df-container\">\n",
              "      <div>\n",
              "<style scoped>\n",
              "    .dataframe tbody tr th:only-of-type {\n",
              "        vertical-align: middle;\n",
              "    }\n",
              "\n",
              "    .dataframe tbody tr th {\n",
              "        vertical-align: top;\n",
              "    }\n",
              "\n",
              "    .dataframe thead th {\n",
              "        text-align: right;\n",
              "    }\n",
              "</style>\n",
              "<table border=\"1\" class=\"dataframe\">\n",
              "  <thead>\n",
              "    <tr style=\"text-align: right;\">\n",
              "      <th></th>\n",
              "      <th>ID</th>\n",
              "      <th>Compensation</th>\n",
              "      <th>Loan_amt</th>\n",
              "      <th>Annuity_amt</th>\n",
              "      <th>density_Ind</th>\n",
              "      <th>Home_Appliances</th>\n",
              "      <th>Experience</th>\n",
              "      <th>Dependents</th>\n",
              "      <th>Age</th>\n",
              "      <th>c1_rated</th>\n",
              "      <th>c2_rated</th>\n",
              "      <th>Contact_age</th>\n",
              "      <th>Product_bought</th>\n",
              "      <th>Default</th>\n",
              "    </tr>\n",
              "  </thead>\n",
              "  <tbody>\n",
              "    <tr>\n",
              "      <th>count</th>\n",
              "      <td>132435.000000</td>\n",
              "      <td>1.324350e+05</td>\n",
              "      <td>1.324350e+05</td>\n",
              "      <td>132435.000000</td>\n",
              "      <td>132435.000000</td>\n",
              "      <td>132435.000000</td>\n",
              "      <td>132435.000000</td>\n",
              "      <td>132435.000000</td>\n",
              "      <td>132435.000000</td>\n",
              "      <td>132435.000000</td>\n",
              "      <td>132435.000000</td>\n",
              "      <td>132435.000000</td>\n",
              "      <td>132435.000000</td>\n",
              "      <td>132435.000000</td>\n",
              "    </tr>\n",
              "    <tr>\n",
              "      <th>mean</th>\n",
              "      <td>488938.364247</td>\n",
              "      <td>7.450480e+05</td>\n",
              "      <td>4.148030e+05</td>\n",
              "      <td>10845.294617</td>\n",
              "      <td>0.020446</td>\n",
              "      <td>3.220884</td>\n",
              "      <td>6.580481</td>\n",
              "      <td>2.155472</td>\n",
              "      <td>43.933288</td>\n",
              "      <td>0.505929</td>\n",
              "      <td>0.506180</td>\n",
              "      <td>979.417164</td>\n",
              "      <td>3.387752</td>\n",
              "      <td>0.264303</td>\n",
              "    </tr>\n",
              "    <tr>\n",
              "      <th>std</th>\n",
              "      <td>58568.991124</td>\n",
              "      <td>4.590629e+05</td>\n",
              "      <td>2.746765e+05</td>\n",
              "      <td>2025.324011</td>\n",
              "      <td>0.014765</td>\n",
              "      <td>1.189240</td>\n",
              "      <td>5.808895</td>\n",
              "      <td>0.909055</td>\n",
              "      <td>11.962775</td>\n",
              "      <td>0.250271</td>\n",
              "      <td>0.254844</td>\n",
              "      <td>803.667422</td>\n",
              "      <td>2.173261</td>\n",
              "      <td>0.440963</td>\n",
              "    </tr>\n",
              "    <tr>\n",
              "      <th>min</th>\n",
              "      <td>387652.000000</td>\n",
              "      <td>1.527280e+05</td>\n",
              "      <td>3.427500e+04</td>\n",
              "      <td>5852.100000</td>\n",
              "      <td>0.000100</td>\n",
              "      <td>1.000000</td>\n",
              "      <td>0.000000</td>\n",
              "      <td>1.000000</td>\n",
              "      <td>21.000000</td>\n",
              "      <td>0.000000</td>\n",
              "      <td>0.000000</td>\n",
              "      <td>10.000000</td>\n",
              "      <td>0.000000</td>\n",
              "      <td>0.000000</td>\n",
              "    </tr>\n",
              "    <tr>\n",
              "      <th>25%</th>\n",
              "      <td>438095.000000</td>\n",
              "      <td>5.251660e+05</td>\n",
              "      <td>2.045340e+05</td>\n",
              "      <td>9405.310000</td>\n",
              "      <td>0.010800</td>\n",
              "      <td>2.000000</td>\n",
              "      <td>2.500000</td>\n",
              "      <td>2.000000</td>\n",
              "      <td>34.000000</td>\n",
              "      <td>0.289000</td>\n",
              "      <td>0.283000</td>\n",
              "      <td>318.000000</td>\n",
              "      <td>2.000000</td>\n",
              "      <td>0.000000</td>\n",
              "    </tr>\n",
              "    <tr>\n",
              "      <th>50%</th>\n",
              "      <td>488952.000000</td>\n",
              "      <td>6.827200e+05</td>\n",
              "      <td>3.495450e+05</td>\n",
              "      <td>10845.294617</td>\n",
              "      <td>0.020446</td>\n",
              "      <td>4.000000</td>\n",
              "      <td>6.100000</td>\n",
              "      <td>2.000000</td>\n",
              "      <td>43.000000</td>\n",
              "      <td>0.505929</td>\n",
              "      <td>0.506180</td>\n",
              "      <td>855.000000</td>\n",
              "      <td>3.000000</td>\n",
              "      <td>0.000000</td>\n",
              "    </tr>\n",
              "    <tr>\n",
              "      <th>75%</th>\n",
              "      <td>539705.500000</td>\n",
              "      <td>8.657610e+05</td>\n",
              "      <td>5.582060e+05</td>\n",
              "      <td>12107.765000</td>\n",
              "      <td>0.030000</td>\n",
              "      <td>4.000000</td>\n",
              "      <td>7.900000</td>\n",
              "      <td>3.000000</td>\n",
              "      <td>54.000000</td>\n",
              "      <td>0.747000</td>\n",
              "      <td>0.754000</td>\n",
              "      <td>1546.000000</td>\n",
              "      <td>5.000000</td>\n",
              "      <td>1.000000</td>\n",
              "    </tr>\n",
              "    <tr>\n",
              "      <th>max</th>\n",
              "      <td>590407.000000</td>\n",
              "      <td>7.037702e+07</td>\n",
              "      <td>2.872142e+06</td>\n",
              "      <td>41301.000000</td>\n",
              "      <td>2.017800</td>\n",
              "      <td>19.000000</td>\n",
              "      <td>48.100000</td>\n",
              "      <td>9.000000</td>\n",
              "      <td>69.000000</td>\n",
              "      <td>0.947000</td>\n",
              "      <td>0.947000</td>\n",
              "      <td>4309.000000</td>\n",
              "      <td>25.000000</td>\n",
              "      <td>1.000000</td>\n",
              "    </tr>\n",
              "  </tbody>\n",
              "</table>\n",
              "</div>\n",
              "      <button class=\"colab-df-convert\" onclick=\"convertToInteractive('df-c0940672-184f-42f4-bece-ae33af74580b')\"\n",
              "              title=\"Convert this dataframe to an interactive table.\"\n",
              "              style=\"display:none;\">\n",
              "        \n",
              "  <svg xmlns=\"http://www.w3.org/2000/svg\" height=\"24px\"viewBox=\"0 0 24 24\"\n",
              "       width=\"24px\">\n",
              "    <path d=\"M0 0h24v24H0V0z\" fill=\"none\"/>\n",
              "    <path d=\"M18.56 5.44l.94 2.06.94-2.06 2.06-.94-2.06-.94-.94-2.06-.94 2.06-2.06.94zm-11 1L8.5 8.5l.94-2.06 2.06-.94-2.06-.94L8.5 2.5l-.94 2.06-2.06.94zm10 10l.94 2.06.94-2.06 2.06-.94-2.06-.94-.94-2.06-.94 2.06-2.06.94z\"/><path d=\"M17.41 7.96l-1.37-1.37c-.4-.4-.92-.59-1.43-.59-.52 0-1.04.2-1.43.59L10.3 9.45l-7.72 7.72c-.78.78-.78 2.05 0 2.83L4 21.41c.39.39.9.59 1.41.59.51 0 1.02-.2 1.41-.59l7.78-7.78 2.81-2.81c.8-.78.8-2.07 0-2.86zM5.41 20L4 18.59l7.72-7.72 1.47 1.35L5.41 20z\"/>\n",
              "  </svg>\n",
              "      </button>\n",
              "      \n",
              "  <style>\n",
              "    .colab-df-container {\n",
              "      display:flex;\n",
              "      flex-wrap:wrap;\n",
              "      gap: 12px;\n",
              "    }\n",
              "\n",
              "    .colab-df-convert {\n",
              "      background-color: #E8F0FE;\n",
              "      border: none;\n",
              "      border-radius: 50%;\n",
              "      cursor: pointer;\n",
              "      display: none;\n",
              "      fill: #1967D2;\n",
              "      height: 32px;\n",
              "      padding: 0 0 0 0;\n",
              "      width: 32px;\n",
              "    }\n",
              "\n",
              "    .colab-df-convert:hover {\n",
              "      background-color: #E2EBFA;\n",
              "      box-shadow: 0px 1px 2px rgba(60, 64, 67, 0.3), 0px 1px 3px 1px rgba(60, 64, 67, 0.15);\n",
              "      fill: #174EA6;\n",
              "    }\n",
              "\n",
              "    [theme=dark] .colab-df-convert {\n",
              "      background-color: #3B4455;\n",
              "      fill: #D2E3FC;\n",
              "    }\n",
              "\n",
              "    [theme=dark] .colab-df-convert:hover {\n",
              "      background-color: #434B5C;\n",
              "      box-shadow: 0px 1px 3px 1px rgba(0, 0, 0, 0.15);\n",
              "      filter: drop-shadow(0px 1px 2px rgba(0, 0, 0, 0.3));\n",
              "      fill: #FFFFFF;\n",
              "    }\n",
              "  </style>\n",
              "\n",
              "      <script>\n",
              "        const buttonEl =\n",
              "          document.querySelector('#df-c0940672-184f-42f4-bece-ae33af74580b button.colab-df-convert');\n",
              "        buttonEl.style.display =\n",
              "          google.colab.kernel.accessAllowed ? 'block' : 'none';\n",
              "\n",
              "        async function convertToInteractive(key) {\n",
              "          const element = document.querySelector('#df-c0940672-184f-42f4-bece-ae33af74580b');\n",
              "          const dataTable =\n",
              "            await google.colab.kernel.invokeFunction('convertToInteractive',\n",
              "                                                     [key], {});\n",
              "          if (!dataTable) return;\n",
              "\n",
              "          const docLinkHtml = 'Like what you see? Visit the ' +\n",
              "            '<a target=\"_blank\" href=https://colab.research.google.com/notebooks/data_table.ipynb>data table notebook</a>'\n",
              "            + ' to learn more about interactive tables.';\n",
              "          element.innerHTML = '';\n",
              "          dataTable['output_type'] = 'display_data';\n",
              "          await google.colab.output.renderOutput(dataTable, element);\n",
              "          const docLink = document.createElement('div');\n",
              "          docLink.innerHTML = docLinkHtml;\n",
              "          element.appendChild(docLink);\n",
              "        }\n",
              "      </script>\n",
              "    </div>\n",
              "  </div>\n",
              "  "
            ]
          },
          "metadata": {},
          "execution_count": 83
        }
      ]
    },
    {
      "cell_type": "markdown",
      "source": [
        "Data is not in same scale.There are outliers."
      ],
      "metadata": {
        "id": "hYYWbNq4n_0U"
      },
      "id": "hYYWbNq4n_0U"
    },
    {
      "cell_type": "code",
      "source": [
        "plt.figure(figsize=(30,20))\n",
        "sns.heatmap(df.corr(),annot=True,cmap=\"Reds\",fmt=\".2f\");\n",
        "plt.show()"
      ],
      "metadata": {
        "colab": {
          "base_uri": "https://localhost:8080/",
          "height": 1000
        },
        "id": "4ediIJz6alMc",
        "outputId": "7e449935-627a-4179-fd50-e3c20e1daf5a"
      },
      "id": "4ediIJz6alMc",
      "execution_count": null,
      "outputs": [
        {
          "output_type": "display_data",
          "data": {
            "text/plain": [
              "<Figure size 2160x1440 with 2 Axes>"
            ],
            "image/png": "[encoded data removed]"
          },
          "metadata": {
            "needs_background": "light"
          }
        }
      ]
    },
    {
      "cell_type": "code",
      "source": [
        ""
      ],
      "metadata": {
        "id": "WnTSIwv3LPgZ"
      },
      "id": "WnTSIwv3LPgZ",
      "execution_count": null,
      "outputs": []
    },
    {
      "cell_type": "markdown",
      "source": [
        "c1_rated and c2_rated are highly correlated and Dependents and Home_appliance is correlated. We will drop C2_rated and Dependents"
      ],
      "metadata": {
        "id": "0J71UWFiLRsA"
      },
      "id": "0J71UWFiLRsA"
    },
    {
      "cell_type": "code",
      "source": [
        "converteddata=converteddata.drop(['c2_rated','Dependents'],axis=1)"
      ],
      "metadata": {
        "id": "5p6-JynyLj5x"
      },
      "id": "5p6-JynyLj5x",
      "execution_count": null,
      "outputs": []
    },
    {
      "cell_type": "code",
      "source": [
        "fig,axes=plt.subplots(1,3,figsize=(20,8))\n",
        "sns.boxplot(ax=axes[0],data=df,x='Default',y='Compensation')\n",
        "\n",
        "\n",
        "sns.boxplot(ax=axes[1],data=df,x='Default',y='Loan_amt')\n",
        "sns.boxplot(ax=axes[2],data=df,x='Default',y='Annuity_amt')\n",
        "fig,axes=plt.subplots(1,3,figsize=(20,8))\n",
        "\n",
        "sns.boxplot(ax=axes[0],data=df,x='Default',y='Experience')\n",
        "#sns.boxplot(ax=axes[1],data=df,x='Default',y='hour_Process')\n",
        "sns.boxplot(ax=axes[1],data=df,x='Default',y='density_Ind')\n",
        "sns.boxplot(ax=axes[2],data=df,x='Default',y='Contact_age')\n"
      ],
      "metadata": {
        "colab": {
          "base_uri": "https://localhost:8080/",
          "height": 1000
        },
        "id": "EdVQHu3BUoch",
        "outputId": "643b7203-4d83-4cde-a822-173516183f9c"
      },
      "id": "EdVQHu3BUoch",
      "execution_count": null,
      "outputs": [
        {
          "output_type": "execute_result",
          "data": {
            "text/plain": [
              "<matplotlib.axes._subplots.AxesSubplot at 0x7f897de1c350>"
            ]
          },
          "metadata": {},
          "execution_count": 154
        },
        {
          "output_type": "display_data",
          "data": {
            "text/plain": [
              "<Figure size 1440x576 with 3 Axes>"
            ],
            "image/png": "[encoded data removed]"
          },
          "metadata": {
            "needs_background": "light"
          }
        },
        {
          "output_type": "display_data",
          "data": {
            "text/plain": [
              "<Figure size 1440x576 with 3 Axes>"
            ],
            "image/png": "[encoded data removed]"
          },
          "metadata": {
            "needs_background": "light"
          }
        }
      ]
    },
    {
      "cell_type": "code",
      "source": [
        "plotChart(df,'countplot')"
      ],
      "metadata": {
        "colab": {
          "base_uri": "https://localhost:8080/",
          "height": 1000
        },
        "id": "otb6qw6pUxO0",
        "outputId": "7a4b173c-9cd7-4124-8eef-fdfba24e996c"
      },
      "id": "otb6qw6pUxO0",
      "execution_count": null,
      "outputs": [
        {
          "output_type": "stream",
          "name": "stdout",
          "text": [
            "['Vehicle_Status', 'Job_Type', 'Default_hist', 'Prop_List', 'Region_Type', 'Credit_Inq', 'Education_det', 'Marital_Stat', 'Gen', 'Credit_Lnks', 'Income_Alt', 'Day_Process', 'Ph.No', 'Type_Loan', 'Company_Rating', 'Region', 'hour_Process', 'Addr_permanent', 'Permanent_Addr_tag']\n"
          ]
        },
        {
          "output_type": "stream",
          "name": "stderr",
          "text": [
            "/usr/local/lib/python3.7/dist-packages/pandas/io/formats/format.py:1429: FutureWarning: Index.ravel returning ndarray is deprecated; in a future version this will return a view on self.\n",
            "  for val, m in zip(values.ravel(), mask.ravel())\n",
            "/usr/local/lib/python3.7/dist-packages/pandas/io/formats/format.py:1429: FutureWarning: Index.ravel returning ndarray is deprecated; in a future version this will return a view on self.\n",
            "  for val, m in zip(values.ravel(), mask.ravel())\n",
            "/usr/local/lib/python3.7/dist-packages/pandas/io/formats/format.py:1429: FutureWarning: Index.ravel returning ndarray is deprecated; in a future version this will return a view on self.\n",
            "  for val, m in zip(values.ravel(), mask.ravel())\n",
            "/usr/local/lib/python3.7/dist-packages/pandas/io/formats/format.py:1429: FutureWarning: Index.ravel returning ndarray is deprecated; in a future version this will return a view on self.\n",
            "  for val, m in zip(values.ravel(), mask.ravel())\n"
          ]
        },
        {
          "output_type": "display_data",
          "data": {
            "text/plain": [
              "<Figure size 2160x2880 with 19 Axes>"
            ],
            "image/png": "[encoded data removed]"
          },
          "metadata": {
            "needs_background": "light"
          }
        }
      ]
    },
    {
      "cell_type": "code",
      "source": [
        ""
      ],
      "metadata": {
        "id": "k4sWK_i_q9w-"
      },
      "id": "k4sWK_i_q9w-",
      "execution_count": null,
      "outputs": []
    },
    {
      "cell_type": "code",
      "source": [
        "plt.figure(figsize=(12, 5))\n",
        "sns.histplot(data=df, x='Compensation', hue='Default')"
      ],
      "metadata": {
        "colab": {
          "base_uri": "https://localhost:8080/",
          "height": 351
        },
        "id": "chUvkcz7q3v4",
        "outputId": "35476975-9728-4ebe-841d-d22fa3b92178"
      },
      "id": "chUvkcz7q3v4",
      "execution_count": 364,
      "outputs": [
        {
          "output_type": "execute_result",
          "data": {
            "text/plain": [
              "<matplotlib.axes._subplots.AxesSubplot at 0x7f9f27c73950>"
            ]
          },
          "metadata": {},
          "execution_count": 364
        },
        {
          "output_type": "display_data",
          "data": {
            "text/plain": [
              "<Figure size 864x360 with 1 Axes>"
            ],
            "image/png": "[encoded data removed]"
          },
          "metadata": {
            "needs_background": "light"
          }
        }
      ]
    },
    {
      "cell_type": "code",
      "source": [
        "plt.figure(figsize=(12, 5))\n",
        "sns.histplot(data=df, x='Loan_amt', hue='Default')"
      ],
      "metadata": {
        "colab": {
          "base_uri": "https://localhost:8080/",
          "height": 354
        },
        "id": "WAn3uwAquy7l",
        "outputId": "0de8e725-f60c-405b-aced-07eb709273f3"
      },
      "id": "WAn3uwAquy7l",
      "execution_count": 365,
      "outputs": [
        {
          "output_type": "execute_result",
          "data": {
            "text/plain": [
              "<matplotlib.axes._subplots.AxesSubplot at 0x7f9f20f78c10>"
            ]
          },
          "metadata": {},
          "execution_count": 365
        },
        {
          "output_type": "display_data",
          "data": {
            "text/plain": [
              "<Figure size 864x360 with 1 Axes>"
            ],
            "image/png": "[encoded data removed]"
          },
          "metadata": {
            "needs_background": "light"
          }
        }
      ]
    },
    {
      "cell_type": "code",
      "source": [
        "plt.figure(figsize=(12, 5))\n",
        "sns.histplot(data=df, x='Contact_age', hue='Default')"
      ],
      "metadata": {
        "colab": {
          "base_uri": "https://localhost:8080/",
          "height": 353
        },
        "id": "BaBaXBa1ra2g",
        "outputId": "7fce765f-95c5-421a-ae16-4bf8b140c845"
      },
      "id": "BaBaXBa1ra2g",
      "execution_count": 363,
      "outputs": [
        {
          "output_type": "execute_result",
          "data": {
            "text/plain": [
              "<matplotlib.axes._subplots.AxesSubplot at 0x7f9f27d4a1d0>"
            ]
          },
          "metadata": {},
          "execution_count": 363
        },
        {
          "output_type": "display_data",
          "data": {
            "text/plain": [
              "<Figure size 864x360 with 1 Axes>"
            ],
            "image/png": "[encoded data removed]"
          },
          "metadata": {
            "needs_background": "light"
          }
        }
      ]
    },
    {
      "cell_type": "markdown",
      "source": [
        "### Observation\n",
        "Applicants with job title  IT tends to defaults most.\n",
        "Applicants with No Default history have higher change to default\n",
        "Applicants with ony one property have higher chance to default\n",
        "Applicant from Metro have higher chance to default\n",
        "History with one credit Inquery have higher chance to default\n",
        "applocants with 1to 3 Credit_Lnks tend to default\n"
      ],
      "metadata": {
        "id": "-rUQ-CyRBwlm"
      },
      "id": "-rUQ-CyRBwlm"
    },
    {
      "cell_type": "code",
      "source": [
        "sns.histplot(df, binwidth=5)\n"
      ],
      "metadata": {
        "id": "VY6cvONpdr0H"
      },
      "id": "VY6cvONpdr0H",
      "execution_count": null,
      "outputs": []
    },
    {
      "cell_type": "code",
      "source": [
        ""
      ],
      "metadata": {
        "id": "OBajbTENMQiC"
      },
      "id": "OBajbTENMQiC",
      "execution_count": null,
      "outputs": []
    },
    {
      "cell_type": "markdown",
      "source": [
        "###There are outliers.We shouldnot remove as the informations are important"
      ],
      "metadata": {
        "id": "Uj86NsweMRhk"
      },
      "id": "Uj86NsweMRhk"
    },
    {
      "cell_type": "markdown",
      "source": [
        "## 3. Model Building"
      ],
      "metadata": {
        "id": "uwbnZWm-D18t"
      },
      "id": "uwbnZWm-D18t"
    },
    {
      "cell_type": "code",
      "source": [
        "converteddata['Default'].unique()"
      ],
      "metadata": {
        "colab": {
          "base_uri": "https://localhost:8080/"
        },
        "id": "V_0Rr8kJ2GC6",
        "outputId": "a59091e1-9888-49a2-a3ab-ee24fa3315be"
      },
      "id": "V_0Rr8kJ2GC6",
      "execution_count": null,
      "outputs": [
        {
          "output_type": "execute_result",
          "data": {
            "text/plain": [
              "<IntegerArray>\n",
              "[1, 0]\n",
              "Length: 2, dtype: Int64"
            ]
          },
          "metadata": {},
          "execution_count": 138
        }
      ]
    },
    {
      "cell_type": "code",
      "source": [
        "converteddata.isnull().sum().sum()"
      ],
      "metadata": {
        "colab": {
          "base_uri": "https://localhost:8080/"
        },
        "id": "wPffvPC25wFk",
        "outputId": "47a48b05-7594-4350-9129-13df53d33f02"
      },
      "id": "wPffvPC25wFk",
      "execution_count": null,
      "outputs": [
        {
          "output_type": "execute_result",
          "data": {
            "text/plain": [
              "0"
            ]
          },
          "metadata": {},
          "execution_count": 250
        }
      ]
    },
    {
      "cell_type": "code",
      "source": [
        "converteddata.columns"
      ],
      "metadata": {
        "colab": {
          "base_uri": "https://localhost:8080/"
        },
        "id": "nqhCYWw9GFtm",
        "outputId": "1be4eef0-2f44-4560-a24c-446d6345a809"
      },
      "id": "nqhCYWw9GFtm",
      "execution_count": null,
      "outputs": [
        {
          "output_type": "execute_result",
          "data": {
            "text/plain": [
              "Index(['Compensation', 'Loan_amt', 'Annuity_amt', 'density_Ind', 'Prop_List',\n",
              "       'Home_Appliances', 'Credit_Inq', 'Credit_Lnks', 'Experience',\n",
              "       'Dependents', 'Company_Rating', 'Age', 'hour_Process', 'c1_rated',\n",
              "       'c2_rated', 'Contact_age', 'Product_bought', 'Default',\n",
              "       'Vehicle_Status_Y', 'Job_Type_IT', 'Job_Type_Non-IT',\n",
              "       'Default_hist_ndf', 'Region_Type_Rural', 'Region_Type_other',\n",
              "       'Education_det_Other', 'Education_det_P_Grad', 'Marital_Stat_Married',\n",
              "       'Marital_Stat_Single', 'Marital_Stat_Widow', 'Gen_M', 'Income_Alt_Y',\n",
              "       'Day_Process_SAT', 'Day_Process_Sun', 'Day_Process_Tue',\n",
              "       'Day_Process_mon', 'Day_Process_thur', 'Day_Process_wed', 'Ph.No_Yes',\n",
              "       'Type_Loan_RLoan', 'Region_East', 'Region_North', 'Region_South',\n",
              "       'Addr_permanent_Yes', 'Permanent_Addr_tag_Yes'],\n",
              "      dtype='object')"
            ]
          },
          "metadata": {},
          "execution_count": 217
        }
      ]
    },
    {
      "cell_type": "code",
      "source": [
        "\n",
        "converteddata['hour_Process']=converteddata['hour_Process'].astype(np.int64)\n",
        "#df['hour_Process']=df['hour_Process'].astype('category')\n",
        "\n",
        "converteddata['Company_Rating']=converteddata['Company_Rating'].astype(np.int64)\n",
        "converteddata['Product_bought']=converteddata['Product_bought'].astype(np.int64)\n",
        "converteddata['Contact_age']=converteddata['Contact_age'].astype(np.int64)\n",
        "\n",
        "\n",
        "#df['Credit_Inq']=df['Credit_Inq'].astype('category')\n",
        "converteddata['Age']=converteddata['Age'].astype(np.int64)\n",
        "converteddata['Home_Appliances']=converteddata['Home_Appliances'].astype(np.int64)\n",
        "converteddata['Dependents']=converteddata['Dependents'].astype(np.int64)\n",
        "#df['Default']=df['Default'].astype('Int64')\n"
      ],
      "metadata": {
        "id": "fBPTjaqcDS8Y"
      },
      "id": "fBPTjaqcDS8Y",
      "execution_count": null,
      "outputs": []
    },
    {
      "cell_type": "code",
      "execution_count": null,
      "metadata": {
        "colab": {
          "base_uri": "https://localhost:8080/"
        },
        "id": "d874b180",
        "outputId": "d4c5f148-9c4d-4dab-f39a-209cefd5d7cc"
      },
      "outputs": [
        {
          "output_type": "stream",
          "name": "stdout",
          "text": [
            "Balancing data using SMOTE: \n",
            "Smote\n",
            "Selecting feature based on importance score\n",
            "Selected feature columns:  Index(['Region_South', 'density_Ind', 'Contact_age', 'Compensation',\n",
            "       'Experience', 'Loan_amt', 'Annuity_amt', 'c2_rated', 'Region_East',\n",
            "       'c1_rated', 'Age', 'hour_Process', 'Credit_Inq', 'Product_bought',\n",
            "       'Region_North', 'Home_Appliances', 'Dependents', 'Prop_List',\n",
            "       'Job_Type_IT', 'Vehicle_Status_Y', 'Day_Process_SAT', 'Day_Process_wed',\n",
            "       'Marital_Stat_Single', 'Day_Process_thur', 'Day_Process_mon',\n",
            "       'Job_Type_Non-IT', 'Day_Process_Tue', 'Education_det_P_Grad', 'Gen_M',\n",
            "       'Marital_Stat_Married'],\n",
            "      dtype='object')\n",
            "Spliting data \n",
            "Normalize data \n",
            "Region_South            0\n",
            "density_Ind             0\n",
            "Contact_age             0\n",
            "Compensation            0\n",
            "Experience              0\n",
            "Loan_amt                0\n",
            "Annuity_amt             0\n",
            "c2_rated                0\n",
            "Region_East             0\n",
            "c1_rated                0\n",
            "Age                     0\n",
            "hour_Process            0\n",
            "Credit_Inq              0\n",
            "Product_bought          0\n",
            "Region_North            0\n",
            "Home_Appliances         0\n",
            "Dependents              0\n",
            "Prop_List               0\n",
            "Job_Type_IT             0\n",
            "Vehicle_Status_Y        0\n",
            "Day_Process_SAT         0\n",
            "Day_Process_wed         0\n",
            "Marital_Stat_Single     0\n",
            "Day_Process_thur        0\n",
            "Day_Process_mon         0\n",
            "Job_Type_Non-IT         0\n",
            "Day_Process_Tue         0\n",
            "Education_det_P_Grad    0\n",
            "Gen_M                   0\n",
            "Marital_Stat_Married    0\n",
            "dtype: int64\n",
            "['density_Ind', 'Compensation', 'Experience', 'Loan_amt', 'Annuity_amt', 'c2_rated', 'c1_rated']\n"
          ]
        }
      ],
      "source": [
        "targetcolumn='Default'\n",
        "x_train,x_test,y_train,y_test=prepare_data(converteddata)\n"
      ],
      "id": "d874b180"
    },
    {
      "cell_type": "code",
      "source": [
        "y_train.head(5)"
      ],
      "metadata": {
        "colab": {
          "base_uri": "https://localhost:8080/",
          "height": 206
        },
        "id": "BFcrLyxjFM0h",
        "outputId": "0b62b6f9-7ccf-4d48-8c31-bd7181eb09e3"
      },
      "id": "BFcrLyxjFM0h",
      "execution_count": null,
      "outputs": [
        {
          "output_type": "execute_result",
          "data": {
            "text/plain": [
              "        Default\n",
              "135447        1\n",
              "186831        1\n",
              "111340        1\n",
              "96633         1\n",
              "48958         0"
            ],
            "text/html": [
              "\n",
              "  <div id=\"df-c530743b-bbc2-4a4a-8baa-3a3e8680771f\">\n",
              "    <div class=\"colab-df-container\">\n",
              "      <div>\n",
              "<style scoped>\n",
              "    .dataframe tbody tr th:only-of-type {\n",
              "        vertical-align: middle;\n",
              "    }\n",
              "\n",
              "    .dataframe tbody tr th {\n",
              "        vertical-align: top;\n",
              "    }\n",
              "\n",
              "    .dataframe thead th {\n",
              "        text-align: right;\n",
              "    }\n",
              "</style>\n",
              "<table border=\"1\" class=\"dataframe\">\n",
              "  <thead>\n",
              "    <tr style=\"text-align: right;\">\n",
              "      <th></th>\n",
              "      <th>Default</th>\n",
              "    </tr>\n",
              "  </thead>\n",
              "  <tbody>\n",
              "    <tr>\n",
              "      <th>135447</th>\n",
              "      <td>1</td>\n",
              "    </tr>\n",
              "    <tr>\n",
              "      <th>186831</th>\n",
              "      <td>1</td>\n",
              "    </tr>\n",
              "    <tr>\n",
              "      <th>111340</th>\n",
              "      <td>1</td>\n",
              "    </tr>\n",
              "    <tr>\n",
              "      <th>96633</th>\n",
              "      <td>1</td>\n",
              "    </tr>\n",
              "    <tr>\n",
              "      <th>48958</th>\n",
              "      <td>0</td>\n",
              "    </tr>\n",
              "  </tbody>\n",
              "</table>\n",
              "</div>\n",
              "      <button class=\"colab-df-convert\" onclick=\"convertToInteractive('df-c530743b-bbc2-4a4a-8baa-3a3e8680771f')\"\n",
              "              title=\"Convert this dataframe to an interactive table.\"\n",
              "              style=\"display:none;\">\n",
              "        \n",
              "  <svg xmlns=\"http://www.w3.org/2000/svg\" height=\"24px\"viewBox=\"0 0 24 24\"\n",
              "       width=\"24px\">\n",
              "    <path d=\"M0 0h24v24H0V0z\" fill=\"none\"/>\n",
              "    <path d=\"M18.56 5.44l.94 2.06.94-2.06 2.06-.94-2.06-.94-.94-2.06-.94 2.06-2.06.94zm-11 1L8.5 8.5l.94-2.06 2.06-.94-2.06-.94L8.5 2.5l-.94 2.06-2.06.94zm10 10l.94 2.06.94-2.06 2.06-.94-2.06-.94-.94-2.06-.94 2.06-2.06.94z\"/><path d=\"M17.41 7.96l-1.37-1.37c-.4-.4-.92-.59-1.43-.59-.52 0-1.04.2-1.43.59L10.3 9.45l-7.72 7.72c-.78.78-.78 2.05 0 2.83L4 21.41c.39.39.9.59 1.41.59.51 0 1.02-.2 1.41-.59l7.78-7.78 2.81-2.81c.8-.78.8-2.07 0-2.86zM5.41 20L4 18.59l7.72-7.72 1.47 1.35L5.41 20z\"/>\n",
              "  </svg>\n",
              "      </button>\n",
              "      \n",
              "  <style>\n",
              "    .colab-df-container {\n",
              "      display:flex;\n",
              "      flex-wrap:wrap;\n",
              "      gap: 12px;\n",
              "    }\n",
              "\n",
              "    .colab-df-convert {\n",
              "      background-color: #E8F0FE;\n",
              "      border: none;\n",
              "      border-radius: 50%;\n",
              "      cursor: pointer;\n",
              "      display: none;\n",
              "      fill: #1967D2;\n",
              "      height: 32px;\n",
              "      padding: 0 0 0 0;\n",
              "      width: 32px;\n",
              "    }\n",
              "\n",
              "    .colab-df-convert:hover {\n",
              "      background-color: #E2EBFA;\n",
              "      box-shadow: 0px 1px 2px rgba(60, 64, 67, 0.3), 0px 1px 3px 1px rgba(60, 64, 67, 0.15);\n",
              "      fill: #174EA6;\n",
              "    }\n",
              "\n",
              "    [theme=dark] .colab-df-convert {\n",
              "      background-color: #3B4455;\n",
              "      fill: #D2E3FC;\n",
              "    }\n",
              "\n",
              "    [theme=dark] .colab-df-convert:hover {\n",
              "      background-color: #434B5C;\n",
              "      box-shadow: 0px 1px 3px 1px rgba(0, 0, 0, 0.15);\n",
              "      filter: drop-shadow(0px 1px 2px rgba(0, 0, 0, 0.3));\n",
              "      fill: #FFFFFF;\n",
              "    }\n",
              "  </style>\n",
              "\n",
              "      <script>\n",
              "        const buttonEl =\n",
              "          document.querySelector('#df-c530743b-bbc2-4a4a-8baa-3a3e8680771f button.colab-df-convert');\n",
              "        buttonEl.style.display =\n",
              "          google.colab.kernel.accessAllowed ? 'block' : 'none';\n",
              "\n",
              "        async function convertToInteractive(key) {\n",
              "          const element = document.querySelector('#df-c530743b-bbc2-4a4a-8baa-3a3e8680771f');\n",
              "          const dataTable =\n",
              "            await google.colab.kernel.invokeFunction('convertToInteractive',\n",
              "                                                     [key], {});\n",
              "          if (!dataTable) return;\n",
              "\n",
              "          const docLinkHtml = 'Like what you see? Visit the ' +\n",
              "            '<a target=\"_blank\" href=https://colab.research.google.com/notebooks/data_table.ipynb>data table notebook</a>'\n",
              "            + ' to learn more about interactive tables.';\n",
              "          element.innerHTML = '';\n",
              "          dataTable['output_type'] = 'display_data';\n",
              "          await google.colab.output.renderOutput(dataTable, element);\n",
              "          const docLink = document.createElement('div');\n",
              "          docLink.innerHTML = docLinkHtml;\n",
              "          element.appendChild(docLink);\n",
              "        }\n",
              "      </script>\n",
              "    </div>\n",
              "  </div>\n",
              "  "
            ]
          },
          "metadata": {},
          "execution_count": 257
        }
      ]
    },
    {
      "cell_type": "markdown",
      "source": [
        "## Model 1"
      ],
      "metadata": {
        "id": "94zqRfO41CrQ"
      },
      "id": "94zqRfO41CrQ"
    },
    {
      "cell_type": "code",
      "execution_count": null,
      "metadata": {
        "id": "cGpR-JHldOTL"
      },
      "outputs": [],
      "source": [
        "rfc = RandomForestClassifier() \n",
        "\n",
        "param_grid = { \n",
        "    'n_estimators': [100,200, 500]\n",
        "   }\n",
        "\n",
        "\n",
        "CV_rfc = GridSearchCV(estimator=rfc, param_grid=param_grid, cv= 5)\n",
        "CV_rfc.fit(x_train, np.ravel(y_train))\n",
        "print(CV_rfc.best_params_)"
      ],
      "id": "cGpR-JHldOTL"
    },
    {
      "cell_type": "code",
      "source": [
        "rfc=RandomForestClassifier(   criterion = 'entropy', class_weight='balanced',  max_depth = 64, min_samples_leaf=3)\n",
        "rfc.fit(x_train, np.ravel(y_train))\n",
        "\n",
        "rfc_y_pred = rfc.predict(x_test)\n",
        "best_preds=np.asarray([np.argmax(line) for line in rfc_y_pred])\n",
        "print('precision ={}'.format(precision_score(y_test,rfc_y_pred)))#best_preds,average='macro')))\n",
        "print('accuracy ={}'.format(accuracy_score(y_test,rfc_y_pred)))#best_preds)))\n",
        "print('recall ={}'.format(recall_score(y_test,rfc_y_pred)))#best_preds,average='macro')))\n",
        "print('F1 Score ={}'.format(f1_score(y_test, rfc_y_pred)))\n",
        "print('ROC AUC Score={}'.format(roc_auc_score(y_test, rfc_y_pred)))\n",
        "print(classification_report(y_test, rfc_y_pred))\n",
        "    \n",
        "cm = confusion_matrix(y_test, rfc_y_pred)\n",
        "print('Confusion matrix')\n",
        "print(cm)"
      ],
      "metadata": {
        "colab": {
          "base_uri": "https://localhost:8080/"
        },
        "id": "S51iF9eCEirA",
        "outputId": "11887142-1944-4a58-fb51-ea42fe2f62e3"
      },
      "id": "S51iF9eCEirA",
      "execution_count": null,
      "outputs": [
        {
          "output_type": "stream",
          "name": "stdout",
          "text": [
            "precision =0.9230414392250327\n",
            "accuracy =0.7879557642470428\n",
            "recall =0.6230733302195236\n",
            "F1 Score =0.7439583591523113\n",
            "ROC AUC Score=0.7861357312892178\n",
            "              precision    recall  f1-score   support\n",
            "\n",
            "           0       0.72      0.95      0.82     19704\n",
            "           1       0.92      0.62      0.74     19269\n",
            "\n",
            "    accuracy                           0.79     38973\n",
            "   macro avg       0.82      0.79      0.78     38973\n",
            "weighted avg       0.82      0.79      0.78     38973\n",
            "\n",
            "Confusion matrix\n",
            "[[18703  1001]\n",
            " [ 7263 12006]]\n"
          ]
        }
      ]
    },
    {
      "cell_type": "markdown",
      "source": [
        "## Model 2"
      ],
      "metadata": {
        "id": "ae-9ar-q1HXo"
      },
      "id": "ae-9ar-q1HXo"
    },
    {
      "cell_type": "code",
      "execution_count": null,
      "metadata": {
        "colab": {
          "base_uri": "https://localhost:8080/"
        },
        "id": "bRQonwYjr-1m",
        "outputId": "cf2adc5b-76a3-4426-cf91-814de7438a7f"
      },
      "outputs": [
        {
          "output_type": "execute_result",
          "data": {
            "text/plain": [
              "GridSearchCV(cv=5, estimator=LogisticRegression(),\n",
              "             param_grid=[{'C': [1, 10, 100, 1000]}])"
            ]
          },
          "metadata": {},
          "execution_count": 66
        }
      ],
      "source": [
        "logreg=LogisticRegression()\n",
        "parameters = [ \n",
        "              {'C':[1, 10, 100, 1000]}]\n",
        "grid_search = GridSearchCV(estimator = logreg,  \n",
        "                           param_grid = parameters,\n",
        "                           cv = 5,\n",
        "                           verbose=0)\n",
        "\n",
        "\n",
        "grid_search.fit(x_train, np.ravel(y_train))   \n"
      ],
      "id": "bRQonwYjr-1m"
    },
    {
      "cell_type": "code",
      "execution_count": null,
      "metadata": {
        "colab": {
          "base_uri": "https://localhost:8080/"
        },
        "id": "lUax9iIYvPQL",
        "outputId": "010a3d86-120d-4115-f1ea-d1b722026f77"
      },
      "outputs": [
        {
          "output_type": "execute_result",
          "data": {
            "text/plain": [
              "{'C': 10}"
            ]
          },
          "metadata": {},
          "execution_count": 68
        }
      ],
      "source": [
        "grid_search.best_params_"
      ],
      "id": "lUax9iIYvPQL"
    },
    {
      "cell_type": "code",
      "execution_count": null,
      "metadata": {
        "colab": {
          "base_uri": "https://localhost:8080/"
        },
        "id": "Zg2m4GtDvTs9",
        "outputId": "ffe552ce-6acd-437e-f476-9532c7bcd169"
      },
      "outputs": [
        {
          "output_type": "execute_result",
          "data": {
            "text/plain": [
              "0.7299370828636838"
            ]
          },
          "metadata": {},
          "execution_count": 69
        }
      ],
      "source": [
        "grid_search.best_score_"
      ],
      "id": "Zg2m4GtDvTs9"
    },
    {
      "cell_type": "code",
      "source": [
        ""
      ],
      "metadata": {
        "colab": {
          "base_uri": "https://localhost:8080/"
        },
        "id": "rIj0XEhXBVe2",
        "outputId": "524b899a-1741-4b08-ec38-438f82912158"
      },
      "id": "rIj0XEhXBVe2",
      "execution_count": null,
      "outputs": [
        {
          "output_type": "execute_result",
          "data": {
            "text/plain": [
              "<bound method BaseEstimator.get_params of LogisticRegression()>"
            ]
          },
          "metadata": {},
          "execution_count": 33
        }
      ]
    },
    {
      "cell_type": "code",
      "source": [
        "lgc=LogisticRegression(C=100)\n",
        "lgc.fit(x_train, y_train)\n",
        "\n",
        "lgc_y_pred = lgc.predict(x_test)\n",
        "best_preds=np.asarray([np.argmax(line) for line in lgc_y_pred])\n",
        "print('precision ={}'.format(precision_score(y_test,lgc_y_pred)))#best_preds,average='macro')))\n",
        "print('accuracy ={}'.format(accuracy_score(y_test,lgc_y_pred)))#best_preds)))\n",
        "print('recall ={}'.format(recall_score(y_test,lgc_y_pred)))#best_preds,average='macro')))\n",
        "print('F1 Score ={}'.format(f1_score(y_test, lgc_y_pred)))\n",
        "print('ROC AUC Score={}'.format(roc_auc_score(y_test, lgc_y_pred)))\n",
        "print(classification_report(y_test, lgc_y_pred))\n",
        "    \n",
        "cm = confusion_matrix(y_test, lgc_y_pred)\n",
        "print('Confusion matrix')\n",
        "print(cm)"
      ],
      "metadata": {
        "colab": {
          "base_uri": "https://localhost:8080/"
        },
        "id": "YCopqP7RFXSn",
        "outputId": "81287f87-eaee-46b4-b33c-6a8c4ea11cfc"
      },
      "id": "YCopqP7RFXSn",
      "execution_count": null,
      "outputs": [
        {
          "output_type": "stream",
          "name": "stderr",
          "text": [
            "/usr/local/lib/python3.7/dist-packages/sklearn/utils/validation.py:993: DataConversionWarning: A column-vector y was passed when a 1d array was expected. Please change the shape of y to (n_samples, ), for example using ravel().\n",
            "  y = column_or_1d(y, warn=True)\n"
          ]
        },
        {
          "output_type": "stream",
          "name": "stdout",
          "text": [
            "precision =0.8664942157074083\n",
            "accuracy =0.7673260975547174\n",
            "recall =0.6258238621620219\n",
            "F1 Score =0.7267522449225579\n",
            "ROC AUC Score=0.7657641438296914\n",
            "              precision    recall  f1-score   support\n",
            "\n",
            "           0       0.71      0.91      0.80     19704\n",
            "           1       0.87      0.63      0.73     19269\n",
            "\n",
            "    accuracy                           0.77     38973\n",
            "   macro avg       0.79      0.77      0.76     38973\n",
            "weighted avg       0.79      0.77      0.76     38973\n",
            "\n",
            "Confusion matrix\n",
            "[[17846  1858]\n",
            " [ 7210 12059]]\n"
          ]
        }
      ]
    },
    {
      "cell_type": "markdown",
      "source": [
        "## Model 3"
      ],
      "metadata": {
        "id": "WfifwO7g1LRX"
      },
      "id": "WfifwO7g1LRX"
    },
    {
      "cell_type": "code",
      "execution_count": null,
      "metadata": {
        "id": "3f585baf"
      },
      "outputs": [],
      "source": [
        "xgb_model = xgb.XGBClassifier(objective=\"binary:logistic\")#,max_depth=12,n_estimators =300, random_state=42, eval_metric=\"auc\")\n",
        "param_dist = {'n_estimators': stats.randint(150, 1000),\n",
        "              'learning_rate': stats.uniform(0.01, 0.4),\n",
        "              'subsample': stats.uniform(0.3, 0.9),\n",
        "              'max_depth': [3, 4, 5, 6, 7, 8, 9],\n",
        "              'colsample_bytree': stats.uniform(0.5, 0.9),\n",
        "              'min_child_weight': [1, 2, 3, 4]\n",
        "             }\n",
        "xgb_grd_param={'learning_rate': [0.4,0.5],\n",
        "        'max_depth': [6,7]\n",
        "    }\n",
        "#clf = RandomizedSearchCV(xgb_model, param_distributions = param_dist, n_iter = 25, scoring = 'roc_auc', error_score = 0, verbose = 3, n_jobs = -1)\n",
        "numFolds = 5\n",
        "kfold_5 = KFold(shuffle = True, n_splits = numFolds)\n",
        "clf = GridSearchCV(estimator=xgb_model,param_grid= xgb_grd_param, cv= 5)\n",
        "clf.fit(x_train, np.ravel(y_train))\n",
        "print(clf.best_params_)\n",
        "\n",
        "#zxgb_model.fit(x_train, y_train, early_stopping_rounds=20, eval_set=[(x_train, y_train),(x_test, y_test)], verbose=False)\n"
      ],
      "id": "3f585baf"
    },
    {
      "cell_type": "code",
      "execution_count": null,
      "metadata": {
        "id": "d54cfc27",
        "colab": {
          "base_uri": "https://localhost:8080/"
        },
        "outputId": "aee11bd8-9558-4bcd-b2fb-e2aa6a9d8138"
      },
      "outputs": [
        {
          "output_type": "execute_result",
          "data": {
            "text/plain": [
              "{'learning_rate': 0.4, 'max_depth': 6}"
            ]
          },
          "metadata": {},
          "execution_count": 75
        }
      ],
      "source": [
        "clf.best_params_"
      ],
      "id": "d54cfc27"
    },
    {
      "cell_type": "code",
      "execution_count": null,
      "metadata": {
        "id": "13c8c90f",
        "colab": {
          "base_uri": "https://localhost:8080/"
        },
        "outputId": "5e8cdd92-a805-43a8-99e9-58f4782168dc"
      },
      "outputs": [
        {
          "output_type": "stream",
          "name": "stdout",
          "text": [
            "precision =0.7123432542680164\n",
            "accuracy =0.721961357863136\n",
            "recall =0.7340806476724272\n",
            "F1 Score =0.7230486121760467\n",
            "ROC AUC Score=0.7220951350420601\n",
            "              precision    recall  f1-score   support\n",
            "\n",
            "           0       0.73      0.71      0.72     19704\n",
            "           1       0.71      0.73      0.72     19269\n",
            "\n",
            "    accuracy                           0.72     38973\n",
            "   macro avg       0.72      0.72      0.72     38973\n",
            "weighted avg       0.72      0.72      0.72     38973\n",
            "\n",
            "Confusion matrix\n",
            "[[13992  5712]\n",
            " [ 5124 14145]]\n"
          ]
        }
      ],
      "source": [
        "xgb_model =xgb.XGBClassifier(learning_rate=0.4, max_depth= 6)\n",
        " #xgb.XGBClassifier(colsample_bytree= 0.9032147310861266,\n",
        " #learning_rate= 0.32733210006359886,\n",
        " #max_depth= 8,\n",
        " #min_child_weight= 2,\n",
        " #n_estimators= 945,\n",
        " #subsample= 0.6369022953371541)#,max_depth=12,n_estimators =300, random_state=42, eval_metric=\"auc\")\n",
        "\n",
        "xgb_model.fit(x_train, np.ravel(y_train))#, early_stopping_rounds=20, eval_set=[(x_train, y_train),(x_test, y_test)], verbose=False)\n",
        "\n",
        "xgb_y_pred = xgb_model.predict(x_test)\n",
        "best_preds=np.asarray([np.argmax(line) for line in xgb_y_pred])\n",
        "print('precision ={}'.format(precision_score(y_test,xgb_y_pred)))#best_preds,average='macro')))\n",
        "print('accuracy ={}'.format(accuracy_score(y_test,xgb_y_pred)))#best_preds)))\n",
        "print('recall ={}'.format(recall_score(y_test,xgb_y_pred)))#best_preds,average='macro')))\n",
        "print('F1 Score ={}'.format(f1_score(y_test, xgb_y_pred)))\n",
        "print('ROC AUC Score={}'.format(roc_auc_score(y_test, xgb_y_pred)))\n",
        "print(classification_report(y_test, xgb_y_pred))\n",
        "    \n",
        "cm = confusion_matrix(y_test, xgb_y_pred)\n",
        "print('Confusion matrix')\n",
        "print(cm)"
      ],
      "id": "13c8c90f"
    },
    {
      "cell_type": "markdown",
      "source": [
        "## Model 4"
      ],
      "metadata": {
        "id": "JxUmz8fI1Rjc"
      },
      "id": "JxUmz8fI1Rjc"
    },
    {
      "cell_type": "code",
      "execution_count": null,
      "metadata": {
        "id": "6l7Jp-ZiyhxZ"
      },
      "outputs": [],
      "source": [
        "lgbmodel = lgb.LGBMClassifier()#,max_depth=12,n_estimators =300, random_state=42, eval_metric=\"auc\")\n",
        "param_dist = {'n_estimators': stats.randint(150, 1000),\n",
        "              'learning_rate': stats.uniform(0.01, 0.4),\n",
        "              'subsample': stats.uniform(0.3, 0.9),\n",
        "              'max_depth': [3, 4, 5, 6, 7, 8, 9],\n",
        "              'colsample_bytree': stats.uniform(0.5, 0.9),\n",
        "              'min_child_weight': [1, 2, 3, 4],\n",
        "\n",
        "             }\n",
        "lgb_grd_param={'learning_rate': [0.01,0.03,.1,0.4,0.5],\n",
        "        'max_depth': [4,6,7]}\n",
        "clf = RandomizedSearchCV(lgbmodel, param_distributions = param_dist, n_iter = 25, scoring = 'roc_auc', error_score = 0, verbose = 3, n_jobs = -1)\n",
        "numFolds = 5\n",
        "#kfold_5 = KFold(shuffle = True, n_splits = numFolds)\n",
        "#clf = GridSearchCV(estimator=lgbmodel,param_grid= lgb_grd_param, cv= 5)\n",
        "clf.fit(x_train, np.ravel(y_train))\n",
        "print(clf.best_params_)\n"
      ],
      "id": "6l7Jp-ZiyhxZ"
    },
    {
      "cell_type": "code",
      "execution_count": null,
      "metadata": {
        "colab": {
          "base_uri": "https://localhost:8080/"
        },
        "id": "IM7W8ENxwS3_",
        "outputId": "73b07260-2f72-4040-ba02-74869ea6d9ba"
      },
      "outputs": [
        {
          "output_type": "stream",
          "name": "stdout",
          "text": [
            "precision =0.7425715974423728\n",
            "accuracy =0.737253996356452\n",
            "recall =0.7172141782137111\n",
            "F1 Score =0.7296726504751848\n",
            "ROC AUC Score=0.7370327894722636\n",
            "              precision    recall  f1-score   support\n",
            "\n",
            "           0       0.73      0.76      0.74     19704\n",
            "           1       0.74      0.72      0.73     19269\n",
            "\n",
            "    accuracy                           0.74     38973\n",
            "   macro avg       0.74      0.74      0.74     38973\n",
            "weighted avg       0.74      0.74      0.74     38973\n",
            "\n",
            "Confusion matrix\n",
            "[[14913  4791]\n",
            " [ 5449 13820]]\n"
          ]
        }
      ],
      "source": [
        "#lgm_model =lgb.LGBMClassifier(colsample_bytree= 0.7949951580157151, learning_rate= 0.08330626670329541,max_depth= 4, min_child_weight= 2, n_estimators= 496, subsample= 0.7419145863951754)#colsample_bytree= 0.5548373185268561, learning_rate= 0.037987079408496834, max_depth= 4, min_child_weight= 1, n_estimators= 854, subsample= 0.7605763851013588) #lgb.LGBMClassifier(colsample_bytree= 0.8738454250096039, learning_rate= 0.35244106032605377, max_depth= 3, min_child_weight= 2, n_estimators= 221, subsample= 0.8620625458537563)#(num_leaves=5,n_estimators=200,learning_rate=.1)#,max_depth=12,n_estimators =300, random_state=42, eval_metric=\"auc\")#lgb.LGBMClassifier(learning_rate= 0.4, max_depth= 4)#\\\n",
        "#lgm_model =lgb.LGBMClassifier(colsample_bytree= 0.5, learning_rate= 0.1,max_depth= 4, min_child_weight= 2, n_estimators= 500, subsample= 0.7)#colsample_bytree= 0.5548373185268561, learning_rate= 0.037987079408496834, max_depth= 4, min_child_weight= 1, n_estimators= 854, subsample= 0.7605763851013588) #lgb.LGBMClassifier(colsample_bytree= 0.8738454250096039, learning_rate= 0.35244106032605377, max_depth= 3, min_child_weight= 2, n_estimators= 221, subsample= 0.8620625458537563)#(num_leaves=5,n_estimators=200,learning_rate=.1)#,max_depth=12,n_estimators =300, random_state=42, eval_metric=\"auc\")#lgb.LGBMClassifier(learning_rate= 0.4, max_depth= 4)#\n",
        "#lgm_model =lgb.LGBMClassifier(colsample_bytree= 1, learning_rate= 0.4,max_depth= 5, min_child_weight= 0.0001, n_estimators= 496, subsample= .7)\n",
        "lgm_model =lgb.LGBMClassifier(colsample_bytree= .7, learning_rate= 0.032,max_depth= 4, min_child_weight= 0.0001, n_estimators= 496, subsample= .7)\n",
        "lgm_model.fit(x_train, np.ravel(y_train) )#,early_stopping_rounds=20, eval_set=[(x_train, y_train),(x_test, y_test)], verbose=False)\n",
        "\n",
        "lgm_y_pred = lgm_model.predict(x_test)\n",
        "best_preds=np.asarray([np.argmax(line) for line in lgm_y_pred])\n",
        "print('precision ={}'.format(precision_score(y_test,lgm_y_pred)))#best_preds,average='macro')))\n",
        "print('accuracy ={}'.format(accuracy_score(y_test,lgm_y_pred)))#best_preds)))\n",
        "print('recall ={}'.format(recall_score(y_test,lgm_y_pred)))#best_preds,average='macro')))\n",
        "print('F1 Score ={}'.format(f1_score(y_test, lgm_y_pred)))\n",
        "print('ROC AUC Score={}'.format(roc_auc_score(y_test, lgm_y_pred)))\n",
        "print(classification_report(y_test, lgm_y_pred))\n",
        "    \n",
        "cm = confusion_matrix(y_test, lgm_y_pred)\n",
        "print('Confusion matrix')\n",
        "print(cm)"
      ],
      "id": "IM7W8ENxwS3_"
    },
    {
      "cell_type": "code",
      "source": [
        "lgm_model"
      ],
      "metadata": {
        "colab": {
          "base_uri": "https://localhost:8080/"
        },
        "id": "FEnqhMYUZLpi",
        "outputId": "bc03ebf3-8042-4010-f026-5823e4e7a485"
      },
      "id": "FEnqhMYUZLpi",
      "execution_count": null,
      "outputs": [
        {
          "output_type": "execute_result",
          "data": {
            "text/plain": [
              "LGBMClassifier(learning_rate=0.4, max_depth=4)"
            ]
          },
          "metadata": {},
          "execution_count": 109
        }
      ]
    },
    {
      "cell_type": "code",
      "execution_count": null,
      "metadata": {
        "colab": {
          "base_uri": "https://localhost:8080/"
        },
        "id": "dPfMrPwzy5yV",
        "outputId": "74e4d67e-9d73-4336-e7ae-d04f79ce8878"
      },
      "outputs": [
        {
          "data": {
            "text/plain": [
              "LGBMClassifier(n_estimators=200, num_leaves=5)"
            ]
          },
          "execution_count": 41,
          "metadata": {},
          "output_type": "execute_result"
        }
      ],
      "source": [
        "lgm_model"
      ],
      "id": "dPfMrPwzy5yV"
    },
    {
      "cell_type": "markdown",
      "source": [
        "## Model5"
      ],
      "metadata": {
        "id": "Yj0ahTL31WcX"
      },
      "id": "Yj0ahTL31WcX"
    },
    {
      "cell_type": "code",
      "execution_count": null,
      "metadata": {
        "id": "450e162d",
        "colab": {
          "base_uri": "https://localhost:8080/"
        },
        "outputId": "58ad5916-1930-4fb2-c5e0-b033a4a9635f"
      },
      "outputs": [
        {
          "output_type": "stream",
          "name": "stderr",
          "text": [
            "/usr/local/lib/python3.7/dist-packages/sklearn/utils/validation.py:993: DataConversionWarning: A column-vector y was passed when a 1d array was expected. Please change the shape of y to (n_samples, ), for example using ravel().\n",
            "  y = column_or_1d(y, warn=True)\n"
          ]
        },
        {
          "output_type": "execute_result",
          "data": {
            "text/plain": [
              "SVC(gamma='auto')"
            ]
          },
          "metadata": {},
          "execution_count": 100
        }
      ],
      "source": [
        "svc=SVC(gamma='auto')\n",
        "\n",
        "svc.fit(x_train, y_train)\n",
        "\n"
      ],
      "id": "450e162d"
    },
    {
      "cell_type": "code",
      "execution_count": null,
      "metadata": {
        "id": "339c8f0b",
        "colab": {
          "base_uri": "https://localhost:8080/"
        },
        "outputId": "8e778996-2c4c-4b7d-e6eb-c8f6c5356ad5"
      },
      "outputs": [
        {
          "output_type": "stream",
          "name": "stdout",
          "text": [
            "precision =0.8115065410043607\n",
            "accuracy =0.7290827453495831\n",
            "recall =0.5942215584281815\n",
            "F1 Score =0.6860710569347407\n",
            "ROC AUC Score=0.7285966162117388\n",
            "              precision    recall  f1-score   support\n",
            "\n",
            "           0       0.68      0.86      0.76     19558\n",
            "           1       0.81      0.59      0.69     19417\n",
            "\n",
            "    accuracy                           0.73     38975\n",
            "   macro avg       0.75      0.73      0.72     38975\n",
            "weighted avg       0.75      0.73      0.72     38975\n",
            "\n",
            "Confusion matrix\n",
            "[[16878  2680]\n",
            " [ 7879 11538]]\n"
          ]
        }
      ],
      "source": [
        "y_pred = svc.predict(x_test)\n",
        "best_preds=np.asarray([np.argmax(line) for line in y_pred])\n",
        "print('precision ={}'.format(precision_score(y_test,y_pred)))#best_preds,average='macro')))\n",
        "print('accuracy ={}'.format(accuracy_score(y_test,y_pred)))#best_preds)))\n",
        "print('recall ={}'.format(recall_score(y_test,y_pred)))#best_preds,average='macro')))\n",
        "print('F1 Score ={}'.format(f1_score(y_test, y_pred)))\n",
        "print('ROC AUC Score={}'.format(roc_auc_score(y_test, y_pred)))\n",
        "print(classification_report(y_test, y_pred))\n",
        "    \n",
        "cm = confusion_matrix(y_test, y_pred)\n",
        "print('Confusion matrix')\n",
        "print(cm)"
      ],
      "id": "339c8f0b"
    },
    {
      "cell_type": "markdown",
      "source": [
        "##Model 6"
      ],
      "metadata": {
        "id": "NhQh7zsAiIhQ"
      },
      "id": "NhQh7zsAiIhQ"
    },
    {
      "cell_type": "code",
      "source": [
        "dc_data=preprocessing_data(df)"
      ],
      "metadata": {
        "colab": {
          "base_uri": "https://localhost:8080/"
        },
        "id": "l0Nl7PUyiMKq",
        "outputId": "bc1bc775-bd55-4d76-b273-feb58f0e426d"
      },
      "id": "l0Nl7PUyiMKq",
      "execution_count": 317,
      "outputs": [
        {
          "output_type": "stream",
          "name": "stdout",
          "text": [
            "convert all object features as categorical\n",
            "Replace Null\n",
            "Replacing the Compensation data with mean(for float type) \n",
            "Replacing the Vehicle_Status data with  mode (for categorical type values)\n",
            "Replacing the Annuity_amt data with mean(for float type) \n",
            "Replacing the density_Ind data with mean(for float type) \n",
            "Replacing the Job_Type data with  mode (for categorical type values)\n",
            "Replacing the Prop_List data with  mode (for categorical type values)\n",
            "Replacing the Home_Appliances data with mean(for float type) \n",
            "Replacing the Credit_Inq data with  mode (for categorical type values)\n",
            "Replacing the Experience data with mean(for float type) \n",
            "Replacing the Income_Alt data with  mode (for categorical type values)\n",
            "Replacing the Company_Rating data with mean(for float type) \n",
            "Replacing the c1_rated data with mean(for float type) \n",
            "Replacing the c2_rated data with mean(for float type) \n",
            "Replacing the Contact_age data with mean(for float type) \n",
            "Remove outlier\n",
            "Onehot Encoding\n"
          ]
        }
      ]
    },
    {
      "cell_type": "code",
      "source": [
        "dc_data.head(5)"
      ],
      "metadata": {
        "colab": {
          "base_uri": "https://localhost:8080/",
          "height": 287
        },
        "id": "wxGcu5QyicU_",
        "outputId": "8ac652fc-7b11-47d6-8c62-85520ac0889c"
      },
      "id": "wxGcu5QyicU_",
      "execution_count": 318,
      "outputs": [
        {
          "output_type": "execute_result",
          "data": {
            "text/plain": [
              "   Compensation  Loan_amt  Annuity_amt  density_Ind  Prop_List  \\\n",
              "0      801850.0  658040.0     13816.52       0.0304          2   \n",
              "1      884222.0  198075.0     11173.06       0.0194          2   \n",
              "2      284120.0  101056.0      8390.40       0.0118          1   \n",
              "3      341874.0  179008.0      7184.13       0.0373          0   \n",
              "4     1259895.0  573715.0     13212.77       0.0138          2   \n",
              "\n",
              "   Home_Appliances  Credit_Inq  Credit_Lnks  Experience  Dependents  \\\n",
              "0         3.220891           1            1    0.900000         3.0   \n",
              "1         1.000000           2            1    3.000000         3.0   \n",
              "2         4.000000           3            1    6.580616         2.0   \n",
              "3         2.000000           1            1    4.700000         4.0   \n",
              "4         1.000000           2            2    6.900000         3.0   \n",
              "\n",
              "   Company_Rating   Age  hour_Process  c1_rated  c2_rated  Contact_age  \\\n",
              "0             2.0  46.0          10.0  0.077000     0.077         18.0   \n",
              "1             2.0  46.0          12.0  0.184000     0.184        306.0   \n",
              "2             2.0  57.0           5.0  0.538000     0.538        281.0   \n",
              "3             2.0  39.0          12.0  0.505929     0.561         20.0   \n",
              "4             2.0  32.0          16.0  0.505929     0.200       2339.0   \n",
              "\n",
              "   Product_bought  Default  Vehicle_Status_Y  Job_Type_IT  Job_Type_Non-IT  \\\n",
              "0             2.0      1.0                 1            1                0   \n",
              "1             4.0      0.0                 0            1                0   \n",
              "2             4.0      0.0                 0            0                0   \n",
              "3             4.0      0.0                 0            0                1   \n",
              "4             6.0      0.0                 1            0                1   \n",
              "\n",
              "   Default_hist_ndf  Region_Type_Rural  Region_Type_other  \\\n",
              "0                 1                  0                  0   \n",
              "1                 1                  0                  0   \n",
              "2                 1                  0                  0   \n",
              "3                 0                  0                  0   \n",
              "4                 1                  1                  0   \n",
              "\n",
              "   Education_det_Other  Education_det_P_Grad  Marital_Stat_Married  \\\n",
              "0                    0                     0                     1   \n",
              "1                    0                     0                     1   \n",
              "2                    1                     0                     1   \n",
              "3                    0                     0                     1   \n",
              "4                    0                     0                     1   \n",
              "\n",
              "   Marital_Stat_Single  Marital_Stat_Widow  Gen_M  Income_Alt_Y  \\\n",
              "0                    0                   0      0             0   \n",
              "1                    0                   0      1             0   \n",
              "2                    0                   0      1             0   \n",
              "3                    0                   0      1             0   \n",
              "4                    0                   0      0             1   \n",
              "\n",
              "   Day_Process_SAT  Day_Process_Sun  Day_Process_Tue  Day_Process_mon  \\\n",
              "0                1                0                0                0   \n",
              "1                0                0                0                0   \n",
              "2                0                0                0                1   \n",
              "3                0                0                0                0   \n",
              "4                0                1                0                0   \n",
              "\n",
              "   Day_Process_thur  Day_Process_wed  Ph.No_Yes  Type_Loan_RLoan  Region_East  \\\n",
              "0                 0                0          1                0            1   \n",
              "1                 0                1          1                0            0   \n",
              "2                 0                0          1                0            0   \n",
              "3                 0                1          1                1            0   \n",
              "4                 0                0          1                0            0   \n",
              "\n",
              "   Region_North  Region_South  Addr_permanent_Yes  Permanent_Addr_tag_Yes  \n",
              "0             0             0                   1                       0  \n",
              "1             1             0                   1                       1  \n",
              "2             1             0                   1                       1  \n",
              "3             0             1                   1                       1  \n",
              "4             1             0                   1                       1  "
            ],
            "text/html": [
              "\n",
              "  <div id=\"df-c380d7b6-3b39-4b87-9dd8-4e7fb2cc1cdd\">\n",
              "    <div class=\"colab-df-container\">\n",
              "      <div>\n",
              "<style scoped>\n",
              "    .dataframe tbody tr th:only-of-type {\n",
              "        vertical-align: middle;\n",
              "    }\n",
              "\n",
              "    .dataframe tbody tr th {\n",
              "        vertical-align: top;\n",
              "    }\n",
              "\n",
              "    .dataframe thead th {\n",
              "        text-align: right;\n",
              "    }\n",
              "</style>\n",
              "<table border=\"1\" class=\"dataframe\">\n",
              "  <thead>\n",
              "    <tr style=\"text-align: right;\">\n",
              "      <th></th>\n",
              "      <th>Compensation</th>\n",
              "      <th>Loan_amt</th>\n",
              "      <th>Annuity_amt</th>\n",
              "      <th>density_Ind</th>\n",
              "      <th>Prop_List</th>\n",
              "      <th>Home_Appliances</th>\n",
              "      <th>Credit_Inq</th>\n",
              "      <th>Credit_Lnks</th>\n",
              "      <th>Experience</th>\n",
              "      <th>Dependents</th>\n",
              "      <th>Company_Rating</th>\n",
              "      <th>Age</th>\n",
              "      <th>hour_Process</th>\n",
              "      <th>c1_rated</th>\n",
              "      <th>c2_rated</th>\n",
              "      <th>Contact_age</th>\n",
              "      <th>Product_bought</th>\n",
              "      <th>Default</th>\n",
              "      <th>Vehicle_Status_Y</th>\n",
              "      <th>Job_Type_IT</th>\n",
              "      <th>Job_Type_Non-IT</th>\n",
              "      <th>Default_hist_ndf</th>\n",
              "      <th>Region_Type_Rural</th>\n",
              "      <th>Region_Type_other</th>\n",
              "      <th>Education_det_Other</th>\n",
              "      <th>Education_det_P_Grad</th>\n",
              "      <th>Marital_Stat_Married</th>\n",
              "      <th>Marital_Stat_Single</th>\n",
              "      <th>Marital_Stat_Widow</th>\n",
              "      <th>Gen_M</th>\n",
              "      <th>Income_Alt_Y</th>\n",
              "      <th>Day_Process_SAT</th>\n",
              "      <th>Day_Process_Sun</th>\n",
              "      <th>Day_Process_Tue</th>\n",
              "      <th>Day_Process_mon</th>\n",
              "      <th>Day_Process_thur</th>\n",
              "      <th>Day_Process_wed</th>\n",
              "      <th>Ph.No_Yes</th>\n",
              "      <th>Type_Loan_RLoan</th>\n",
              "      <th>Region_East</th>\n",
              "      <th>Region_North</th>\n",
              "      <th>Region_South</th>\n",
              "      <th>Addr_permanent_Yes</th>\n",
              "      <th>Permanent_Addr_tag_Yes</th>\n",
              "    </tr>\n",
              "  </thead>\n",
              "  <tbody>\n",
              "    <tr>\n",
              "      <th>0</th>\n",
              "      <td>801850.0</td>\n",
              "      <td>658040.0</td>\n",
              "      <td>13816.52</td>\n",
              "      <td>0.0304</td>\n",
              "      <td>2</td>\n",
              "      <td>3.220891</td>\n",
              "      <td>1</td>\n",
              "      <td>1</td>\n",
              "      <td>0.900000</td>\n",
              "      <td>3.0</td>\n",
              "      <td>2.0</td>\n",
              "      <td>46.0</td>\n",
              "      <td>10.0</td>\n",
              "      <td>0.077000</td>\n",
              "      <td>0.077</td>\n",
              "      <td>18.0</td>\n",
              "      <td>2.0</td>\n",
              "      <td>1.0</td>\n",
              "      <td>1</td>\n",
              "      <td>1</td>\n",
              "      <td>0</td>\n",
              "      <td>1</td>\n",
              "      <td>0</td>\n",
              "      <td>0</td>\n",
              "      <td>0</td>\n",
              "      <td>0</td>\n",
              "      <td>1</td>\n",
              "      <td>0</td>\n",
              "      <td>0</td>\n",
              "      <td>0</td>\n",
              "      <td>0</td>\n",
              "      <td>1</td>\n",
              "      <td>0</td>\n",
              "      <td>0</td>\n",
              "      <td>0</td>\n",
              "      <td>0</td>\n",
              "      <td>0</td>\n",
              "      <td>1</td>\n",
              "      <td>0</td>\n",
              "      <td>1</td>\n",
              "      <td>0</td>\n",
              "      <td>0</td>\n",
              "      <td>1</td>\n",
              "      <td>0</td>\n",
              "    </tr>\n",
              "    <tr>\n",
              "      <th>1</th>\n",
              "      <td>884222.0</td>\n",
              "      <td>198075.0</td>\n",
              "      <td>11173.06</td>\n",
              "      <td>0.0194</td>\n",
              "      <td>2</td>\n",
              "      <td>1.000000</td>\n",
              "      <td>2</td>\n",
              "      <td>1</td>\n",
              "      <td>3.000000</td>\n",
              "      <td>3.0</td>\n",
              "      <td>2.0</td>\n",
              "      <td>46.0</td>\n",
              "      <td>12.0</td>\n",
              "      <td>0.184000</td>\n",
              "      <td>0.184</td>\n",
              "      <td>306.0</td>\n",
              "      <td>4.0</td>\n",
              "      <td>0.0</td>\n",
              "      <td>0</td>\n",
              "      <td>1</td>\n",
              "      <td>0</td>\n",
              "      <td>1</td>\n",
              "      <td>0</td>\n",
              "      <td>0</td>\n",
              "      <td>0</td>\n",
              "      <td>0</td>\n",
              "      <td>1</td>\n",
              "      <td>0</td>\n",
              "      <td>0</td>\n",
              "      <td>1</td>\n",
              "      <td>0</td>\n",
              "      <td>0</td>\n",
              "      <td>0</td>\n",
              "      <td>0</td>\n",
              "      <td>0</td>\n",
              "      <td>0</td>\n",
              "      <td>1</td>\n",
              "      <td>1</td>\n",
              "      <td>0</td>\n",
              "      <td>0</td>\n",
              "      <td>1</td>\n",
              "      <td>0</td>\n",
              "      <td>1</td>\n",
              "      <td>1</td>\n",
              "    </tr>\n",
              "    <tr>\n",
              "      <th>2</th>\n",
              "      <td>284120.0</td>\n",
              "      <td>101056.0</td>\n",
              "      <td>8390.40</td>\n",
              "      <td>0.0118</td>\n",
              "      <td>1</td>\n",
              "      <td>4.000000</td>\n",
              "      <td>3</td>\n",
              "      <td>1</td>\n",
              "      <td>6.580616</td>\n",
              "      <td>2.0</td>\n",
              "      <td>2.0</td>\n",
              "      <td>57.0</td>\n",
              "      <td>5.0</td>\n",
              "      <td>0.538000</td>\n",
              "      <td>0.538</td>\n",
              "      <td>281.0</td>\n",
              "      <td>4.0</td>\n",
              "      <td>0.0</td>\n",
              "      <td>0</td>\n",
              "      <td>0</td>\n",
              "      <td>0</td>\n",
              "      <td>1</td>\n",
              "      <td>0</td>\n",
              "      <td>0</td>\n",
              "      <td>1</td>\n",
              "      <td>0</td>\n",
              "      <td>1</td>\n",
              "      <td>0</td>\n",
              "      <td>0</td>\n",
              "      <td>1</td>\n",
              "      <td>0</td>\n",
              "      <td>0</td>\n",
              "      <td>0</td>\n",
              "      <td>0</td>\n",
              "      <td>1</td>\n",
              "      <td>0</td>\n",
              "      <td>0</td>\n",
              "      <td>1</td>\n",
              "      <td>0</td>\n",
              "      <td>0</td>\n",
              "      <td>1</td>\n",
              "      <td>0</td>\n",
              "      <td>1</td>\n",
              "      <td>1</td>\n",
              "    </tr>\n",
              "    <tr>\n",
              "      <th>3</th>\n",
              "      <td>341874.0</td>\n",
              "      <td>179008.0</td>\n",
              "      <td>7184.13</td>\n",
              "      <td>0.0373</td>\n",
              "      <td>0</td>\n",
              "      <td>2.000000</td>\n",
              "      <td>1</td>\n",
              "      <td>1</td>\n",
              "      <td>4.700000</td>\n",
              "      <td>4.0</td>\n",
              "      <td>2.0</td>\n",
              "      <td>39.0</td>\n",
              "      <td>12.0</td>\n",
              "      <td>0.505929</td>\n",
              "      <td>0.561</td>\n",
              "      <td>20.0</td>\n",
              "      <td>4.0</td>\n",
              "      <td>0.0</td>\n",
              "      <td>0</td>\n",
              "      <td>0</td>\n",
              "      <td>1</td>\n",
              "      <td>0</td>\n",
              "      <td>0</td>\n",
              "      <td>0</td>\n",
              "      <td>0</td>\n",
              "      <td>0</td>\n",
              "      <td>1</td>\n",
              "      <td>0</td>\n",
              "      <td>0</td>\n",
              "      <td>1</td>\n",
              "      <td>0</td>\n",
              "      <td>0</td>\n",
              "      <td>0</td>\n",
              "      <td>0</td>\n",
              "      <td>0</td>\n",
              "      <td>0</td>\n",
              "      <td>1</td>\n",
              "      <td>1</td>\n",
              "      <td>1</td>\n",
              "      <td>0</td>\n",
              "      <td>0</td>\n",
              "      <td>1</td>\n",
              "      <td>1</td>\n",
              "      <td>1</td>\n",
              "    </tr>\n",
              "    <tr>\n",
              "      <th>4</th>\n",
              "      <td>1259895.0</td>\n",
              "      <td>573715.0</td>\n",
              "      <td>13212.77</td>\n",
              "      <td>0.0138</td>\n",
              "      <td>2</td>\n",
              "      <td>1.000000</td>\n",
              "      <td>2</td>\n",
              "      <td>2</td>\n",
              "      <td>6.900000</td>\n",
              "      <td>3.0</td>\n",
              "      <td>2.0</td>\n",
              "      <td>32.0</td>\n",
              "      <td>16.0</td>\n",
              "      <td>0.505929</td>\n",
              "      <td>0.200</td>\n",
              "      <td>2339.0</td>\n",
              "      <td>6.0</td>\n",
              "      <td>0.0</td>\n",
              "      <td>1</td>\n",
              "      <td>0</td>\n",
              "      <td>1</td>\n",
              "      <td>1</td>\n",
              "      <td>1</td>\n",
              "      <td>0</td>\n",
              "      <td>0</td>\n",
              "      <td>0</td>\n",
              "      <td>1</td>\n",
              "      <td>0</td>\n",
              "      <td>0</td>\n",
              "      <td>0</td>\n",
              "      <td>1</td>\n",
              "      <td>0</td>\n",
              "      <td>1</td>\n",
              "      <td>0</td>\n",
              "      <td>0</td>\n",
              "      <td>0</td>\n",
              "      <td>0</td>\n",
              "      <td>1</td>\n",
              "      <td>0</td>\n",
              "      <td>0</td>\n",
              "      <td>1</td>\n",
              "      <td>0</td>\n",
              "      <td>1</td>\n",
              "      <td>1</td>\n",
              "    </tr>\n",
              "  </tbody>\n",
              "</table>\n",
              "</div>\n",
              "      <button class=\"colab-df-convert\" onclick=\"convertToInteractive('df-c380d7b6-3b39-4b87-9dd8-4e7fb2cc1cdd')\"\n",
              "              title=\"Convert this dataframe to an interactive table.\"\n",
              "              style=\"display:none;\">\n",
              "        \n",
              "  <svg xmlns=\"http://www.w3.org/2000/svg\" height=\"24px\"viewBox=\"0 0 24 24\"\n",
              "       width=\"24px\">\n",
              "    <path d=\"M0 0h24v24H0V0z\" fill=\"none\"/>\n",
              "    <path d=\"M18.56 5.44l.94 2.06.94-2.06 2.06-.94-2.06-.94-.94-2.06-.94 2.06-2.06.94zm-11 1L8.5 8.5l.94-2.06 2.06-.94-2.06-.94L8.5 2.5l-.94 2.06-2.06.94zm10 10l.94 2.06.94-2.06 2.06-.94-2.06-.94-.94-2.06-.94 2.06-2.06.94z\"/><path d=\"M17.41 7.96l-1.37-1.37c-.4-.4-.92-.59-1.43-.59-.52 0-1.04.2-1.43.59L10.3 9.45l-7.72 7.72c-.78.78-.78 2.05 0 2.83L4 21.41c.39.39.9.59 1.41.59.51 0 1.02-.2 1.41-.59l7.78-7.78 2.81-2.81c.8-.78.8-2.07 0-2.86zM5.41 20L4 18.59l7.72-7.72 1.47 1.35L5.41 20z\"/>\n",
              "  </svg>\n",
              "      </button>\n",
              "      \n",
              "  <style>\n",
              "    .colab-df-container {\n",
              "      display:flex;\n",
              "      flex-wrap:wrap;\n",
              "      gap: 12px;\n",
              "    }\n",
              "\n",
              "    .colab-df-convert {\n",
              "      background-color: #E8F0FE;\n",
              "      border: none;\n",
              "      border-radius: 50%;\n",
              "      cursor: pointer;\n",
              "      display: none;\n",
              "      fill: #1967D2;\n",
              "      height: 32px;\n",
              "      padding: 0 0 0 0;\n",
              "      width: 32px;\n",
              "    }\n",
              "\n",
              "    .colab-df-convert:hover {\n",
              "      background-color: #E2EBFA;\n",
              "      box-shadow: 0px 1px 2px rgba(60, 64, 67, 0.3), 0px 1px 3px 1px rgba(60, 64, 67, 0.15);\n",
              "      fill: #174EA6;\n",
              "    }\n",
              "\n",
              "    [theme=dark] .colab-df-convert {\n",
              "      background-color: #3B4455;\n",
              "      fill: #D2E3FC;\n",
              "    }\n",
              "\n",
              "    [theme=dark] .colab-df-convert:hover {\n",
              "      background-color: #434B5C;\n",
              "      box-shadow: 0px 1px 3px 1px rgba(0, 0, 0, 0.15);\n",
              "      filter: drop-shadow(0px 1px 2px rgba(0, 0, 0, 0.3));\n",
              "      fill: #FFFFFF;\n",
              "    }\n",
              "  </style>\n",
              "\n",
              "      <script>\n",
              "        const buttonEl =\n",
              "          document.querySelector('#df-c380d7b6-3b39-4b87-9dd8-4e7fb2cc1cdd button.colab-df-convert');\n",
              "        buttonEl.style.display =\n",
              "          google.colab.kernel.accessAllowed ? 'block' : 'none';\n",
              "\n",
              "        async function convertToInteractive(key) {\n",
              "          const element = document.querySelector('#df-c380d7b6-3b39-4b87-9dd8-4e7fb2cc1cdd');\n",
              "          const dataTable =\n",
              "            await google.colab.kernel.invokeFunction('convertToInteractive',\n",
              "                                                     [key], {});\n",
              "          if (!dataTable) return;\n",
              "\n",
              "          const docLinkHtml = 'Like what you see? Visit the ' +\n",
              "            '<a target=\"_blank\" href=https://colab.research.google.com/notebooks/data_table.ipynb>data table notebook</a>'\n",
              "            + ' to learn more about interactive tables.';\n",
              "          element.innerHTML = '';\n",
              "          dataTable['output_type'] = 'display_data';\n",
              "          await google.colab.output.renderOutput(dataTable, element);\n",
              "          const docLink = document.createElement('div');\n",
              "          docLink.innerHTML = docLinkHtml;\n",
              "          element.appendChild(docLink);\n",
              "        }\n",
              "      </script>\n",
              "    </div>\n",
              "  </div>\n",
              "  "
            ]
          },
          "metadata": {},
          "execution_count": 318
        }
      ]
    },
    {
      "cell_type": "code",
      "source": [
        "x1=dc_data.drop(['Default'],axis=1)\n",
        "y1=pd.DataFrame(dc_data['Default'])\n",
        "cols=['Region_South', 'density_Ind', 'Contact_age', 'Compensation',\n",
        "       'Experience', 'Loan_amt', 'Annuity_amt', 'c2_rated', 'Region_East',\n",
        "       'c1_rated', 'Age', 'hour_Process', 'Credit_Inq', 'Product_bought',\n",
        "       'Region_North', 'Home_Appliances', 'Dependents', 'Prop_List',\n",
        "       'Job_Type_IT', 'Vehicle_Status_Y', 'Day_Process_SAT', 'Day_Process_wed',\n",
        "       'Marital_Stat_Single', 'Day_Process_thur', 'Day_Process_mon',\n",
        "       'Job_Type_Non-IT', 'Day_Process_Tue', 'Education_det_P_Grad', 'Gen_M',\n",
        "       'Marital_Stat_Married']\n",
        "\n",
        "x1=x1[cols]\n"
      ],
      "metadata": {
        "id": "SW4OqnQPi09P"
      },
      "id": "SW4OqnQPi09P",
      "execution_count": 330,
      "outputs": []
    },
    {
      "cell_type": "code",
      "source": [
        "xdc_train,xdc_test,ydc_train,ydc_test=splitData(x1,y1)"
      ],
      "metadata": {
        "id": "ttDTea5OiizL"
      },
      "id": "ttDTea5OiizL",
      "execution_count": 331,
      "outputs": []
    },
    {
      "cell_type": "code",
      "source": [
        "for max_d in range(1,21):\n",
        "  model = DecisionTreeClassifier(max_depth=max_d, random_state=42)\n",
        "  model.fit(xdc_train, ydc_train)\n",
        "  print('The Training Accuracy for max_depth {} is:'.format(max_d), model.score(xdc_train, ydc_train))\n",
        "  print('The Validation Accuracy for max_depth {} is:'.format(max_d), model.score(xdc_test,ydc_test))\n",
        "  print('-')\n"
      ],
      "metadata": {
        "colab": {
          "base_uri": "https://localhost:8080/"
        },
        "id": "EsaNN4XKlDDn",
        "outputId": "7e974fd3-e0a4-4790-80a1-6aee391f2717"
      },
      "id": "EsaNN4XKlDDn",
      "execution_count": 342,
      "outputs": [
        {
          "output_type": "stream",
          "name": "stdout",
          "text": [
            "The Training Accuracy for max_depth 1 is: 0.7357765780730897\n",
            "The Validation Accuracy for max_depth 1 is: 0.7353896103896104\n",
            "-\n",
            "The Training Accuracy for max_depth 2 is: 0.7357765780730897\n",
            "The Validation Accuracy for max_depth 2 is: 0.7353896103896104\n",
            "-\n",
            "The Training Accuracy for max_depth 3 is: 0.7357765780730897\n",
            "The Validation Accuracy for max_depth 3 is: 0.7353896103896104\n",
            "-\n",
            "The Training Accuracy for max_depth 4 is: 0.7357954545454546\n",
            "The Validation Accuracy for max_depth 4 is: 0.7353896103896104\n",
            "-\n",
            "The Training Accuracy for max_depth 5 is: 0.7359936575052854\n",
            "The Validation Accuracy for max_depth 5 is: 0.734823316218665\n",
            "-\n",
            "The Training Accuracy for max_depth 6 is: 0.736342872244035\n",
            "The Validation Accuracy for max_depth 6 is: 0.7342570220477197\n",
            "-\n",
            "The Training Accuracy for max_depth 7 is: 0.7369752340682574\n",
            "The Validation Accuracy for max_depth 7 is: 0.7338417396556931\n",
            "-\n",
            "The Training Accuracy for max_depth 8 is: 0.738287148897614\n",
            "The Validation Accuracy for max_depth 8 is: 0.7324448807006947\n",
            "-\n",
            "The Training Accuracy for max_depth 9 is: 0.7400332225913622\n",
            "The Validation Accuracy for max_depth 9 is: 0.73180308064029\n",
            "-\n",
            "The Training Accuracy for max_depth 10 is: 0.7424966022349744\n",
            "The Validation Accuracy for max_depth 10 is: 0.727914527333132\n",
            "-\n",
            "The Training Accuracy for max_depth 11 is: 0.746356840833585\n",
            "The Validation Accuracy for max_depth 11 is: 0.7256493506493507\n",
            "-\n",
            "The Training Accuracy for max_depth 12 is: 0.7514157354273633\n",
            "The Validation Accuracy for max_depth 12 is: 0.7231576562971912\n",
            "-\n",
            "The Training Accuracy for max_depth 13 is: 0.7572296889157354\n",
            "The Validation Accuracy for max_depth 13 is: 0.7200996677740864\n",
            "-\n",
            "The Training Accuracy for max_depth 14 is: 0.7639874660223498\n",
            "The Validation Accuracy for max_depth 14 is: 0.7177967381455753\n",
            "-\n",
            "The Training Accuracy for max_depth 15 is: 0.7716513138024766\n",
            "The Validation Accuracy for max_depth 15 is: 0.7135306553911205\n",
            "-\n",
            "The Training Accuracy for max_depth 16 is: 0.7810895499848988\n",
            "The Validation Accuracy for max_depth 16 is: 0.7087737843551797\n",
            "-\n",
            "The Training Accuracy for max_depth 17 is: 0.7916509362730293\n",
            "The Validation Accuracy for max_depth 17 is: 0.7003171247357294\n",
            "-\n",
            "The Training Accuracy for max_depth 18 is: 0.8029673814557535\n",
            "The Validation Accuracy for max_depth 18 is: 0.6971836303231652\n",
            "-\n",
            "The Training Accuracy for max_depth 19 is: 0.8150200090607067\n",
            "The Validation Accuracy for max_depth 19 is: 0.6889157354273633\n",
            "-\n",
            "The Training Accuracy for max_depth 20 is: 0.8279975838115373\n",
            "The Validation Accuracy for max_depth 20 is: 0.685064935064935\n",
            "-\n"
          ]
        }
      ]
    },
    {
      "cell_type": "code",
      "source": [
        "dctree = DecisionTreeClassifier(criterion = \"entropy\", random_state = 100,\n",
        "                               max_depth=10, min_samples_leaf=5)\n",
        "\n",
        "\n",
        "dctree.fit(xdc_train, ydc_train)\n",
        "tree_y_pred = dctree.predict(xdc_test)\n",
        "best_preds=np.asarray([np.argmax(line) for line in tree_y_pred])\n",
        "print('precision ={}'.format(precision_score(ydc_test,tree_y_pred)))#best_preds,average='macro')))\n",
        "print('accuracy ={}'.format(accuracy_score(ydc_test,tree_y_pred)))#best_preds)))\n",
        "print('recall ={}'.format(recall_score(ydc_test,tree_y_pred)))#best_preds,average='macro')))\n",
        "print('F1 Score ={}'.format(f1_score(ydc_test, tree_y_pred)))\n",
        "print('ROC AUC Score={}'.format(roc_auc_score(ydc_test, tree_y_pred)))\n",
        "print(classification_report(ydc_test, tree_y_pred))\n",
        "    \n",
        "cm = confusion_matrix(ydc_test, tree_y_pred)\n",
        "print('Confusion matrix')\n",
        "print(cm)"
      ],
      "metadata": {
        "colab": {
          "base_uri": "https://localhost:8080/"
        },
        "id": "ruftu2IwcdZY",
        "outputId": "0a2be07a-c4a0-4f36-ed5e-7efcb04e4cec"
      },
      "id": "ruftu2IwcdZY",
      "execution_count": 343,
      "outputs": [
        {
          "output_type": "stream",
          "name": "stdout",
          "text": [
            "precision =0.3048780487804878\n",
            "accuracy =0.7317653276955602\n",
            "recall =0.010700527892709373\n",
            "F1 Score =0.020675396278428668\n",
            "ROC AUC Score=0.5009609215776499\n",
            "              precision    recall  f1-score   support\n",
            "\n",
            "           0       0.74      0.99      0.84     19479\n",
            "           1       0.30      0.01      0.02      7009\n",
            "\n",
            "    accuracy                           0.73     26488\n",
            "   macro avg       0.52      0.50      0.43     26488\n",
            "weighted avg       0.62      0.73      0.63     26488\n",
            "\n",
            "Confusion matrix\n",
            "[[19308   171]\n",
            " [ 6934    75]]\n"
          ]
        }
      ]
    },
    {
      "cell_type": "code",
      "source": [
        "models = {\n",
        "    'RandomForestClassifier': RandomForestClassifier(n_estimators=100   ),\n",
        "    'KNeighboursClassifier': KNeighborsClassifier(n_neighbors=5,weights='distance'),\n",
        "    'LogisticRegression': LogisticRegression(C=1),\n",
        "    'DecisionTreeClassifier':DecisionTreeClassifier(criterion = 'entropy' ),\n",
        "    #'SVM':SVC(gamma='auto'),\n",
        "    'GaussianNB':GaussianNB(),\n",
        "    'Bagging':BaggingClassifier(n_estimators=10, max_samples= .7, bootstrap=True),\n",
        "    'AdaBoostClassifier':AdaBoostClassifier( n_estimators= 20),\n",
        "    'GradientBoosting':GradientBoostingClassifier(n_estimators = 50, learning_rate = 0.05),\n",
        "    'XGBClassifier':xgb.XGBClassifier(learning_rate=0.4, max_depth= 6),\n",
        "    'LGBMClassifier':lgb.LGBMClassifier(colsample_bytree= .7, learning_rate= 0.032,max_depth= 4, min_child_weight= 0.0001, n_estimators= 496, subsample= .7)\n",
        "\n",
        "}"
      ],
      "metadata": {
        "id": "8JV3SaOa3hZ2"
      },
      "id": "8JV3SaOa3hZ2",
      "execution_count": null,
      "outputs": []
    },
    {
      "cell_type": "code",
      "execution_count": null,
      "metadata": {
        "id": "e9ad8c88",
        "colab": {
          "base_uri": "https://localhost:8080/"
        },
        "outputId": "e45685b9-3a83-494c-cd69-f1b59805423a"
      },
      "outputs": [
        {
          "output_type": "stream",
          "name": "stdout",
          "text": [
            "---------------------Evaluating models------\n",
            "RandomForestClassifier\n",
            "KNeighboursClassifier\n",
            "LogisticRegression\n",
            "DecisionTreeClassifier\n",
            "GaussianNB\n",
            "Bagging\n",
            "AdaBoostClassifier\n",
            "GradientBoosting\n",
            "XGBClassifier\n",
            "LGBMClassifier\n",
            "--------------------- Model performances -------------------\n",
            "                Method  Test_accuracy  Train_accuracy  MSE  auc  Precision  Recall   f1\n",
            "RandomForestClassifier           0.79            1.00 0.21 0.79       0.92    0.62 0.74\n",
            "    LogisticRegression           0.77            0.75 0.23 0.77       0.87    0.63 0.73\n",
            "            GaussianNB           0.75            0.75 0.25 0.75       0.80    0.67 0.73\n",
            "      GradientBoosting           0.76            0.76 0.24 0.76       0.82    0.66 0.73\n",
            "        LGBMClassifier           0.74            0.78 0.26 0.74       0.74    0.72 0.73\n",
            " KNeighboursClassifier           0.74            1.00 0.26 0.74       0.75    0.69 0.72\n",
            "    AdaBoostClassifier           0.74            0.73 0.26 0.74       0.76    0.69 0.72\n",
            "         XGBClassifier           0.72            0.81 0.28 0.72       0.71    0.73 0.72\n",
            "               Bagging           0.75            0.95 0.25 0.75       0.83    0.61 0.71\n",
            "DecisionTreeClassifier           0.68            1.00 0.32 0.68       0.67    0.69 0.68\n"
          ]
        }
      ],
      "source": [
        "res=pd.DataFrame()\n",
        "    #logger.info(\"Evaluating models.\")\n",
        "    #EVALUATE THE MODELS AND GET BEST PERFORMING MODEL\n",
        "print('---------------------Evaluating models------')\n",
        "res=evaluate_model(models,x_train,y_train,x_test,y_test)\n",
        "model=models.get(res['Method'])"
      ],
      "id": "e9ad8c88"
    },
    {
      "cell_type": "code",
      "source": [
        "y_pred = xgb_model.predict(x_test)\n",
        "best_preds=np.asarray([np.argmax(line) for line in y_pred])\n",
        "   \n",
        "cm = confusion_matrix(y_test, y_pred)\n",
        "print('Confusion matrix for XGBClassifier')\n",
        "print(cm)\n",
        "y_pred = lgm_model.predict(x_test)\n",
        "best_preds=np.asarray([np.argmax(line) for line in y_pred])\n",
        "   \n",
        "cm = confusion_matrix(y_test, y_pred)\n",
        "print('Confusion matrix for LGMClassifier')\n",
        "print(cm)"
      ],
      "metadata": {
        "colab": {
          "base_uri": "https://localhost:8080/"
        },
        "id": "y8SujPq5FaIi",
        "outputId": "cefb07ea-6b0e-4b8f-87cc-6f3d6dbcf18d"
      },
      "id": "y8SujPq5FaIi",
      "execution_count": null,
      "outputs": [
        {
          "output_type": "stream",
          "name": "stdout",
          "text": [
            "Confusion matrix for XGBClassifier\n",
            "[[13992  5712]\n",
            " [ 5124 14145]]\n",
            "Confusion matrix for LGMClassifier\n",
            "[[14913  4791]\n",
            " [ 5449 13820]]\n"
          ]
        }
      ]
    },
    {
      "cell_type": "markdown",
      "source": [
        " Observation\n",
        "* XGBClassifier and LGBMClassifier has highest f1 score .75. \n",
        "* In this usecase we need to look into reducing Type II error. Predicted value is negative when actually it is positive which means bank is wrongly predicting a actual defaulter as non defaulter which will impact the busines of the bank directly. We will choose XGBClassifier as FN is lower than LGBMClassifier.\n"
      ],
      "metadata": {
        "id": "v4r0RXYsFy19"
      },
      "id": "v4r0RXYsFy19"
    },
    {
      "cell_type": "markdown",
      "source": [
        "##Test Data Execution"
      ],
      "metadata": {
        "id": "IITp9EJVnWSX"
      },
      "id": "IITp9EJVnWSX"
    },
    {
      "cell_type": "code",
      "execution_count": 349,
      "metadata": {
        "id": "5cda86b7"
      },
      "outputs": [],
      "source": [
        "\n",
        "cols=['ID','Region_South', 'density_Ind', 'Contact_age', 'Compensation',\n",
        "       'Experience', 'Loan_amt', 'Annuity_amt', 'c2_rated', 'Region_East',\n",
        "       'c1_rated', 'Age', 'hour_Process', 'Credit_Inq', 'Product_bought',\n",
        "       'Region_North', 'Home_Appliances', 'Dependents', 'Prop_List',\n",
        "       'Job_Type_IT', 'Vehicle_Status_Y', 'Day_Process_SAT', 'Day_Process_wed',\n",
        "       'Marital_Stat_Single', 'Day_Process_thur', 'Day_Process_mon',\n",
        "       'Job_Type_Non-IT', 'Day_Process_Tue', 'Education_det_P_Grad', 'Gen_M',\n",
        "       'Marital_Stat_Married']\n"
      ],
      "id": "5cda86b7"
    },
    {
      "cell_type": "code",
      "execution_count": 350,
      "metadata": {
        "id": "1c500e7a"
      },
      "outputs": [],
      "source": [
        "###Transform test data\n",
        "#dftest = dftest.drop (dftest.index[df ['hour_Process'] == 25])\n",
        "convertedtestdata=removeNull(dftest)\n",
        "\n",
        "convertedtestdata['Age']=convertedtestdata['Age'].astype(np.int64)\n",
        "\n",
        "convertedtestdata['hour_Process']=convertedtestdata['hour_Process'].replace([24],0) \n",
        "\n",
        "convertedtestdata['hour_Process']=convertedtestdata['hour_Process'].astype(np.int64)\n",
        "#df['hour_Process']=df['hour_Process'].astype('category')\n",
        "\n",
        "convertedtestdata['Company_Rating']=convertedtestdata['Company_Rating'].astype(np.int64)\n",
        "convertedtestdata['Product_bought']=convertedtestdata['Product_bought'].astype(np.int64)\n",
        "convertedtestdata['Contact_age']=convertedtestdata['Contact_age'].astype(np.int64)\n",
        "\n",
        "\n",
        "#df['Credit_Inq']=df['Credit_Inq'].astype('category')\n",
        "convertedtestdata['Home_Appliances']=convertedtestdata['Home_Appliances'].astype(np.int64)\n",
        "convertedtestdata['Dependents']=convertedtestdata['Dependents'].astype(np.int64)\n",
        "\n",
        "\n",
        "#convert all object features as categorical\n",
        "convertedtestdata=convertCategoryfeature(convertedtestdata)\n",
        "#encode categorical features\n",
        "convertedtestdata=OnehotEncoding(convertedtestdata)"
      ],
      "id": "1c500e7a"
    },
    {
      "cell_type": "code",
      "execution_count": 351,
      "metadata": {
        "id": "8922cc93"
      },
      "outputs": [],
      "source": [
        "convertedtestdata=convertedtestdata[cols]"
      ],
      "id": "8922cc93"
    },
    {
      "cell_type": "code",
      "execution_count": null,
      "metadata": {
        "id": "8ed62764",
        "colab": {
          "base_uri": "https://localhost:8080/"
        },
        "outputId": "117b80d8-c831-4ad4-bfb8-b5295c65ef91"
      },
      "outputs": [
        {
          "output_type": "stream",
          "name": "stdout",
          "text": [
            "Final Model:  LGBMClassifier(colsample_bytree=0.7, learning_rate=0.032, max_depth=4,\n",
            "               min_child_weight=0.0001, n_estimators=496, subsample=0.7)\n"
          ]
        }
      ],
      "source": [
        "print('Final Model: ',lgm_model)"
      ],
      "id": "8ed62764"
    },
    {
      "cell_type": "code",
      "execution_count": 352,
      "metadata": {
        "id": "0f94c079"
      },
      "outputs": [],
      "source": [
        "#finalModel.fit(x_train,y_train)\n",
        "data=convertedtestdata.drop('ID',axis=1)\n"
      ],
      "id": "0f94c079"
    },
    {
      "cell_type": "code",
      "execution_count": null,
      "metadata": {
        "id": "454ed25e"
      },
      "outputs": [],
      "source": [
        "minmax=MinMaxScaler()\n",
        "\n",
        "testdata=pd.DataFrame(minmax.fit_transform(data))\n",
        "testdata.columns=data.columns\n"
      ],
      "id": "454ed25e"
    },
    {
      "cell_type": "code",
      "source": [
        "testdata.head(5)"
      ],
      "metadata": {
        "colab": {
          "base_uri": "https://localhost:8080/",
          "height": 287
        },
        "id": "K23YpyWUssV8",
        "outputId": "08f486fd-f0a8-4c7a-a612-c8a70c8ba040"
      },
      "id": "K23YpyWUssV8",
      "execution_count": 356,
      "outputs": [
        {
          "output_type": "execute_result",
          "data": {
            "text/plain": [
              "   Region_South  density_Ind  Contact_age  Compensation  Experience  Loan_amt  \\\n",
              "0           0.0     0.000736     0.761893      0.029471    0.112266  0.285959   \n",
              "1           0.0     0.016297     0.419615      0.016687    0.047817  0.013969   \n",
              "2           1.0     0.015511     0.182727      0.019893    0.228690  0.085821   \n",
              "3           0.0     0.015708     0.146133      0.047231    0.201663  0.217369   \n",
              "4           0.0     0.003583     0.295682      0.069209    0.137012  0.182638   \n",
              "\n",
              "   Annuity_amt  c2_rated  Region_East  c1_rated       Age  hour_Process  \\\n",
              "0     0.096208  0.370882          0.0  0.370882  0.375000          0.44   \n",
              "1     0.050590  0.251860          0.0  0.251860  0.520833          0.52   \n",
              "2     0.092694  0.117960          0.0  0.117960  0.250000          0.60   \n",
              "3     0.211411  0.343252          1.0  0.343252  0.562500          0.48   \n",
              "4     0.178992  0.998937          0.0  0.998937  0.666667          0.28   \n",
              "\n",
              "   Credit_Inq  Product_bought  Region_North  Home_Appliances  Dependents  \\\n",
              "0    0.000000        0.076923           1.0         0.000000       0.250   \n",
              "1    0.000000        0.192308           0.0         0.166667       0.125   \n",
              "2    0.000000        0.153846           0.0         0.111111       0.250   \n",
              "3    0.000000        0.153846           0.0         0.166667       0.125   \n",
              "4    0.666667        0.038462           1.0         0.166667       0.125   \n",
              "\n",
              "   Prop_List  Job_Type_IT  Vehicle_Status_Y  Day_Process_SAT  Day_Process_wed  \\\n",
              "0        1.0          0.0               1.0              0.0              0.0   \n",
              "1        0.5          0.0               0.0              0.0              1.0   \n",
              "2        1.0          1.0               0.0              0.0              0.0   \n",
              "3        0.5          1.0               0.0              0.0              0.0   \n",
              "4        0.5          0.0               0.0              0.0              1.0   \n",
              "\n",
              "   Marital_Stat_Single  Day_Process_thur  Day_Process_mon  Job_Type_Non-IT  \\\n",
              "0                  0.0               1.0              0.0              0.0   \n",
              "1                  0.0               0.0              0.0              0.0   \n",
              "2                  0.0               1.0              0.0              0.0   \n",
              "3                  0.0               0.0              0.0              0.0   \n",
              "4                  0.0               0.0              0.0              1.0   \n",
              "\n",
              "   Day_Process_Tue  Education_det_P_Grad  Gen_M  Marital_Stat_Married  \n",
              "0              0.0                   0.0    1.0                   1.0  \n",
              "1              0.0                   0.0    1.0                   1.0  \n",
              "2              0.0                   0.0    1.0                   1.0  \n",
              "3              1.0                   0.0    1.0                   1.0  \n",
              "4              0.0                   1.0    0.0                   1.0  "
            ],
            "text/html": [
              "\n",
              "  <div id=\"df-b9334e0b-08e1-4e67-bd21-ba88c5295601\">\n",
              "    <div class=\"colab-df-container\">\n",
              "      <div>\n",
              "<style scoped>\n",
              "    .dataframe tbody tr th:only-of-type {\n",
              "        vertical-align: middle;\n",
              "    }\n",
              "\n",
              "    .dataframe tbody tr th {\n",
              "        vertical-align: top;\n",
              "    }\n",
              "\n",
              "    .dataframe thead th {\n",
              "        text-align: right;\n",
              "    }\n",
              "</style>\n",
              "<table border=\"1\" class=\"dataframe\">\n",
              "  <thead>\n",
              "    <tr style=\"text-align: right;\">\n",
              "      <th></th>\n",
              "      <th>Region_South</th>\n",
              "      <th>density_Ind</th>\n",
              "      <th>Contact_age</th>\n",
              "      <th>Compensation</th>\n",
              "      <th>Experience</th>\n",
              "      <th>Loan_amt</th>\n",
              "      <th>Annuity_amt</th>\n",
              "      <th>c2_rated</th>\n",
              "      <th>Region_East</th>\n",
              "      <th>c1_rated</th>\n",
              "      <th>Age</th>\n",
              "      <th>hour_Process</th>\n",
              "      <th>Credit_Inq</th>\n",
              "      <th>Product_bought</th>\n",
              "      <th>Region_North</th>\n",
              "      <th>Home_Appliances</th>\n",
              "      <th>Dependents</th>\n",
              "      <th>Prop_List</th>\n",
              "      <th>Job_Type_IT</th>\n",
              "      <th>Vehicle_Status_Y</th>\n",
              "      <th>Day_Process_SAT</th>\n",
              "      <th>Day_Process_wed</th>\n",
              "      <th>Marital_Stat_Single</th>\n",
              "      <th>Day_Process_thur</th>\n",
              "      <th>Day_Process_mon</th>\n",
              "      <th>Job_Type_Non-IT</th>\n",
              "      <th>Day_Process_Tue</th>\n",
              "      <th>Education_det_P_Grad</th>\n",
              "      <th>Gen_M</th>\n",
              "      <th>Marital_Stat_Married</th>\n",
              "    </tr>\n",
              "  </thead>\n",
              "  <tbody>\n",
              "    <tr>\n",
              "      <th>0</th>\n",
              "      <td>0.0</td>\n",
              "      <td>0.000736</td>\n",
              "      <td>0.761893</td>\n",
              "      <td>0.029471</td>\n",
              "      <td>0.112266</td>\n",
              "      <td>0.285959</td>\n",
              "      <td>0.096208</td>\n",
              "      <td>0.370882</td>\n",
              "      <td>0.0</td>\n",
              "      <td>0.370882</td>\n",
              "      <td>0.375000</td>\n",
              "      <td>0.44</td>\n",
              "      <td>0.000000</td>\n",
              "      <td>0.076923</td>\n",
              "      <td>1.0</td>\n",
              "      <td>0.000000</td>\n",
              "      <td>0.250</td>\n",
              "      <td>1.0</td>\n",
              "      <td>0.0</td>\n",
              "      <td>1.0</td>\n",
              "      <td>0.0</td>\n",
              "      <td>0.0</td>\n",
              "      <td>0.0</td>\n",
              "      <td>1.0</td>\n",
              "      <td>0.0</td>\n",
              "      <td>0.0</td>\n",
              "      <td>0.0</td>\n",
              "      <td>0.0</td>\n",
              "      <td>1.0</td>\n",
              "      <td>1.0</td>\n",
              "    </tr>\n",
              "    <tr>\n",
              "      <th>1</th>\n",
              "      <td>0.0</td>\n",
              "      <td>0.016297</td>\n",
              "      <td>0.419615</td>\n",
              "      <td>0.016687</td>\n",
              "      <td>0.047817</td>\n",
              "      <td>0.013969</td>\n",
              "      <td>0.050590</td>\n",
              "      <td>0.251860</td>\n",
              "      <td>0.0</td>\n",
              "      <td>0.251860</td>\n",
              "      <td>0.520833</td>\n",
              "      <td>0.52</td>\n",
              "      <td>0.000000</td>\n",
              "      <td>0.192308</td>\n",
              "      <td>0.0</td>\n",
              "      <td>0.166667</td>\n",
              "      <td>0.125</td>\n",
              "      <td>0.5</td>\n",
              "      <td>0.0</td>\n",
              "      <td>0.0</td>\n",
              "      <td>0.0</td>\n",
              "      <td>1.0</td>\n",
              "      <td>0.0</td>\n",
              "      <td>0.0</td>\n",
              "      <td>0.0</td>\n",
              "      <td>0.0</td>\n",
              "      <td>0.0</td>\n",
              "      <td>0.0</td>\n",
              "      <td>1.0</td>\n",
              "      <td>1.0</td>\n",
              "    </tr>\n",
              "    <tr>\n",
              "      <th>2</th>\n",
              "      <td>1.0</td>\n",
              "      <td>0.015511</td>\n",
              "      <td>0.182727</td>\n",
              "      <td>0.019893</td>\n",
              "      <td>0.228690</td>\n",
              "      <td>0.085821</td>\n",
              "      <td>0.092694</td>\n",
              "      <td>0.117960</td>\n",
              "      <td>0.0</td>\n",
              "      <td>0.117960</td>\n",
              "      <td>0.250000</td>\n",
              "      <td>0.60</td>\n",
              "      <td>0.000000</td>\n",
              "      <td>0.153846</td>\n",
              "      <td>0.0</td>\n",
              "      <td>0.111111</td>\n",
              "      <td>0.250</td>\n",
              "      <td>1.0</td>\n",
              "      <td>1.0</td>\n",
              "      <td>0.0</td>\n",
              "      <td>0.0</td>\n",
              "      <td>0.0</td>\n",
              "      <td>0.0</td>\n",
              "      <td>1.0</td>\n",
              "      <td>0.0</td>\n",
              "      <td>0.0</td>\n",
              "      <td>0.0</td>\n",
              "      <td>0.0</td>\n",
              "      <td>1.0</td>\n",
              "      <td>1.0</td>\n",
              "    </tr>\n",
              "    <tr>\n",
              "      <th>3</th>\n",
              "      <td>0.0</td>\n",
              "      <td>0.015708</td>\n",
              "      <td>0.146133</td>\n",
              "      <td>0.047231</td>\n",
              "      <td>0.201663</td>\n",
              "      <td>0.217369</td>\n",
              "      <td>0.211411</td>\n",
              "      <td>0.343252</td>\n",
              "      <td>1.0</td>\n",
              "      <td>0.343252</td>\n",
              "      <td>0.562500</td>\n",
              "      <td>0.48</td>\n",
              "      <td>0.000000</td>\n",
              "      <td>0.153846</td>\n",
              "      <td>0.0</td>\n",
              "      <td>0.166667</td>\n",
              "      <td>0.125</td>\n",
              "      <td>0.5</td>\n",
              "      <td>1.0</td>\n",
              "      <td>0.0</td>\n",
              "      <td>0.0</td>\n",
              "      <td>0.0</td>\n",
              "      <td>0.0</td>\n",
              "      <td>0.0</td>\n",
              "      <td>0.0</td>\n",
              "      <td>0.0</td>\n",
              "      <td>1.0</td>\n",
              "      <td>0.0</td>\n",
              "      <td>1.0</td>\n",
              "      <td>1.0</td>\n",
              "    </tr>\n",
              "    <tr>\n",
              "      <th>4</th>\n",
              "      <td>0.0</td>\n",
              "      <td>0.003583</td>\n",
              "      <td>0.295682</td>\n",
              "      <td>0.069209</td>\n",
              "      <td>0.137012</td>\n",
              "      <td>0.182638</td>\n",
              "      <td>0.178992</td>\n",
              "      <td>0.998937</td>\n",
              "      <td>0.0</td>\n",
              "      <td>0.998937</td>\n",
              "      <td>0.666667</td>\n",
              "      <td>0.28</td>\n",
              "      <td>0.666667</td>\n",
              "      <td>0.038462</td>\n",
              "      <td>1.0</td>\n",
              "      <td>0.166667</td>\n",
              "      <td>0.125</td>\n",
              "      <td>0.5</td>\n",
              "      <td>0.0</td>\n",
              "      <td>0.0</td>\n",
              "      <td>0.0</td>\n",
              "      <td>1.0</td>\n",
              "      <td>0.0</td>\n",
              "      <td>0.0</td>\n",
              "      <td>0.0</td>\n",
              "      <td>1.0</td>\n",
              "      <td>0.0</td>\n",
              "      <td>1.0</td>\n",
              "      <td>0.0</td>\n",
              "      <td>1.0</td>\n",
              "    </tr>\n",
              "  </tbody>\n",
              "</table>\n",
              "</div>\n",
              "      <button class=\"colab-df-convert\" onclick=\"convertToInteractive('df-b9334e0b-08e1-4e67-bd21-ba88c5295601')\"\n",
              "              title=\"Convert this dataframe to an interactive table.\"\n",
              "              style=\"display:none;\">\n",
              "        \n",
              "  <svg xmlns=\"http://www.w3.org/2000/svg\" height=\"24px\"viewBox=\"0 0 24 24\"\n",
              "       width=\"24px\">\n",
              "    <path d=\"M0 0h24v24H0V0z\" fill=\"none\"/>\n",
              "    <path d=\"M18.56 5.44l.94 2.06.94-2.06 2.06-.94-2.06-.94-.94-2.06-.94 2.06-2.06.94zm-11 1L8.5 8.5l.94-2.06 2.06-.94-2.06-.94L8.5 2.5l-.94 2.06-2.06.94zm10 10l.94 2.06.94-2.06 2.06-.94-2.06-.94-.94-2.06-.94 2.06-2.06.94z\"/><path d=\"M17.41 7.96l-1.37-1.37c-.4-.4-.92-.59-1.43-.59-.52 0-1.04.2-1.43.59L10.3 9.45l-7.72 7.72c-.78.78-.78 2.05 0 2.83L4 21.41c.39.39.9.59 1.41.59.51 0 1.02-.2 1.41-.59l7.78-7.78 2.81-2.81c.8-.78.8-2.07 0-2.86zM5.41 20L4 18.59l7.72-7.72 1.47 1.35L5.41 20z\"/>\n",
              "  </svg>\n",
              "      </button>\n",
              "      \n",
              "  <style>\n",
              "    .colab-df-container {\n",
              "      display:flex;\n",
              "      flex-wrap:wrap;\n",
              "      gap: 12px;\n",
              "    }\n",
              "\n",
              "    .colab-df-convert {\n",
              "      background-color: #E8F0FE;\n",
              "      border: none;\n",
              "      border-radius: 50%;\n",
              "      cursor: pointer;\n",
              "      display: none;\n",
              "      fill: #1967D2;\n",
              "      height: 32px;\n",
              "      padding: 0 0 0 0;\n",
              "      width: 32px;\n",
              "    }\n",
              "\n",
              "    .colab-df-convert:hover {\n",
              "      background-color: #E2EBFA;\n",
              "      box-shadow: 0px 1px 2px rgba(60, 64, 67, 0.3), 0px 1px 3px 1px rgba(60, 64, 67, 0.15);\n",
              "      fill: #174EA6;\n",
              "    }\n",
              "\n",
              "    [theme=dark] .colab-df-convert {\n",
              "      background-color: #3B4455;\n",
              "      fill: #D2E3FC;\n",
              "    }\n",
              "\n",
              "    [theme=dark] .colab-df-convert:hover {\n",
              "      background-color: #434B5C;\n",
              "      box-shadow: 0px 1px 3px 1px rgba(0, 0, 0, 0.15);\n",
              "      filter: drop-shadow(0px 1px 2px rgba(0, 0, 0, 0.3));\n",
              "      fill: #FFFFFF;\n",
              "    }\n",
              "  </style>\n",
              "\n",
              "      <script>\n",
              "        const buttonEl =\n",
              "          document.querySelector('#df-b9334e0b-08e1-4e67-bd21-ba88c5295601 button.colab-df-convert');\n",
              "        buttonEl.style.display =\n",
              "          google.colab.kernel.accessAllowed ? 'block' : 'none';\n",
              "\n",
              "        async function convertToInteractive(key) {\n",
              "          const element = document.querySelector('#df-b9334e0b-08e1-4e67-bd21-ba88c5295601');\n",
              "          const dataTable =\n",
              "            await google.colab.kernel.invokeFunction('convertToInteractive',\n",
              "                                                     [key], {});\n",
              "          if (!dataTable) return;\n",
              "\n",
              "          const docLinkHtml = 'Like what you see? Visit the ' +\n",
              "            '<a target=\"_blank\" href=https://colab.research.google.com/notebooks/data_table.ipynb>data table notebook</a>'\n",
              "            + ' to learn more about interactive tables.';\n",
              "          element.innerHTML = '';\n",
              "          dataTable['output_type'] = 'display_data';\n",
              "          await google.colab.output.renderOutput(dataTable, element);\n",
              "          const docLink = document.createElement('div');\n",
              "          docLink.innerHTML = docLinkHtml;\n",
              "          element.appendChild(docLink);\n",
              "        }\n",
              "      </script>\n",
              "    </div>\n",
              "  </div>\n",
              "  "
            ]
          },
          "metadata": {},
          "execution_count": 356
        }
      ]
    },
    {
      "cell_type": "code",
      "execution_count": 354,
      "metadata": {
        "id": "9698af7e"
      },
      "outputs": [],
      "source": [
        "y_pred = lgm_model.predict(testdata)"
      ],
      "id": "9698af7e"
    },
    {
      "cell_type": "code",
      "execution_count": 355,
      "metadata": {
        "id": "e3e50681"
      },
      "outputs": [],
      "source": [
        "res = pd.DataFrame(y_pred)\n",
        "res.index = convertedtestdata['ID'] # its important for comparison\n",
        "res.columns = [\"Default\"]\n",
        "res.to_csv(\"/content/drive/MyDrive/AI/prediction_results.csv\")\n"
      ],
      "id": "e3e50681"
    },
    {
      "cell_type": "code",
      "execution_count": null,
      "metadata": {
        "id": "cb1ea76f"
      },
      "outputs": [],
      "source": [
        ""
      ],
      "id": "cb1ea76f"
    },
    {
      "cell_type": "markdown",
      "source": [
        "##Reccomendation\n",
        "\n",
        "\n",
        "\n",
        "*  Target RLoan as it has lower default chance   \n",
        "*  Applicants with job title  IT tends to defaults most.Perform background check for IT jobtype applicants\n",
        "*   Increase processing staff during active hours(10 to 2) as Default rates are more during active hours of working days from 10 to 14.\n",
        "*   Bank need to focus on Lower Contact Age(10 to 20) as it is tend to default\n",
        "*   Increase backgound check for applicants with no Default history as they have higher chance to default\n",
        "*   Avoid applicants with No Alternate income specified.\n",
        "*   Avoid processing loan on Saturday as it has higher ratio of defaults\n",
        "\n",
        "    \n",
        "\n",
        "\n",
        "\n",
        "Applicants with ony one property have higher chance to default\n",
        "Applicant from Metro have higher chance to default\n",
        "History with one credit Inquery have higher chance to default\n",
        "applocants with 1to 3 Credit_Lnks tend to default\n",
        "\n"
      ],
      "metadata": {
        "id": "kBGeurwIoVEg"
      },
      "id": "kBGeurwIoVEg"
    },
    {
      "cell_type": "code",
      "source": [
        ""
      ],
      "metadata": {
        "id": "xgapel3sqqYy"
      },
      "id": "xgapel3sqqYy",
      "execution_count": null,
      "outputs": []
    }
  ],
  "metadata": {
    "accelerator": "GPU",
    "colab": {
      "name": "Untitled20.ipynb",
      "provenance": []
    },
    "gpuClass": "standard",
    "kernelspec": {
      "display_name": "Python 3 (ipykernel)",
      "language": "python",
      "name": "python3"
    },
    "language_info": {
      "codemirror_mode": {
        "name": "ipython",
        "version": 3
      },
      "file_extension": ".py",
      "mimetype": "text/x-python",
      "name": "python",
      "nbconvert_exporter": "python",
      "pygments_lexer": "ipython3",
      "version": "3.9.7"
    }
  },
  "nbformat": 4,
  "nbformat_minor": 5
}